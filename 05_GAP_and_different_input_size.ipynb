{
  "cells": [
    {
      "cell_type": "code",
      "source": [
        "!wget https://raw.githubusercontent.com/Alireza-Akhavan/SRU-deeplearning-workshop/master/dataset.py\n",
        "#!mkdir dataset\n",
        "!wget https://github.com/Alireza-Akhavan/SRU-deeplearning-workshop/raw/master/dataset/Data_hoda_full.mat -P dataset"
      ],
      "metadata": {
        "id": "JVttLo9tJIaf",
        "outputId": "73840275-5e73-4797-c2e5-b8dc4c4bc838",
        "colab": {
          "base_uri": "https://localhost:8080/"
        }
      },
      "execution_count": 4,
      "outputs": [
        {
          "output_type": "stream",
          "name": "stdout",
          "text": [
            "--2024-01-02 09:15:33--  https://raw.githubusercontent.com/Alireza-Akhavan/SRU-deeplearning-workshop/master/dataset.py\n",
            "Resolving raw.githubusercontent.com (raw.githubusercontent.com)... 185.199.109.133, 185.199.110.133, 185.199.108.133, ...\n",
            "Connecting to raw.githubusercontent.com (raw.githubusercontent.com)|185.199.109.133|:443... connected.\n",
            "HTTP request sent, awaiting response... 200 OK\n",
            "Length: 917 [text/plain]\n",
            "Saving to: ‘dataset.py.1’\n",
            "\n",
            "\rdataset.py.1          0%[                    ]       0  --.-KB/s               \rdataset.py.1        100%[===================>]     917  --.-KB/s    in 0s      \n",
            "\n",
            "2024-01-02 09:15:33 (68.5 MB/s) - ‘dataset.py.1’ saved [917/917]\n",
            "\n",
            "--2024-01-02 09:15:33--  https://github.com/Alireza-Akhavan/SRU-deeplearning-workshop/raw/master/dataset/Data_hoda_full.mat\n",
            "Resolving github.com (github.com)... 140.82.112.3\n",
            "Connecting to github.com (github.com)|140.82.112.3|:443... connected.\n",
            "HTTP request sent, awaiting response... 301 Moved Permanently\n",
            "Location: https://github.com/Alireza-Akhavan/deeplearning-tensorflow2-notebooks/raw/master/dataset/Data_hoda_full.mat [following]\n",
            "--2024-01-02 09:15:34--  https://github.com/Alireza-Akhavan/deeplearning-tensorflow2-notebooks/raw/master/dataset/Data_hoda_full.mat\n",
            "Reusing existing connection to github.com:443.\n",
            "HTTP request sent, awaiting response... 302 Found\n",
            "Location: https://raw.githubusercontent.com/Alireza-Akhavan/deeplearning-tensorflow2-notebooks/master/dataset/Data_hoda_full.mat [following]\n",
            "--2024-01-02 09:15:34--  https://raw.githubusercontent.com/Alireza-Akhavan/deeplearning-tensorflow2-notebooks/master/dataset/Data_hoda_full.mat\n",
            "Resolving raw.githubusercontent.com (raw.githubusercontent.com)... 185.199.108.133, 185.199.109.133, 185.199.110.133, ...\n",
            "Connecting to raw.githubusercontent.com (raw.githubusercontent.com)|185.199.108.133|:443... connected.\n",
            "HTTP request sent, awaiting response... 200 OK\n",
            "Length: 3989009 (3.8M) [application/octet-stream]\n",
            "Saving to: ‘dataset/Data_hoda_full.mat.1’\n",
            "\n",
            "Data_hoda_full.mat. 100%[===================>]   3.80M  --.-KB/s    in 0.05s   \n",
            "\n",
            "2024-01-02 09:15:35 (78.6 MB/s) - ‘dataset/Data_hoda_full.mat.1’ saved [3989009/3989009]\n",
            "\n"
          ]
        }
      ]
    },
    {
      "cell_type": "code",
      "execution_count": 5,
      "metadata": {
        "id": "w2_JpR-JUIrj"
      },
      "outputs": [],
      "source": [
        "# 1. Import libraries and modules\n",
        "from tensorflow import keras\n",
        "from keras import layers\n",
        "from keras.models import Sequential\n",
        "from keras.layers import Dense, Dropout\n",
        "import numpy as np\n",
        "from dataset import load_hoda\n",
        "import matplotlib.pyplot as plt"
      ]
    },
    {
      "cell_type": "code",
      "execution_count": 6,
      "metadata": {
        "id": "nLiGoekmUKt6"
      },
      "outputs": [],
      "source": [
        "# Load pre-shuffled HODA data into train and test sets\n",
        "X_train, y_train, X_test, y_test = load_hoda(\n",
        "                                            training_sample_size=3500,\n",
        "                                            test_sample_size=400,size=32)"
      ]
    },
    {
      "cell_type": "markdown",
      "metadata": {
        "id": "Q00uVKx_UZhF"
      },
      "source": [
        "# reshape"
      ]
    },
    {
      "cell_type": "code",
      "execution_count": 7,
      "metadata": {
        "id": "bO6hlQCsUYh-",
        "outputId": "d86b9ea0-8f26-4ff2-b46b-5656bd66beda",
        "colab": {
          "base_uri": "https://localhost:8080/"
        }
      },
      "outputs": [
        {
          "output_type": "execute_result",
          "data": {
            "text/plain": [
              "(3500, 32, 32, 1)"
            ]
          },
          "metadata": {},
          "execution_count": 7
        }
      ],
      "source": [
        "\n",
        "# Reshape to original image shape (n x 784)  ==> (n x 28 x 28 x 1)\n",
        "X_train_32 = X_train.reshape(-1,32,32,1)\n",
        "X_test_32 = X_test.reshape(-1,32,32,1)\n",
        "X_train_32.shape"
      ]
    },
    {
      "cell_type": "code",
      "execution_count": 8,
      "metadata": {
        "id": "OdESfQ_RWDc-"
      },
      "outputs": [],
      "source": [
        "import cv2\n",
        "import numpy as np"
      ]
    },
    {
      "cell_type": "code",
      "execution_count": 9,
      "metadata": {
        "id": "KQtI0ydoWGq_"
      },
      "outputs": [],
      "source": [
        "X_train_28 = np.zeros((X_train_32.shape[0], 28, 28, 1))\n",
        "for i in range(X_train_32.shape[0]):\n",
        "    # Resize the sample from shape (32, 32, 1) to shape (28, 28, 1) using OpenCV\n",
        "    resized_sample = cv2.resize(X_train_32[i], (28, 28), interpolation=cv2.INTER_AREA)\n",
        "    # Assign the resized sample to the corresponding index in the new numpy array\n",
        "    X_train_28[i] = resized_sample.reshape((28, 28, 1))\n",
        "\n",
        "X_test_28 = np.zeros((X_test_32.shape[0], 28, 28, 1))\n",
        "for i in range(X_test_32.shape[0]):\n",
        "    # Resize the sample from shape (32, 32, 1) to shape (28, 28, 1) using OpenCV\n",
        "    resized_sample = cv2.resize(X_test_32[i], (28, 28), interpolation=cv2.INTER_AREA)\n",
        "    # Assign the resized sample to the corresponding index in the new numpy array\n",
        "    X_test_28[i] = resized_sample.reshape((28, 28, 1))"
      ]
    },
    {
      "cell_type": "code",
      "execution_count": 10,
      "metadata": {
        "id": "s41UhdhCWtPA"
      },
      "outputs": [],
      "source": [
        "import matplotlib.pyplot as plt"
      ]
    },
    {
      "cell_type": "code",
      "execution_count": 11,
      "metadata": {
        "id": "GChfkuUFWv5P",
        "outputId": "263dfa48-f86e-4d59-de43-98a8d54da8ef",
        "colab": {
          "base_uri": "https://localhost:8080/",
          "height": 447
        }
      },
      "outputs": [
        {
          "output_type": "execute_result",
          "data": {
            "text/plain": [
              "<matplotlib.image.AxesImage at 0x7c62cef5ad40>"
            ]
          },
          "metadata": {},
          "execution_count": 11
        },
        {
          "output_type": "display_data",
          "data": {
            "text/plain": [
              "<Figure size 640x480 with 1 Axes>"
            ],
            "image/png": "[encoded data removed]"
          },
          "metadata": {}
        }
      ],
      "source": [
        "plt.imshow(X_test_32[0], cmap='gray')"
      ]
    },
    {
      "cell_type": "code",
      "execution_count": 12,
      "metadata": {
        "id": "mcbcgT0jW8SK",
        "outputId": "3d7d6fac-8f5c-44fa-ebda-87d7651d1db6",
        "colab": {
          "base_uri": "https://localhost:8080/",
          "height": 447
        }
      },
      "outputs": [
        {
          "output_type": "execute_result",
          "data": {
            "text/plain": [
              "<matplotlib.image.AxesImage at 0x7c62cdc16170>"
            ]
          },
          "metadata": {},
          "execution_count": 12
        },
        {
          "output_type": "display_data",
          "data": {
            "text/plain": [
              "<Figure size 640x480 with 1 Axes>"
            ],
            "image/png": "[encoded data removed]"
          },
          "metadata": {}
        }
      ],
      "source": [
        "plt.imshow(X_test_28[0], cmap='gray')"
      ]
    },
    {
      "cell_type": "code",
      "execution_count": 13,
      "metadata": {
        "id": "Vx4hms5gXJX3"
      },
      "outputs": [],
      "source": [
        "# Preprocess input data\n",
        "'''normalize our data values to the range [0, 1]'''\n",
        "X_train_32 = X_train_32.astype('float32')\n",
        "X_test_32 = X_test_32.astype('float32')\n",
        "X_train_32 /= 255\n",
        "X_test_32 /= 255\n",
        "\n",
        "# Preprocess input data\n",
        "'''normalize our data values to the range [0, 1]'''\n",
        "X_train_28 = X_train_28.astype('float32')\n",
        "X_test_28 = X_test_28.astype('float32')\n",
        "X_train_28 /= 255\n",
        "X_test_28 /= 255\n"
      ]
    },
    {
      "cell_type": "code",
      "execution_count": 14,
      "metadata": {
        "id": "Sx0KSwPFXeDN"
      },
      "outputs": [],
      "source": [
        "\n",
        "# 4. Preprocess class labels\n",
        "y_train = keras.utils.to_categorical(y_train)\n",
        "y_test = keras.utils.to_categorical(y_test)\n"
      ]
    },
    {
      "cell_type": "markdown",
      "metadata": {
        "id": "ou-11_zFXf17"
      },
      "source": [
        "# 1st senario"
      ]
    },
    {
      "cell_type": "code",
      "execution_count": 15,
      "metadata": {
        "id": "LeUFlv4nT9zM"
      },
      "outputs": [],
      "source": [
        "# 5. Define model architecture\n",
        "model = Sequential()\n",
        "model.add(layers.Conv2D(32, (3, 3), activation='relu',\n",
        "                        input_shape=(28, 28, 1)))\n",
        "model.add(layers.MaxPooling2D((2, 2)))\n",
        "model.add(layers.Conv2D(64, (3, 3), activation='relu'))\n",
        "model.add(layers.MaxPooling2D((2, 2)))\n",
        "model.add(layers.Conv2D(64, (3, 3), activation='relu'))\n",
        "model.add(layers.MaxPooling2D((3, 3)))\n",
        "model.add(layers.Flatten())\n",
        "model.add(layers.Dense(64, activation='relu'))\n",
        "model.add(Dropout(0.5))\n",
        "model.add(layers.Dense(10, activation='softmax'))\n",
        "\n",
        "\n",
        "# 6. Compile model\n",
        "model.compile(loss='categorical_crossentropy',\n",
        "              optimizer='adam',\n",
        "              metrics=['accuracy'])\n",
        "\n",
        "\n",
        "\n"
      ]
    },
    {
      "cell_type": "code",
      "source": [
        "model.summary()"
      ],
      "metadata": {
        "id": "nT1yzoNTWq3y",
        "outputId": "0008c201-2fbe-40d3-d127-63745624dd27",
        "colab": {
          "base_uri": "https://localhost:8080/"
        }
      },
      "execution_count": 16,
      "outputs": [
        {
          "output_type": "stream",
          "name": "stdout",
          "text": [
            "Model: \"sequential\"\n",
            "_________________________________________________________________\n",
            " Layer (type)                Output Shape              Param #   \n",
            "=================================================================\n",
            " conv2d (Conv2D)             (None, 26, 26, 32)        320       \n",
            "                                                                 \n",
            " max_pooling2d (MaxPooling2  (None, 13, 13, 32)        0         \n",
            " D)                                                              \n",
            "                                                                 \n",
            " conv2d_1 (Conv2D)           (None, 11, 11, 64)        18496     \n",
            "                                                                 \n",
            " max_pooling2d_1 (MaxPoolin  (None, 5, 5, 64)          0         \n",
            " g2D)                                                            \n",
            "                                                                 \n",
            " conv2d_2 (Conv2D)           (None, 3, 3, 64)          36928     \n",
            "                                                                 \n",
            " max_pooling2d_2 (MaxPoolin  (None, 1, 1, 64)          0         \n",
            " g2D)                                                            \n",
            "                                                                 \n",
            " flatten (Flatten)           (None, 64)                0         \n",
            "                                                                 \n",
            " dense (Dense)               (None, 64)                4160      \n",
            "                                                                 \n",
            " dropout (Dropout)           (None, 64)                0         \n",
            "                                                                 \n",
            " dense_1 (Dense)             (None, 10)                650       \n",
            "                                                                 \n",
            "=================================================================\n",
            "Total params: 60554 (236.54 KB)\n",
            "Trainable params: 60554 (236.54 KB)\n",
            "Non-trainable params: 0 (0.00 Byte)\n",
            "_________________________________________________________________\n"
          ]
        }
      ]
    },
    {
      "cell_type": "code",
      "source": [
        "# 5. Define model architecture\n",
        "model2= Sequential()\n",
        "model2.add(layers.Conv2D(32, (3, 3), activation='relu',\n",
        "                        input_shape=(32, 32, 1)))\n",
        "model2.add(layers.MaxPooling2D((2, 2)))\n",
        "model2.add(layers.Conv2D(64, (3, 3), activation='relu'))\n",
        "model2.add(layers.MaxPooling2D((2, 2)))\n",
        "model2.add(layers.Conv2D(64, (3, 3), activation='relu'))\n",
        "model2.add(layers.MaxPooling2D((3, 3)))\n",
        "model2.add(layers.Flatten())\n",
        "model2.add(layers.Dense(64, activation='relu'))\n",
        "model2.add(Dropout(0.5))\n",
        "model2.add(layers.Dense(10, activation='softmax'))\n",
        "\n",
        "\n",
        "# 6. Compile model\n",
        "model2.compile(loss='categorical_crossentropy',\n",
        "              optimizer='adam',\n",
        "              metrics=['accuracy'])"
      ],
      "metadata": {
        "id": "xXeVcm4cWx0C"
      },
      "execution_count": 17,
      "outputs": []
    },
    {
      "cell_type": "code",
      "source": [
        "model2.summary()"
      ],
      "metadata": {
        "id": "ZjyJa36QW4aT",
        "outputId": "e84a9da1-a03c-4cc5-9dc5-cc6ad9dd0068",
        "colab": {
          "base_uri": "https://localhost:8080/"
        }
      },
      "execution_count": 18,
      "outputs": [
        {
          "output_type": "stream",
          "name": "stdout",
          "text": [
            "Model: \"sequential_1\"\n",
            "_________________________________________________________________\n",
            " Layer (type)                Output Shape              Param #   \n",
            "=================================================================\n",
            " conv2d_3 (Conv2D)           (None, 30, 30, 32)        320       \n",
            "                                                                 \n",
            " max_pooling2d_3 (MaxPoolin  (None, 15, 15, 32)        0         \n",
            " g2D)                                                            \n",
            "                                                                 \n",
            " conv2d_4 (Conv2D)           (None, 13, 13, 64)        18496     \n",
            "                                                                 \n",
            " max_pooling2d_4 (MaxPoolin  (None, 6, 6, 64)          0         \n",
            " g2D)                                                            \n",
            "                                                                 \n",
            " conv2d_5 (Conv2D)           (None, 4, 4, 64)          36928     \n",
            "                                                                 \n",
            " max_pooling2d_5 (MaxPoolin  (None, 1, 1, 64)          0         \n",
            " g2D)                                                            \n",
            "                                                                 \n",
            " flatten_1 (Flatten)         (None, 64)                0         \n",
            "                                                                 \n",
            " dense_2 (Dense)             (None, 64)                4160      \n",
            "                                                                 \n",
            " dropout_1 (Dropout)         (None, 64)                0         \n",
            "                                                                 \n",
            " dense_3 (Dense)             (None, 10)                650       \n",
            "                                                                 \n",
            "=================================================================\n",
            "Total params: 60554 (236.54 KB)\n",
            "Trainable params: 60554 (236.54 KB)\n",
            "Non-trainable params: 0 (0.00 Byte)\n",
            "_________________________________________________________________\n"
          ]
        }
      ]
    },
    {
      "cell_type": "code",
      "source": [
        "# 7. Fit model on training data\n",
        "history = model2.fit(X_train_32, y_train,\n",
        "          epochs=200, batch_size=256, validation_split=0.2)"
      ],
      "metadata": {
        "id": "0BAMHloqSzIV",
        "outputId": "44085977-c0a5-48d9-d36d-cb3a63d4b5cc",
        "colab": {
          "base_uri": "https://localhost:8080/"
        }
      },
      "execution_count": 19,
      "outputs": [
        {
          "output_type": "stream",
          "name": "stdout",
          "text": [
            "Epoch 1/200\n",
            "11/11 [==============================] - 7s 83ms/step - loss: 2.2427 - accuracy: 0.1961 - val_loss: 2.1315 - val_accuracy: 0.4771\n",
            "Epoch 2/200\n",
            "11/11 [==============================] - 0s 10ms/step - loss: 1.9911 - accuracy: 0.3564 - val_loss: 1.6436 - val_accuracy: 0.5971\n",
            "Epoch 3/200\n",
            "11/11 [==============================] - 0s 10ms/step - loss: 1.5364 - accuracy: 0.4721 - val_loss: 1.0533 - val_accuracy: 0.7729\n",
            "Epoch 4/200\n",
            "11/11 [==============================] - 0s 11ms/step - loss: 1.1422 - accuracy: 0.6011 - val_loss: 0.6996 - val_accuracy: 0.8029\n",
            "Epoch 5/200\n",
            "11/11 [==============================] - 0s 12ms/step - loss: 0.9148 - accuracy: 0.6729 - val_loss: 0.5084 - val_accuracy: 0.8829\n",
            "Epoch 6/200\n",
            "11/11 [==============================] - 0s 11ms/step - loss: 0.7436 - accuracy: 0.7436 - val_loss: 0.3844 - val_accuracy: 0.9043\n",
            "Epoch 7/200\n",
            "11/11 [==============================] - 0s 10ms/step - loss: 0.6091 - accuracy: 0.7871 - val_loss: 0.3286 - val_accuracy: 0.9086\n",
            "Epoch 8/200\n",
            "11/11 [==============================] - 0s 11ms/step - loss: 0.5311 - accuracy: 0.8264 - val_loss: 0.2840 - val_accuracy: 0.9257\n",
            "Epoch 9/200\n",
            "11/11 [==============================] - 0s 10ms/step - loss: 0.4954 - accuracy: 0.8250 - val_loss: 0.2600 - val_accuracy: 0.9214\n",
            "Epoch 10/200\n",
            "11/11 [==============================] - 0s 10ms/step - loss: 0.4371 - accuracy: 0.8525 - val_loss: 0.2384 - val_accuracy: 0.9386\n",
            "Epoch 11/200\n",
            "11/11 [==============================] - 0s 11ms/step - loss: 0.4292 - accuracy: 0.8554 - val_loss: 0.2380 - val_accuracy: 0.9229\n",
            "Epoch 12/200\n",
            "11/11 [==============================] - 0s 11ms/step - loss: 0.4118 - accuracy: 0.8571 - val_loss: 0.2164 - val_accuracy: 0.9371\n",
            "Epoch 13/200\n",
            "11/11 [==============================] - 0s 11ms/step - loss: 0.3816 - accuracy: 0.8732 - val_loss: 0.2037 - val_accuracy: 0.9414\n",
            "Epoch 14/200\n",
            "11/11 [==============================] - 0s 11ms/step - loss: 0.3645 - accuracy: 0.8779 - val_loss: 0.2059 - val_accuracy: 0.9357\n",
            "Epoch 15/200\n",
            "11/11 [==============================] - 0s 11ms/step - loss: 0.3532 - accuracy: 0.8829 - val_loss: 0.2006 - val_accuracy: 0.9400\n",
            "Epoch 16/200\n",
            "11/11 [==============================] - 0s 11ms/step - loss: 0.3092 - accuracy: 0.9011 - val_loss: 0.1790 - val_accuracy: 0.9414\n",
            "Epoch 17/200\n",
            "11/11 [==============================] - 0s 11ms/step - loss: 0.2811 - accuracy: 0.9054 - val_loss: 0.1867 - val_accuracy: 0.9429\n",
            "Epoch 18/200\n",
            "11/11 [==============================] - 0s 10ms/step - loss: 0.2749 - accuracy: 0.9057 - val_loss: 0.1744 - val_accuracy: 0.9486\n",
            "Epoch 19/200\n",
            "11/11 [==============================] - 0s 10ms/step - loss: 0.2686 - accuracy: 0.9079 - val_loss: 0.1731 - val_accuracy: 0.9443\n",
            "Epoch 20/200\n",
            "11/11 [==============================] - 0s 10ms/step - loss: 0.2760 - accuracy: 0.9104 - val_loss: 0.1725 - val_accuracy: 0.9500\n",
            "Epoch 21/200\n",
            "11/11 [==============================] - 0s 11ms/step - loss: 0.2615 - accuracy: 0.9132 - val_loss: 0.1723 - val_accuracy: 0.9486\n",
            "Epoch 22/200\n",
            "11/11 [==============================] - 0s 10ms/step - loss: 0.2275 - accuracy: 0.9207 - val_loss: 0.1661 - val_accuracy: 0.9500\n",
            "Epoch 23/200\n",
            "11/11 [==============================] - 0s 11ms/step - loss: 0.2278 - accuracy: 0.9257 - val_loss: 0.1660 - val_accuracy: 0.9471\n",
            "Epoch 24/200\n",
            "11/11 [==============================] - 0s 11ms/step - loss: 0.2196 - accuracy: 0.9250 - val_loss: 0.1643 - val_accuracy: 0.9514\n",
            "Epoch 25/200\n",
            "11/11 [==============================] - 0s 12ms/step - loss: 0.2160 - accuracy: 0.9236 - val_loss: 0.1813 - val_accuracy: 0.9429\n",
            "Epoch 26/200\n",
            "11/11 [==============================] - 0s 11ms/step - loss: 0.2129 - accuracy: 0.9311 - val_loss: 0.1697 - val_accuracy: 0.9514\n",
            "Epoch 27/200\n",
            "11/11 [==============================] - 0s 11ms/step - loss: 0.2103 - accuracy: 0.9314 - val_loss: 0.1771 - val_accuracy: 0.9471\n",
            "Epoch 28/200\n",
            "11/11 [==============================] - 0s 11ms/step - loss: 0.1795 - accuracy: 0.9379 - val_loss: 0.1654 - val_accuracy: 0.9529\n",
            "Epoch 29/200\n",
            "11/11 [==============================] - 0s 10ms/step - loss: 0.1830 - accuracy: 0.9346 - val_loss: 0.1730 - val_accuracy: 0.9443\n",
            "Epoch 30/200\n",
            "11/11 [==============================] - 0s 12ms/step - loss: 0.1878 - accuracy: 0.9382 - val_loss: 0.1793 - val_accuracy: 0.9443\n",
            "Epoch 31/200\n",
            "11/11 [==============================] - 0s 12ms/step - loss: 0.1831 - accuracy: 0.9339 - val_loss: 0.1608 - val_accuracy: 0.9529\n",
            "Epoch 32/200\n",
            "11/11 [==============================] - 0s 11ms/step - loss: 0.1705 - accuracy: 0.9446 - val_loss: 0.1555 - val_accuracy: 0.9543\n",
            "Epoch 33/200\n",
            "11/11 [==============================] - 0s 11ms/step - loss: 0.1669 - accuracy: 0.9461 - val_loss: 0.1522 - val_accuracy: 0.9529\n",
            "Epoch 34/200\n",
            "11/11 [==============================] - 0s 11ms/step - loss: 0.1685 - accuracy: 0.9432 - val_loss: 0.1564 - val_accuracy: 0.9543\n",
            "Epoch 35/200\n",
            "11/11 [==============================] - 0s 11ms/step - loss: 0.1589 - accuracy: 0.9414 - val_loss: 0.1711 - val_accuracy: 0.9514\n",
            "Epoch 36/200\n",
            "11/11 [==============================] - 0s 10ms/step - loss: 0.1412 - accuracy: 0.9514 - val_loss: 0.1687 - val_accuracy: 0.9543\n",
            "Epoch 37/200\n",
            "11/11 [==============================] - 0s 11ms/step - loss: 0.1365 - accuracy: 0.9514 - val_loss: 0.1531 - val_accuracy: 0.9586\n",
            "Epoch 38/200\n",
            "11/11 [==============================] - 0s 11ms/step - loss: 0.1369 - accuracy: 0.9543 - val_loss: 0.1577 - val_accuracy: 0.9557\n",
            "Epoch 39/200\n",
            "11/11 [==============================] - 0s 10ms/step - loss: 0.1420 - accuracy: 0.9489 - val_loss: 0.1559 - val_accuracy: 0.9543\n",
            "Epoch 40/200\n",
            "11/11 [==============================] - 0s 10ms/step - loss: 0.1304 - accuracy: 0.9575 - val_loss: 0.1561 - val_accuracy: 0.9600\n",
            "Epoch 41/200\n",
            "11/11 [==============================] - 0s 10ms/step - loss: 0.1363 - accuracy: 0.9518 - val_loss: 0.1546 - val_accuracy: 0.9529\n",
            "Epoch 42/200\n",
            "11/11 [==============================] - 0s 10ms/step - loss: 0.1349 - accuracy: 0.9532 - val_loss: 0.1619 - val_accuracy: 0.9600\n",
            "Epoch 43/200\n",
            "11/11 [==============================] - 0s 10ms/step - loss: 0.1280 - accuracy: 0.9604 - val_loss: 0.1537 - val_accuracy: 0.9614\n",
            "Epoch 44/200\n",
            "11/11 [==============================] - 0s 12ms/step - loss: 0.1209 - accuracy: 0.9543 - val_loss: 0.1691 - val_accuracy: 0.9529\n",
            "Epoch 45/200\n",
            "11/11 [==============================] - 0s 11ms/step - loss: 0.1178 - accuracy: 0.9614 - val_loss: 0.1566 - val_accuracy: 0.9586\n",
            "Epoch 46/200\n",
            "11/11 [==============================] - 0s 11ms/step - loss: 0.1200 - accuracy: 0.9579 - val_loss: 0.1563 - val_accuracy: 0.9571\n",
            "Epoch 47/200\n",
            "11/11 [==============================] - 0s 10ms/step - loss: 0.1307 - accuracy: 0.9532 - val_loss: 0.1480 - val_accuracy: 0.9614\n",
            "Epoch 48/200\n",
            "11/11 [==============================] - 0s 11ms/step - loss: 0.1205 - accuracy: 0.9593 - val_loss: 0.1581 - val_accuracy: 0.9543\n",
            "Epoch 49/200\n",
            "11/11 [==============================] - 0s 11ms/step - loss: 0.1074 - accuracy: 0.9643 - val_loss: 0.1520 - val_accuracy: 0.9600\n",
            "Epoch 50/200\n",
            "11/11 [==============================] - 0s 11ms/step - loss: 0.0967 - accuracy: 0.9675 - val_loss: 0.1509 - val_accuracy: 0.9571\n",
            "Epoch 51/200\n",
            "11/11 [==============================] - 0s 10ms/step - loss: 0.1218 - accuracy: 0.9550 - val_loss: 0.1568 - val_accuracy: 0.9629\n",
            "Epoch 52/200\n",
            "11/11 [==============================] - 0s 11ms/step - loss: 0.1013 - accuracy: 0.9629 - val_loss: 0.1541 - val_accuracy: 0.9657\n",
            "Epoch 53/200\n",
            "11/11 [==============================] - 0s 10ms/step - loss: 0.0952 - accuracy: 0.9693 - val_loss: 0.1623 - val_accuracy: 0.9586\n",
            "Epoch 54/200\n",
            "11/11 [==============================] - 0s 10ms/step - loss: 0.1017 - accuracy: 0.9650 - val_loss: 0.1695 - val_accuracy: 0.9586\n",
            "Epoch 55/200\n",
            "11/11 [==============================] - 0s 11ms/step - loss: 0.1013 - accuracy: 0.9632 - val_loss: 0.1675 - val_accuracy: 0.9514\n",
            "Epoch 56/200\n",
            "11/11 [==============================] - 0s 11ms/step - loss: 0.0967 - accuracy: 0.9646 - val_loss: 0.1615 - val_accuracy: 0.9614\n",
            "Epoch 57/200\n",
            "11/11 [==============================] - 0s 11ms/step - loss: 0.1047 - accuracy: 0.9661 - val_loss: 0.1495 - val_accuracy: 0.9614\n",
            "Epoch 58/200\n",
            "11/11 [==============================] - 0s 11ms/step - loss: 0.1029 - accuracy: 0.9621 - val_loss: 0.1580 - val_accuracy: 0.9600\n",
            "Epoch 59/200\n",
            "11/11 [==============================] - 0s 10ms/step - loss: 0.0890 - accuracy: 0.9700 - val_loss: 0.1679 - val_accuracy: 0.9629\n",
            "Epoch 60/200\n",
            "11/11 [==============================] - 0s 11ms/step - loss: 0.0972 - accuracy: 0.9671 - val_loss: 0.1659 - val_accuracy: 0.9557\n",
            "Epoch 61/200\n",
            "11/11 [==============================] - 0s 10ms/step - loss: 0.0828 - accuracy: 0.9714 - val_loss: 0.1604 - val_accuracy: 0.9614\n",
            "Epoch 62/200\n",
            "11/11 [==============================] - 0s 10ms/step - loss: 0.0794 - accuracy: 0.9736 - val_loss: 0.1437 - val_accuracy: 0.9600\n",
            "Epoch 63/200\n",
            "11/11 [==============================] - 0s 11ms/step - loss: 0.0819 - accuracy: 0.9668 - val_loss: 0.1678 - val_accuracy: 0.9643\n",
            "Epoch 64/200\n",
            "11/11 [==============================] - 0s 11ms/step - loss: 0.0888 - accuracy: 0.9725 - val_loss: 0.1609 - val_accuracy: 0.9614\n",
            "Epoch 65/200\n",
            "11/11 [==============================] - 0s 11ms/step - loss: 0.0837 - accuracy: 0.9725 - val_loss: 0.1652 - val_accuracy: 0.9629\n",
            "Epoch 66/200\n",
            "11/11 [==============================] - 0s 10ms/step - loss: 0.0703 - accuracy: 0.9757 - val_loss: 0.1596 - val_accuracy: 0.9643\n",
            "Epoch 67/200\n",
            "11/11 [==============================] - 0s 11ms/step - loss: 0.0879 - accuracy: 0.9643 - val_loss: 0.1657 - val_accuracy: 0.9571\n",
            "Epoch 68/200\n",
            "11/11 [==============================] - 0s 13ms/step - loss: 0.0677 - accuracy: 0.9786 - val_loss: 0.1655 - val_accuracy: 0.9629\n",
            "Epoch 69/200\n",
            "11/11 [==============================] - 0s 13ms/step - loss: 0.0724 - accuracy: 0.9746 - val_loss: 0.1792 - val_accuracy: 0.9657\n",
            "Epoch 70/200\n",
            "11/11 [==============================] - 0s 14ms/step - loss: 0.0695 - accuracy: 0.9754 - val_loss: 0.1631 - val_accuracy: 0.9657\n",
            "Epoch 71/200\n",
            "11/11 [==============================] - 0s 14ms/step - loss: 0.0665 - accuracy: 0.9768 - val_loss: 0.1745 - val_accuracy: 0.9586\n",
            "Epoch 72/200\n",
            "11/11 [==============================] - 0s 13ms/step - loss: 0.0723 - accuracy: 0.9771 - val_loss: 0.1762 - val_accuracy: 0.9586\n",
            "Epoch 73/200\n",
            "11/11 [==============================] - 0s 14ms/step - loss: 0.0685 - accuracy: 0.9743 - val_loss: 0.1725 - val_accuracy: 0.9614\n",
            "Epoch 74/200\n",
            "11/11 [==============================] - 0s 14ms/step - loss: 0.0730 - accuracy: 0.9711 - val_loss: 0.1824 - val_accuracy: 0.9571\n",
            "Epoch 75/200\n",
            "11/11 [==============================] - 0s 13ms/step - loss: 0.0741 - accuracy: 0.9736 - val_loss: 0.1828 - val_accuracy: 0.9571\n",
            "Epoch 76/200\n",
            "11/11 [==============================] - 0s 13ms/step - loss: 0.0689 - accuracy: 0.9714 - val_loss: 0.1577 - val_accuracy: 0.9671\n",
            "Epoch 77/200\n",
            "11/11 [==============================] - 0s 14ms/step - loss: 0.0620 - accuracy: 0.9786 - val_loss: 0.1804 - val_accuracy: 0.9586\n",
            "Epoch 78/200\n",
            "11/11 [==============================] - 0s 12ms/step - loss: 0.0573 - accuracy: 0.9807 - val_loss: 0.1669 - val_accuracy: 0.9643\n",
            "Epoch 79/200\n",
            "11/11 [==============================] - 0s 13ms/step - loss: 0.0614 - accuracy: 0.9804 - val_loss: 0.1749 - val_accuracy: 0.9557\n",
            "Epoch 80/200\n",
            "11/11 [==============================] - 0s 13ms/step - loss: 0.0624 - accuracy: 0.9775 - val_loss: 0.1769 - val_accuracy: 0.9643\n",
            "Epoch 81/200\n",
            "11/11 [==============================] - 0s 13ms/step - loss: 0.0727 - accuracy: 0.9754 - val_loss: 0.1821 - val_accuracy: 0.9643\n",
            "Epoch 82/200\n",
            "11/11 [==============================] - 0s 14ms/step - loss: 0.0684 - accuracy: 0.9743 - val_loss: 0.1730 - val_accuracy: 0.9629\n",
            "Epoch 83/200\n",
            "11/11 [==============================] - 0s 13ms/step - loss: 0.0613 - accuracy: 0.9793 - val_loss: 0.1829 - val_accuracy: 0.9629\n",
            "Epoch 84/200\n",
            "11/11 [==============================] - 0s 15ms/step - loss: 0.0463 - accuracy: 0.9854 - val_loss: 0.1931 - val_accuracy: 0.9600\n",
            "Epoch 85/200\n",
            "11/11 [==============================] - 0s 15ms/step - loss: 0.0535 - accuracy: 0.9800 - val_loss: 0.1921 - val_accuracy: 0.9600\n",
            "Epoch 86/200\n",
            "11/11 [==============================] - 0s 15ms/step - loss: 0.0684 - accuracy: 0.9729 - val_loss: 0.1825 - val_accuracy: 0.9643\n",
            "Epoch 87/200\n",
            "11/11 [==============================] - 0s 15ms/step - loss: 0.0602 - accuracy: 0.9786 - val_loss: 0.1727 - val_accuracy: 0.9643\n",
            "Epoch 88/200\n",
            "11/11 [==============================] - 0s 12ms/step - loss: 0.0528 - accuracy: 0.9796 - val_loss: 0.1589 - val_accuracy: 0.9671\n",
            "Epoch 89/200\n",
            "11/11 [==============================] - 0s 12ms/step - loss: 0.0440 - accuracy: 0.9846 - val_loss: 0.1736 - val_accuracy: 0.9657\n",
            "Epoch 90/200\n",
            "11/11 [==============================] - 0s 11ms/step - loss: 0.0459 - accuracy: 0.9843 - val_loss: 0.1772 - val_accuracy: 0.9643\n",
            "Epoch 91/200\n",
            "11/11 [==============================] - 0s 13ms/step - loss: 0.0523 - accuracy: 0.9789 - val_loss: 0.1898 - val_accuracy: 0.9643\n",
            "Epoch 92/200\n",
            "11/11 [==============================] - 0s 11ms/step - loss: 0.0480 - accuracy: 0.9836 - val_loss: 0.1742 - val_accuracy: 0.9657\n",
            "Epoch 93/200\n",
            "11/11 [==============================] - 0s 11ms/step - loss: 0.0423 - accuracy: 0.9875 - val_loss: 0.1925 - val_accuracy: 0.9657\n",
            "Epoch 94/200\n",
            "11/11 [==============================] - 0s 11ms/step - loss: 0.0486 - accuracy: 0.9804 - val_loss: 0.1696 - val_accuracy: 0.9643\n",
            "Epoch 95/200\n",
            "11/11 [==============================] - 0s 11ms/step - loss: 0.0462 - accuracy: 0.9829 - val_loss: 0.1796 - val_accuracy: 0.9671\n",
            "Epoch 96/200\n",
            "11/11 [==============================] - 0s 11ms/step - loss: 0.0347 - accuracy: 0.9871 - val_loss: 0.1811 - val_accuracy: 0.9671\n",
            "Epoch 97/200\n",
            "11/11 [==============================] - 0s 11ms/step - loss: 0.0457 - accuracy: 0.9839 - val_loss: 0.1960 - val_accuracy: 0.9643\n",
            "Epoch 98/200\n",
            "11/11 [==============================] - 0s 10ms/step - loss: 0.0442 - accuracy: 0.9871 - val_loss: 0.1924 - val_accuracy: 0.9643\n",
            "Epoch 99/200\n",
            "11/11 [==============================] - 0s 11ms/step - loss: 0.0452 - accuracy: 0.9843 - val_loss: 0.1935 - val_accuracy: 0.9614\n",
            "Epoch 100/200\n",
            "11/11 [==============================] - 0s 11ms/step - loss: 0.0426 - accuracy: 0.9825 - val_loss: 0.1854 - val_accuracy: 0.9586\n",
            "Epoch 101/200\n",
            "11/11 [==============================] - 0s 11ms/step - loss: 0.0488 - accuracy: 0.9800 - val_loss: 0.1818 - val_accuracy: 0.9657\n",
            "Epoch 102/200\n",
            "11/11 [==============================] - 0s 11ms/step - loss: 0.0355 - accuracy: 0.9875 - val_loss: 0.1867 - val_accuracy: 0.9657\n",
            "Epoch 103/200\n",
            "11/11 [==============================] - 0s 12ms/step - loss: 0.0382 - accuracy: 0.9864 - val_loss: 0.1815 - val_accuracy: 0.9629\n",
            "Epoch 104/200\n",
            "11/11 [==============================] - 0s 11ms/step - loss: 0.0416 - accuracy: 0.9846 - val_loss: 0.1894 - val_accuracy: 0.9671\n",
            "Epoch 105/200\n",
            "11/11 [==============================] - 0s 10ms/step - loss: 0.0366 - accuracy: 0.9871 - val_loss: 0.2034 - val_accuracy: 0.9657\n",
            "Epoch 106/200\n",
            "11/11 [==============================] - 0s 10ms/step - loss: 0.0322 - accuracy: 0.9893 - val_loss: 0.2081 - val_accuracy: 0.9657\n",
            "Epoch 107/200\n",
            "11/11 [==============================] - 0s 11ms/step - loss: 0.0445 - accuracy: 0.9846 - val_loss: 0.1886 - val_accuracy: 0.9700\n",
            "Epoch 108/200\n",
            "11/11 [==============================] - 0s 11ms/step - loss: 0.0396 - accuracy: 0.9839 - val_loss: 0.1906 - val_accuracy: 0.9614\n",
            "Epoch 109/200\n",
            "11/11 [==============================] - 0s 11ms/step - loss: 0.0399 - accuracy: 0.9843 - val_loss: 0.1941 - val_accuracy: 0.9671\n",
            "Epoch 110/200\n",
            "11/11 [==============================] - 0s 10ms/step - loss: 0.0421 - accuracy: 0.9861 - val_loss: 0.1937 - val_accuracy: 0.9629\n",
            "Epoch 111/200\n",
            "11/11 [==============================] - 0s 10ms/step - loss: 0.0389 - accuracy: 0.9871 - val_loss: 0.1996 - val_accuracy: 0.9643\n",
            "Epoch 112/200\n",
            "11/11 [==============================] - 0s 10ms/step - loss: 0.0421 - accuracy: 0.9850 - val_loss: 0.2117 - val_accuracy: 0.9614\n",
            "Epoch 113/200\n",
            "11/11 [==============================] - 0s 10ms/step - loss: 0.0433 - accuracy: 0.9854 - val_loss: 0.2020 - val_accuracy: 0.9671\n",
            "Epoch 114/200\n",
            "11/11 [==============================] - 0s 11ms/step - loss: 0.0348 - accuracy: 0.9871 - val_loss: 0.2244 - val_accuracy: 0.9629\n",
            "Epoch 115/200\n",
            "11/11 [==============================] - 0s 11ms/step - loss: 0.0340 - accuracy: 0.9864 - val_loss: 0.1904 - val_accuracy: 0.9614\n",
            "Epoch 116/200\n",
            "11/11 [==============================] - 0s 12ms/step - loss: 0.0389 - accuracy: 0.9854 - val_loss: 0.1965 - val_accuracy: 0.9657\n",
            "Epoch 117/200\n",
            "11/11 [==============================] - 0s 11ms/step - loss: 0.0294 - accuracy: 0.9929 - val_loss: 0.1895 - val_accuracy: 0.9629\n",
            "Epoch 118/200\n",
            "11/11 [==============================] - 0s 11ms/step - loss: 0.0312 - accuracy: 0.9896 - val_loss: 0.1893 - val_accuracy: 0.9629\n",
            "Epoch 119/200\n",
            "11/11 [==============================] - 0s 10ms/step - loss: 0.0352 - accuracy: 0.9861 - val_loss: 0.2009 - val_accuracy: 0.9643\n",
            "Epoch 120/200\n",
            "11/11 [==============================] - 0s 10ms/step - loss: 0.0356 - accuracy: 0.9871 - val_loss: 0.1864 - val_accuracy: 0.9671\n",
            "Epoch 121/200\n",
            "11/11 [==============================] - 0s 10ms/step - loss: 0.0353 - accuracy: 0.9864 - val_loss: 0.2091 - val_accuracy: 0.9643\n",
            "Epoch 122/200\n",
            "11/11 [==============================] - 0s 11ms/step - loss: 0.0241 - accuracy: 0.9939 - val_loss: 0.2135 - val_accuracy: 0.9614\n",
            "Epoch 123/200\n",
            "11/11 [==============================] - 0s 11ms/step - loss: 0.0335 - accuracy: 0.9871 - val_loss: 0.1971 - val_accuracy: 0.9586\n",
            "Epoch 124/200\n",
            "11/11 [==============================] - 0s 11ms/step - loss: 0.0339 - accuracy: 0.9857 - val_loss: 0.2027 - val_accuracy: 0.9686\n",
            "Epoch 125/200\n",
            "11/11 [==============================] - 0s 10ms/step - loss: 0.0277 - accuracy: 0.9918 - val_loss: 0.2031 - val_accuracy: 0.9629\n",
            "Epoch 126/200\n",
            "11/11 [==============================] - 0s 10ms/step - loss: 0.0374 - accuracy: 0.9864 - val_loss: 0.1943 - val_accuracy: 0.9643\n",
            "Epoch 127/200\n",
            "11/11 [==============================] - 0s 11ms/step - loss: 0.0349 - accuracy: 0.9864 - val_loss: 0.2140 - val_accuracy: 0.9629\n",
            "Epoch 128/200\n",
            "11/11 [==============================] - 0s 11ms/step - loss: 0.0330 - accuracy: 0.9864 - val_loss: 0.2350 - val_accuracy: 0.9657\n",
            "Epoch 129/200\n",
            "11/11 [==============================] - 0s 10ms/step - loss: 0.0317 - accuracy: 0.9900 - val_loss: 0.2116 - val_accuracy: 0.9643\n",
            "Epoch 130/200\n",
            "11/11 [==============================] - 0s 11ms/step - loss: 0.0416 - accuracy: 0.9829 - val_loss: 0.1865 - val_accuracy: 0.9657\n",
            "Epoch 131/200\n",
            "11/11 [==============================] - 0s 10ms/step - loss: 0.0373 - accuracy: 0.9857 - val_loss: 0.2356 - val_accuracy: 0.9686\n",
            "Epoch 132/200\n",
            "11/11 [==============================] - 0s 11ms/step - loss: 0.0388 - accuracy: 0.9857 - val_loss: 0.2015 - val_accuracy: 0.9614\n",
            "Epoch 133/200\n",
            "11/11 [==============================] - 0s 10ms/step - loss: 0.0286 - accuracy: 0.9893 - val_loss: 0.2172 - val_accuracy: 0.9671\n",
            "Epoch 134/200\n",
            "11/11 [==============================] - 0s 10ms/step - loss: 0.0306 - accuracy: 0.9854 - val_loss: 0.2150 - val_accuracy: 0.9657\n",
            "Epoch 135/200\n",
            "11/11 [==============================] - 0s 10ms/step - loss: 0.0344 - accuracy: 0.9854 - val_loss: 0.2165 - val_accuracy: 0.9643\n",
            "Epoch 136/200\n",
            "11/11 [==============================] - 0s 10ms/step - loss: 0.0336 - accuracy: 0.9896 - val_loss: 0.2065 - val_accuracy: 0.9629\n",
            "Epoch 137/200\n",
            "11/11 [==============================] - 0s 10ms/step - loss: 0.0310 - accuracy: 0.9886 - val_loss: 0.1993 - val_accuracy: 0.9686\n",
            "Epoch 138/200\n",
            "11/11 [==============================] - 0s 10ms/step - loss: 0.0314 - accuracy: 0.9886 - val_loss: 0.2114 - val_accuracy: 0.9657\n",
            "Epoch 139/200\n",
            "11/11 [==============================] - 0s 11ms/step - loss: 0.0259 - accuracy: 0.9900 - val_loss: 0.1981 - val_accuracy: 0.9629\n",
            "Epoch 140/200\n",
            "11/11 [==============================] - 0s 11ms/step - loss: 0.0270 - accuracy: 0.9900 - val_loss: 0.2375 - val_accuracy: 0.9686\n",
            "Epoch 141/200\n",
            "11/11 [==============================] - 0s 10ms/step - loss: 0.0274 - accuracy: 0.9893 - val_loss: 0.2356 - val_accuracy: 0.9600\n",
            "Epoch 142/200\n",
            "11/11 [==============================] - 0s 11ms/step - loss: 0.0332 - accuracy: 0.9886 - val_loss: 0.2279 - val_accuracy: 0.9671\n",
            "Epoch 143/200\n",
            "11/11 [==============================] - 0s 10ms/step - loss: 0.0322 - accuracy: 0.9879 - val_loss: 0.2362 - val_accuracy: 0.9671\n",
            "Epoch 144/200\n",
            "11/11 [==============================] - 0s 11ms/step - loss: 0.0253 - accuracy: 0.9911 - val_loss: 0.2495 - val_accuracy: 0.9586\n",
            "Epoch 145/200\n",
            "11/11 [==============================] - 0s 11ms/step - loss: 0.0309 - accuracy: 0.9879 - val_loss: 0.2068 - val_accuracy: 0.9571\n",
            "Epoch 146/200\n",
            "11/11 [==============================] - 0s 10ms/step - loss: 0.0268 - accuracy: 0.9904 - val_loss: 0.1966 - val_accuracy: 0.9686\n",
            "Epoch 147/200\n",
            "11/11 [==============================] - 0s 11ms/step - loss: 0.0301 - accuracy: 0.9893 - val_loss: 0.2242 - val_accuracy: 0.9671\n",
            "Epoch 148/200\n",
            "11/11 [==============================] - 0s 11ms/step - loss: 0.0300 - accuracy: 0.9893 - val_loss: 0.2037 - val_accuracy: 0.9657\n",
            "Epoch 149/200\n",
            "11/11 [==============================] - 0s 10ms/step - loss: 0.0307 - accuracy: 0.9900 - val_loss: 0.2230 - val_accuracy: 0.9614\n",
            "Epoch 150/200\n",
            "11/11 [==============================] - 0s 11ms/step - loss: 0.0234 - accuracy: 0.9900 - val_loss: 0.1950 - val_accuracy: 0.9671\n",
            "Epoch 151/200\n",
            "11/11 [==============================] - 0s 11ms/step - loss: 0.0304 - accuracy: 0.9900 - val_loss: 0.2040 - val_accuracy: 0.9629\n",
            "Epoch 152/200\n",
            "11/11 [==============================] - 0s 10ms/step - loss: 0.0215 - accuracy: 0.9921 - val_loss: 0.2141 - val_accuracy: 0.9671\n",
            "Epoch 153/200\n",
            "11/11 [==============================] - 0s 11ms/step - loss: 0.0258 - accuracy: 0.9900 - val_loss: 0.2296 - val_accuracy: 0.9671\n",
            "Epoch 154/200\n",
            "11/11 [==============================] - 0s 10ms/step - loss: 0.0243 - accuracy: 0.9914 - val_loss: 0.2201 - val_accuracy: 0.9671\n",
            "Epoch 155/200\n",
            "11/11 [==============================] - 0s 11ms/step - loss: 0.0261 - accuracy: 0.9896 - val_loss: 0.2320 - val_accuracy: 0.9671\n",
            "Epoch 156/200\n",
            "11/11 [==============================] - 0s 11ms/step - loss: 0.0228 - accuracy: 0.9918 - val_loss: 0.2273 - val_accuracy: 0.9629\n",
            "Epoch 157/200\n",
            "11/11 [==============================] - 0s 10ms/step - loss: 0.0242 - accuracy: 0.9907 - val_loss: 0.2392 - val_accuracy: 0.9643\n",
            "Epoch 158/200\n",
            "11/11 [==============================] - 0s 12ms/step - loss: 0.0225 - accuracy: 0.9911 - val_loss: 0.2763 - val_accuracy: 0.9671\n",
            "Epoch 159/200\n",
            "11/11 [==============================] - 0s 10ms/step - loss: 0.0243 - accuracy: 0.9907 - val_loss: 0.2371 - val_accuracy: 0.9686\n",
            "Epoch 160/200\n",
            "11/11 [==============================] - 0s 10ms/step - loss: 0.0282 - accuracy: 0.9886 - val_loss: 0.2707 - val_accuracy: 0.9543\n",
            "Epoch 161/200\n",
            "11/11 [==============================] - 0s 10ms/step - loss: 0.0306 - accuracy: 0.9896 - val_loss: 0.2158 - val_accuracy: 0.9657\n",
            "Epoch 162/200\n",
            "11/11 [==============================] - 0s 11ms/step - loss: 0.0249 - accuracy: 0.9925 - val_loss: 0.2326 - val_accuracy: 0.9671\n",
            "Epoch 163/200\n",
            "11/11 [==============================] - 0s 11ms/step - loss: 0.0229 - accuracy: 0.9936 - val_loss: 0.2102 - val_accuracy: 0.9671\n",
            "Epoch 164/200\n",
            "11/11 [==============================] - 0s 10ms/step - loss: 0.0235 - accuracy: 0.9918 - val_loss: 0.2287 - val_accuracy: 0.9671\n",
            "Epoch 165/200\n",
            "11/11 [==============================] - 0s 11ms/step - loss: 0.0290 - accuracy: 0.9886 - val_loss: 0.2283 - val_accuracy: 0.9686\n",
            "Epoch 166/200\n",
            "11/11 [==============================] - 0s 11ms/step - loss: 0.0241 - accuracy: 0.9904 - val_loss: 0.2316 - val_accuracy: 0.9671\n",
            "Epoch 167/200\n",
            "11/11 [==============================] - 0s 10ms/step - loss: 0.0209 - accuracy: 0.9925 - val_loss: 0.2227 - val_accuracy: 0.9643\n",
            "Epoch 168/200\n",
            "11/11 [==============================] - 0s 10ms/step - loss: 0.0239 - accuracy: 0.9925 - val_loss: 0.2299 - val_accuracy: 0.9700\n",
            "Epoch 169/200\n",
            "11/11 [==============================] - 0s 10ms/step - loss: 0.0217 - accuracy: 0.9914 - val_loss: 0.2271 - val_accuracy: 0.9700\n",
            "Epoch 170/200\n",
            "11/11 [==============================] - 0s 14ms/step - loss: 0.0219 - accuracy: 0.9914 - val_loss: 0.2437 - val_accuracy: 0.9657\n",
            "Epoch 171/200\n",
            "11/11 [==============================] - 0s 14ms/step - loss: 0.0212 - accuracy: 0.9925 - val_loss: 0.2407 - val_accuracy: 0.9657\n",
            "Epoch 172/200\n",
            "11/11 [==============================] - 0s 15ms/step - loss: 0.0271 - accuracy: 0.9893 - val_loss: 0.2381 - val_accuracy: 0.9671\n",
            "Epoch 173/200\n",
            "11/11 [==============================] - 0s 13ms/step - loss: 0.0225 - accuracy: 0.9921 - val_loss: 0.2491 - val_accuracy: 0.9643\n",
            "Epoch 174/200\n",
            "11/11 [==============================] - 0s 13ms/step - loss: 0.0256 - accuracy: 0.9921 - val_loss: 0.2332 - val_accuracy: 0.9686\n",
            "Epoch 175/200\n",
            "11/11 [==============================] - 0s 13ms/step - loss: 0.0169 - accuracy: 0.9954 - val_loss: 0.2299 - val_accuracy: 0.9643\n",
            "Epoch 176/200\n",
            "11/11 [==============================] - 0s 14ms/step - loss: 0.0202 - accuracy: 0.9914 - val_loss: 0.2428 - val_accuracy: 0.9671\n",
            "Epoch 177/200\n",
            "11/11 [==============================] - 0s 14ms/step - loss: 0.0206 - accuracy: 0.9925 - val_loss: 0.2494 - val_accuracy: 0.9643\n",
            "Epoch 178/200\n",
            "11/11 [==============================] - 0s 14ms/step - loss: 0.0235 - accuracy: 0.9907 - val_loss: 0.2234 - val_accuracy: 0.9643\n",
            "Epoch 179/200\n",
            "11/11 [==============================] - 0s 14ms/step - loss: 0.0239 - accuracy: 0.9911 - val_loss: 0.2362 - val_accuracy: 0.9671\n",
            "Epoch 180/200\n",
            "11/11 [==============================] - 0s 13ms/step - loss: 0.0177 - accuracy: 0.9954 - val_loss: 0.2247 - val_accuracy: 0.9600\n",
            "Epoch 181/200\n",
            "11/11 [==============================] - 0s 15ms/step - loss: 0.0232 - accuracy: 0.9929 - val_loss: 0.2210 - val_accuracy: 0.9671\n",
            "Epoch 182/200\n",
            "11/11 [==============================] - 0s 14ms/step - loss: 0.0214 - accuracy: 0.9925 - val_loss: 0.2462 - val_accuracy: 0.9657\n",
            "Epoch 183/200\n",
            "11/11 [==============================] - 0s 14ms/step - loss: 0.0174 - accuracy: 0.9943 - val_loss: 0.2152 - val_accuracy: 0.9657\n",
            "Epoch 184/200\n",
            "11/11 [==============================] - 0s 14ms/step - loss: 0.0218 - accuracy: 0.9907 - val_loss: 0.2340 - val_accuracy: 0.9700\n",
            "Epoch 185/200\n",
            "11/11 [==============================] - 0s 14ms/step - loss: 0.0147 - accuracy: 0.9961 - val_loss: 0.2359 - val_accuracy: 0.9671\n",
            "Epoch 186/200\n",
            "11/11 [==============================] - 0s 14ms/step - loss: 0.0174 - accuracy: 0.9925 - val_loss: 0.2390 - val_accuracy: 0.9671\n",
            "Epoch 187/200\n",
            "11/11 [==============================] - 0s 15ms/step - loss: 0.0240 - accuracy: 0.9911 - val_loss: 0.2283 - val_accuracy: 0.9643\n",
            "Epoch 188/200\n",
            "11/11 [==============================] - 0s 14ms/step - loss: 0.0228 - accuracy: 0.9907 - val_loss: 0.2251 - val_accuracy: 0.9671\n",
            "Epoch 189/200\n",
            "11/11 [==============================] - 0s 14ms/step - loss: 0.0198 - accuracy: 0.9918 - val_loss: 0.2083 - val_accuracy: 0.9700\n",
            "Epoch 190/200\n",
            "11/11 [==============================] - 0s 11ms/step - loss: 0.0266 - accuracy: 0.9911 - val_loss: 0.2371 - val_accuracy: 0.9700\n",
            "Epoch 191/200\n",
            "11/11 [==============================] - 0s 12ms/step - loss: 0.0163 - accuracy: 0.9961 - val_loss: 0.2391 - val_accuracy: 0.9686\n",
            "Epoch 192/200\n",
            "11/11 [==============================] - 0s 12ms/step - loss: 0.0189 - accuracy: 0.9932 - val_loss: 0.2369 - val_accuracy: 0.9671\n",
            "Epoch 193/200\n",
            "11/11 [==============================] - 0s 12ms/step - loss: 0.0163 - accuracy: 0.9950 - val_loss: 0.2287 - val_accuracy: 0.9657\n",
            "Epoch 194/200\n",
            "11/11 [==============================] - 0s 12ms/step - loss: 0.0158 - accuracy: 0.9943 - val_loss: 0.2604 - val_accuracy: 0.9686\n",
            "Epoch 195/200\n",
            "11/11 [==============================] - 0s 11ms/step - loss: 0.0185 - accuracy: 0.9925 - val_loss: 0.2494 - val_accuracy: 0.9657\n",
            "Epoch 196/200\n",
            "11/11 [==============================] - 0s 12ms/step - loss: 0.0150 - accuracy: 0.9954 - val_loss: 0.2339 - val_accuracy: 0.9643\n",
            "Epoch 197/200\n",
            "11/11 [==============================] - 0s 11ms/step - loss: 0.0195 - accuracy: 0.9932 - val_loss: 0.2592 - val_accuracy: 0.9686\n",
            "Epoch 198/200\n",
            "11/11 [==============================] - 0s 11ms/step - loss: 0.0175 - accuracy: 0.9932 - val_loss: 0.2275 - val_accuracy: 0.9729\n",
            "Epoch 199/200\n",
            "11/11 [==============================] - 0s 11ms/step - loss: 0.0175 - accuracy: 0.9936 - val_loss: 0.2547 - val_accuracy: 0.9657\n",
            "Epoch 200/200\n",
            "11/11 [==============================] - 0s 10ms/step - loss: 0.0167 - accuracy: 0.9936 - val_loss: 0.2174 - val_accuracy: 0.9686\n"
          ]
        }
      ]
    },
    {
      "cell_type": "code",
      "execution_count": 20,
      "metadata": {
        "id": "JPXMaIfcT9zT",
        "outputId": "f0dad388-71e2-4a3e-be8d-8f293ea15f9c",
        "colab": {
          "base_uri": "https://localhost:8080/",
          "height": 887
        }
      },
      "outputs": [
        {
          "output_type": "display_data",
          "data": {
            "text/plain": [
              "<Figure size 640x480 with 1 Axes>"
            ],
            "image/png": "[encoded data removed]"
          },
          "metadata": {}
        },
        {
          "output_type": "display_data",
          "data": {
            "text/plain": [
              "<Figure size 640x480 with 1 Axes>"
            ],
            "image/png": "[encoded data removed]"
          },
          "metadata": {}
        }
      ],
      "source": [
        "import matplotlib.pyplot as plt\n",
        "%matplotlib inline\n",
        "acc = history.history['accuracy']\n",
        "val_acc = history.history['val_accuracy']\n",
        "loss = history.history['loss']\n",
        "val_loss = history.history['val_loss']\n",
        "\n",
        "epochs = range(len(acc))\n",
        "\n",
        "plt.plot(epochs, acc, 'bo', label='Training acc')\n",
        "plt.plot(epochs, val_acc, 'b', label='Validation acc')\n",
        "plt.title('Training and validation accuracy')\n",
        "plt.legend()\n",
        "\n",
        "plt.figure()\n",
        "\n",
        "plt.plot(epochs, loss, 'bo', label='Training loss')\n",
        "plt.plot(epochs, val_loss, 'b', label='Validation loss')\n",
        "plt.title('Training and validation loss')\n",
        "plt.legend()\n",
        "\n",
        "plt.show()"
      ]
    },
    {
      "cell_type": "code",
      "execution_count": 21,
      "metadata": {
        "id": "mwUD7g8XX0FK",
        "outputId": "03cbddce-149d-4716-e11d-37c293b8d275",
        "colab": {
          "base_uri": "https://localhost:8080/"
        }
      },
      "outputs": [
        {
          "output_type": "stream",
          "name": "stdout",
          "text": [
            "13/13 [==============================] - 1s 17ms/step - loss: 2.2985 - accuracy: 0.1875\n"
          ]
        },
        {
          "output_type": "execute_result",
          "data": {
            "text/plain": [
              "[2.2985174655914307, 0.1875]"
            ]
          },
          "metadata": {},
          "execution_count": 21
        }
      ],
      "source": [
        "model.evaluate(X_test_28, y_test)"
      ]
    },
    {
      "cell_type": "markdown",
      "metadata": {
        "id": "G4eebvi8YCQr"
      },
      "source": [
        "Can you feed data with different dimention (such as 32x32)?"
      ]
    },
    {
      "cell_type": "code",
      "execution_count": 22,
      "metadata": {
        "id": "575DhPWmX_uZ",
        "outputId": "22e92aa8-9185-402a-e7e6-26a6d826c144",
        "colab": {
          "base_uri": "https://localhost:8080/"
        }
      },
      "outputs": [
        {
          "output_type": "stream",
          "name": "stdout",
          "text": [
            "13/13 [==============================] - 1s 19ms/step - loss: 2.2978 - accuracy: 0.1700\n"
          ]
        },
        {
          "output_type": "execute_result",
          "data": {
            "text/plain": [
              "[2.297828435897827, 0.17000000178813934]"
            ]
          },
          "metadata": {},
          "execution_count": 22
        }
      ],
      "source": [
        "model.evaluate(X_test_32, y_test)"
      ]
    },
    {
      "cell_type": "markdown",
      "metadata": {
        "id": "KTJbPXOsYQEB"
      },
      "source": [
        "No! you cannot! It raises \"Matrix size-incompatible\" Error,\n",
        "because we have used FC layers with **Flatten**"
      ]
    },
    {
      "cell_type": "markdown",
      "metadata": {
        "id": "lTcYrV07YdfY"
      },
      "source": [
        "## solution?!"
      ]
    },
    {
      "cell_type": "code",
      "execution_count": 23,
      "metadata": {
        "id": "Qg87d27NYoAw",
        "outputId": "469f5175-931d-4600-d0b4-3a6011ccde8b",
        "colab": {
          "base_uri": "https://localhost:8080/"
        }
      },
      "outputs": [
        {
          "output_type": "stream",
          "name": "stdout",
          "text": [
            "Model: \"sequential\"\n",
            "_________________________________________________________________\n",
            " Layer (type)                Output Shape              Param #   \n",
            "=================================================================\n",
            " conv2d (Conv2D)             (None, 26, 26, 32)        320       \n",
            "                                                                 \n",
            " max_pooling2d (MaxPooling2  (None, 13, 13, 32)        0         \n",
            " D)                                                              \n",
            "                                                                 \n",
            " conv2d_1 (Conv2D)           (None, 11, 11, 64)        18496     \n",
            "                                                                 \n",
            " max_pooling2d_1 (MaxPoolin  (None, 5, 5, 64)          0         \n",
            " g2D)                                                            \n",
            "                                                                 \n",
            " conv2d_2 (Conv2D)           (None, 3, 3, 64)          36928     \n",
            "                                                                 \n",
            " max_pooling2d_2 (MaxPoolin  (None, 1, 1, 64)          0         \n",
            " g2D)                                                            \n",
            "                                                                 \n",
            " flatten (Flatten)           (None, 64)                0         \n",
            "                                                                 \n",
            " dense (Dense)               (None, 64)                4160      \n",
            "                                                                 \n",
            " dropout (Dropout)           (None, 64)                0         \n",
            "                                                                 \n",
            " dense_1 (Dense)             (None, 10)                650       \n",
            "                                                                 \n",
            "=================================================================\n",
            "Total params: 60554 (236.54 KB)\n",
            "Trainable params: 60554 (236.54 KB)\n",
            "Non-trainable params: 0 (0.00 Byte)\n",
            "_________________________________________________________________\n"
          ]
        }
      ],
      "source": [
        "model.summary()"
      ]
    },
    {
      "cell_type": "code",
      "execution_count": 24,
      "metadata": {
        "id": "ifx1uAEnYMlF",
        "outputId": "99ac0c98-d627-4b55-e1b0-60217a8a925c",
        "colab": {
          "base_uri": "https://localhost:8080/"
        }
      },
      "outputs": [
        {
          "output_type": "stream",
          "name": "stdout",
          "text": [
            "Model: \"sequential_2\"\n",
            "_________________________________________________________________\n",
            " Layer (type)                Output Shape              Param #   \n",
            "=================================================================\n",
            " conv2d_6 (Conv2D)           (None, 30, 30, 32)        320       \n",
            "                                                                 \n",
            " max_pooling2d_6 (MaxPoolin  (None, 15, 15, 32)        0         \n",
            " g2D)                                                            \n",
            "                                                                 \n",
            " conv2d_7 (Conv2D)           (None, 13, 13, 64)        18496     \n",
            "                                                                 \n",
            " max_pooling2d_7 (MaxPoolin  (None, 6, 6, 64)          0         \n",
            " g2D)                                                            \n",
            "                                                                 \n",
            " conv2d_8 (Conv2D)           (None, 4, 4, 64)          36928     \n",
            "                                                                 \n",
            " flatten_2 (Flatten)         (None, 1024)              0         \n",
            "                                                                 \n",
            " dense_4 (Dense)             (None, 64)                65600     \n",
            "                                                                 \n",
            " dropout_2 (Dropout)         (None, 64)                0         \n",
            "                                                                 \n",
            " dense_5 (Dense)             (None, 10)                650       \n",
            "                                                                 \n",
            "=================================================================\n",
            "Total params: 121994 (476.54 KB)\n",
            "Trainable params: 121994 (476.54 KB)\n",
            "Non-trainable params: 0 (0.00 Byte)\n",
            "_________________________________________________________________\n"
          ]
        }
      ],
      "source": [
        "# 5. Define model architecture\n",
        "model = Sequential()\n",
        "model.add(layers.Conv2D(32, (3, 3), activation='relu',\n",
        "                        input_shape=(32, 32, 1)))\n",
        "model.add(layers.MaxPooling2D((2, 2)))\n",
        "model.add(layers.Conv2D(64, (3, 3), activation='relu'))\n",
        "model.add(layers.MaxPooling2D((2, 2)))\n",
        "model.add(layers.Conv2D(64, (3, 3), activation='relu'))\n",
        "model.add(layers.Flatten())\n",
        "model.add(layers.Dense(64, activation='relu'))\n",
        "model.add(Dropout(0.5))\n",
        "model.add(layers.Dense(10, activation='softmax'))\n",
        "\n",
        "model.summary()"
      ]
    },
    {
      "cell_type": "code",
      "execution_count": 25,
      "metadata": {
        "id": "WQ8qS6T4Y6dC"
      },
      "outputs": [],
      "source": [
        "# 5. Define model architecture\n",
        "model3 = Sequential()\n",
        "model3.add(layers.Conv2D(32, (3, 3), activation='relu'))\n",
        "model3.add(layers.MaxPooling2D((2, 2)))\n",
        "model3.add(layers.Conv2D(64, (3, 3), activation='relu'))\n",
        "model3.add(layers.MaxPooling2D((2, 2)))\n",
        "model3.add(layers.Conv2D(64, (3, 3), activation='relu'))\n",
        "model3.add(layers.GlobalAveragePooling2D()) # the solution\n",
        "model3.add(layers.Dense(64, activation='relu'))\n",
        "model3.add(Dropout(0.5))\n",
        "model3.add(layers.Dense(10, activation='softmax'))\n",
        "\n"
      ]
    },
    {
      "cell_type": "code",
      "execution_count": 31,
      "metadata": {
        "id": "-3f3W3E-ZT_J",
        "outputId": "c35af394-74a1-4f2d-8233-f808402c1f84",
        "colab": {
          "base_uri": "https://localhost:8080/"
        }
      },
      "outputs": [
        {
          "output_type": "stream",
          "name": "stdout",
          "text": [
            "Model: \"sequential_3\"\n",
            "_________________________________________________________________\n",
            " Layer (type)                Output Shape              Param #   \n",
            "=================================================================\n",
            " conv2d_9 (Conv2D)           (None, 30, 30, 32)        320       \n",
            "                                                                 \n",
            " max_pooling2d_8 (MaxPoolin  (None, 15, 15, 32)        0         \n",
            " g2D)                                                            \n",
            "                                                                 \n",
            " conv2d_10 (Conv2D)          (None, 13, 13, 64)        18496     \n",
            "                                                                 \n",
            " max_pooling2d_9 (MaxPoolin  (None, 6, 6, 64)          0         \n",
            " g2D)                                                            \n",
            "                                                                 \n",
            " conv2d_11 (Conv2D)          (None, 4, 4, 64)          36928     \n",
            "                                                                 \n",
            " global_average_pooling2d (  (None, 64)                0         \n",
            " GlobalAveragePooling2D)                                         \n",
            "                                                                 \n",
            " dense_6 (Dense)             (None, 64)                4160      \n",
            "                                                                 \n",
            " dropout_3 (Dropout)         (None, 64)                0         \n",
            "                                                                 \n",
            " dense_7 (Dense)             (None, 10)                650       \n",
            "                                                                 \n",
            "=================================================================\n",
            "Total params: 60554 (236.54 KB)\n",
            "Trainable params: 60554 (236.54 KB)\n",
            "Non-trainable params: 0 (0.00 Byte)\n",
            "_________________________________________________________________\n"
          ]
        }
      ],
      "source": [
        "model3.summary()"
      ]
    },
    {
      "cell_type": "code",
      "execution_count": 32,
      "metadata": {
        "id": "KLHkGdW3ZhKL",
        "outputId": "8261425f-15d5-4ae9-a3b1-766d08b8284a",
        "colab": {
          "base_uri": "https://localhost:8080/"
        }
      },
      "outputs": [
        {
          "output_type": "stream",
          "name": "stdout",
          "text": [
            "Epoch 1/80\n",
            "11/11 [==============================] - 3s 73ms/step - loss: 2.2743 - accuracy: 0.1775 - val_loss: 2.2023 - val_accuracy: 0.3714\n",
            "Epoch 2/80\n",
            "11/11 [==============================] - 0s 9ms/step - loss: 2.1096 - accuracy: 0.3071 - val_loss: 1.8672 - val_accuracy: 0.5057\n",
            "Epoch 3/80\n",
            "11/11 [==============================] - 0s 10ms/step - loss: 1.7369 - accuracy: 0.4118 - val_loss: 1.2922 - val_accuracy: 0.6886\n",
            "Epoch 4/80\n",
            "11/11 [==============================] - 0s 11ms/step - loss: 1.3418 - accuracy: 0.5321 - val_loss: 0.9037 - val_accuracy: 0.7900\n",
            "Epoch 5/80\n",
            "11/11 [==============================] - 0s 11ms/step - loss: 1.0766 - accuracy: 0.6086 - val_loss: 0.6984 - val_accuracy: 0.8100\n",
            "Epoch 6/80\n",
            "11/11 [==============================] - 0s 11ms/step - loss: 0.8795 - accuracy: 0.6761 - val_loss: 0.5775 - val_accuracy: 0.8043\n",
            "Epoch 7/80\n",
            "11/11 [==============================] - 0s 10ms/step - loss: 0.7434 - accuracy: 0.7339 - val_loss: 0.4699 - val_accuracy: 0.8543\n",
            "Epoch 8/80\n",
            "11/11 [==============================] - 0s 9ms/step - loss: 0.6601 - accuracy: 0.7582 - val_loss: 0.4196 - val_accuracy: 0.8829\n",
            "Epoch 9/80\n",
            "11/11 [==============================] - 0s 11ms/step - loss: 0.5950 - accuracy: 0.7814 - val_loss: 0.4027 - val_accuracy: 0.8600\n",
            "Epoch 10/80\n",
            "11/11 [==============================] - 0s 10ms/step - loss: 0.5572 - accuracy: 0.7986 - val_loss: 0.3470 - val_accuracy: 0.8971\n",
            "Epoch 11/80\n",
            "11/11 [==============================] - 0s 9ms/step - loss: 0.5108 - accuracy: 0.8146 - val_loss: 0.3202 - val_accuracy: 0.9129\n",
            "Epoch 12/80\n",
            "11/11 [==============================] - 0s 11ms/step - loss: 0.4680 - accuracy: 0.8364 - val_loss: 0.3028 - val_accuracy: 0.8986\n",
            "Epoch 13/80\n",
            "11/11 [==============================] - 0s 10ms/step - loss: 0.4470 - accuracy: 0.8418 - val_loss: 0.2894 - val_accuracy: 0.9100\n",
            "Epoch 14/80\n",
            "11/11 [==============================] - 0s 10ms/step - loss: 0.4271 - accuracy: 0.8511 - val_loss: 0.2882 - val_accuracy: 0.9057\n",
            "Epoch 15/80\n",
            "11/11 [==============================] - 0s 10ms/step - loss: 0.3933 - accuracy: 0.8650 - val_loss: 0.2635 - val_accuracy: 0.9100\n",
            "Epoch 16/80\n",
            "11/11 [==============================] - 0s 10ms/step - loss: 0.3876 - accuracy: 0.8550 - val_loss: 0.2539 - val_accuracy: 0.9129\n",
            "Epoch 17/80\n",
            "11/11 [==============================] - 0s 11ms/step - loss: 0.3916 - accuracy: 0.8586 - val_loss: 0.2376 - val_accuracy: 0.9157\n",
            "Epoch 18/80\n",
            "11/11 [==============================] - 0s 9ms/step - loss: 0.3619 - accuracy: 0.8729 - val_loss: 0.2317 - val_accuracy: 0.9171\n",
            "Epoch 19/80\n",
            "11/11 [==============================] - 0s 9ms/step - loss: 0.3265 - accuracy: 0.8871 - val_loss: 0.2362 - val_accuracy: 0.9229\n",
            "Epoch 20/80\n",
            "11/11 [==============================] - 0s 10ms/step - loss: 0.3259 - accuracy: 0.8900 - val_loss: 0.2181 - val_accuracy: 0.9243\n",
            "Epoch 21/80\n",
            "11/11 [==============================] - 0s 11ms/step - loss: 0.3102 - accuracy: 0.8889 - val_loss: 0.2060 - val_accuracy: 0.9271\n",
            "Epoch 22/80\n",
            "11/11 [==============================] - 0s 9ms/step - loss: 0.2851 - accuracy: 0.8989 - val_loss: 0.2029 - val_accuracy: 0.9343\n",
            "Epoch 23/80\n",
            "11/11 [==============================] - 0s 10ms/step - loss: 0.2813 - accuracy: 0.9046 - val_loss: 0.1899 - val_accuracy: 0.9386\n",
            "Epoch 24/80\n",
            "11/11 [==============================] - 0s 10ms/step - loss: 0.2632 - accuracy: 0.9064 - val_loss: 0.1879 - val_accuracy: 0.9429\n",
            "Epoch 25/80\n",
            "11/11 [==============================] - 0s 10ms/step - loss: 0.2578 - accuracy: 0.9104 - val_loss: 0.1808 - val_accuracy: 0.9343\n",
            "Epoch 26/80\n",
            "11/11 [==============================] - 0s 9ms/step - loss: 0.2570 - accuracy: 0.9104 - val_loss: 0.1712 - val_accuracy: 0.9443\n",
            "Epoch 27/80\n",
            "11/11 [==============================] - 0s 9ms/step - loss: 0.2421 - accuracy: 0.9157 - val_loss: 0.1620 - val_accuracy: 0.9429\n",
            "Epoch 28/80\n",
            "11/11 [==============================] - 0s 10ms/step - loss: 0.2271 - accuracy: 0.9207 - val_loss: 0.1684 - val_accuracy: 0.9443\n",
            "Epoch 29/80\n",
            "11/11 [==============================] - 0s 9ms/step - loss: 0.2401 - accuracy: 0.9171 - val_loss: 0.1908 - val_accuracy: 0.9257\n",
            "Epoch 30/80\n",
            "11/11 [==============================] - 0s 10ms/step - loss: 0.2381 - accuracy: 0.9236 - val_loss: 0.1727 - val_accuracy: 0.9457\n",
            "Epoch 31/80\n",
            "11/11 [==============================] - 0s 10ms/step - loss: 0.2277 - accuracy: 0.9236 - val_loss: 0.1796 - val_accuracy: 0.9443\n",
            "Epoch 32/80\n",
            "11/11 [==============================] - 0s 10ms/step - loss: 0.2285 - accuracy: 0.9211 - val_loss: 0.1673 - val_accuracy: 0.9457\n",
            "Epoch 33/80\n",
            "11/11 [==============================] - 0s 10ms/step - loss: 0.2123 - accuracy: 0.9261 - val_loss: 0.1700 - val_accuracy: 0.9529\n",
            "Epoch 34/80\n",
            "11/11 [==============================] - 0s 11ms/step - loss: 0.1995 - accuracy: 0.9307 - val_loss: 0.1412 - val_accuracy: 0.9529\n",
            "Epoch 35/80\n",
            "11/11 [==============================] - 0s 10ms/step - loss: 0.2006 - accuracy: 0.9361 - val_loss: 0.1432 - val_accuracy: 0.9557\n",
            "Epoch 36/80\n",
            "11/11 [==============================] - 0s 10ms/step - loss: 0.1980 - accuracy: 0.9325 - val_loss: 0.1463 - val_accuracy: 0.9529\n",
            "Epoch 37/80\n",
            "11/11 [==============================] - 0s 11ms/step - loss: 0.1943 - accuracy: 0.9321 - val_loss: 0.1438 - val_accuracy: 0.9486\n",
            "Epoch 38/80\n",
            "11/11 [==============================] - 0s 9ms/step - loss: 0.1814 - accuracy: 0.9418 - val_loss: 0.1320 - val_accuracy: 0.9600\n",
            "Epoch 39/80\n",
            "11/11 [==============================] - 0s 9ms/step - loss: 0.1881 - accuracy: 0.9393 - val_loss: 0.1392 - val_accuracy: 0.9500\n",
            "Epoch 40/80\n",
            "11/11 [==============================] - 0s 13ms/step - loss: 0.1686 - accuracy: 0.9461 - val_loss: 0.1292 - val_accuracy: 0.9686\n",
            "Epoch 41/80\n",
            "11/11 [==============================] - 0s 14ms/step - loss: 0.1703 - accuracy: 0.9432 - val_loss: 0.1276 - val_accuracy: 0.9629\n",
            "Epoch 42/80\n",
            "11/11 [==============================] - 0s 13ms/step - loss: 0.1642 - accuracy: 0.9464 - val_loss: 0.1303 - val_accuracy: 0.9543\n",
            "Epoch 43/80\n",
            "11/11 [==============================] - 0s 14ms/step - loss: 0.1742 - accuracy: 0.9443 - val_loss: 0.1325 - val_accuracy: 0.9500\n",
            "Epoch 44/80\n",
            "11/11 [==============================] - 0s 12ms/step - loss: 0.1620 - accuracy: 0.9479 - val_loss: 0.1314 - val_accuracy: 0.9571\n",
            "Epoch 45/80\n",
            "11/11 [==============================] - 0s 13ms/step - loss: 0.1514 - accuracy: 0.9475 - val_loss: 0.1300 - val_accuracy: 0.9614\n",
            "Epoch 46/80\n",
            "11/11 [==============================] - 0s 12ms/step - loss: 0.1457 - accuracy: 0.9564 - val_loss: 0.1255 - val_accuracy: 0.9600\n",
            "Epoch 47/80\n",
            "11/11 [==============================] - 0s 13ms/step - loss: 0.1476 - accuracy: 0.9507 - val_loss: 0.1180 - val_accuracy: 0.9600\n",
            "Epoch 48/80\n",
            "11/11 [==============================] - 0s 12ms/step - loss: 0.1381 - accuracy: 0.9514 - val_loss: 0.1196 - val_accuracy: 0.9686\n",
            "Epoch 49/80\n",
            "11/11 [==============================] - 0s 12ms/step - loss: 0.1566 - accuracy: 0.9475 - val_loss: 0.1464 - val_accuracy: 0.9514\n",
            "Epoch 50/80\n",
            "11/11 [==============================] - 0s 14ms/step - loss: 0.1415 - accuracy: 0.9554 - val_loss: 0.1145 - val_accuracy: 0.9614\n",
            "Epoch 51/80\n",
            "11/11 [==============================] - 0s 12ms/step - loss: 0.1185 - accuracy: 0.9604 - val_loss: 0.1154 - val_accuracy: 0.9629\n",
            "Epoch 52/80\n",
            "11/11 [==============================] - 0s 13ms/step - loss: 0.1236 - accuracy: 0.9604 - val_loss: 0.1300 - val_accuracy: 0.9557\n",
            "Epoch 53/80\n",
            "11/11 [==============================] - 0s 12ms/step - loss: 0.1347 - accuracy: 0.9600 - val_loss: 0.1271 - val_accuracy: 0.9571\n",
            "Epoch 54/80\n",
            "11/11 [==============================] - 0s 13ms/step - loss: 0.1325 - accuracy: 0.9575 - val_loss: 0.1119 - val_accuracy: 0.9629\n",
            "Epoch 55/80\n",
            "11/11 [==============================] - 0s 14ms/step - loss: 0.1370 - accuracy: 0.9532 - val_loss: 0.1102 - val_accuracy: 0.9686\n",
            "Epoch 56/80\n",
            "11/11 [==============================] - 0s 13ms/step - loss: 0.1319 - accuracy: 0.9582 - val_loss: 0.1233 - val_accuracy: 0.9629\n",
            "Epoch 57/80\n",
            "11/11 [==============================] - 0s 14ms/step - loss: 0.1098 - accuracy: 0.9625 - val_loss: 0.1155 - val_accuracy: 0.9629\n",
            "Epoch 58/80\n",
            "11/11 [==============================] - 0s 13ms/step - loss: 0.1057 - accuracy: 0.9604 - val_loss: 0.1032 - val_accuracy: 0.9686\n",
            "Epoch 59/80\n",
            "11/11 [==============================] - 0s 14ms/step - loss: 0.1118 - accuracy: 0.9593 - val_loss: 0.1113 - val_accuracy: 0.9600\n",
            "Epoch 60/80\n",
            "11/11 [==============================] - 0s 14ms/step - loss: 0.1107 - accuracy: 0.9625 - val_loss: 0.1204 - val_accuracy: 0.9657\n",
            "Epoch 61/80\n",
            "11/11 [==============================] - 0s 10ms/step - loss: 0.1139 - accuracy: 0.9629 - val_loss: 0.1121 - val_accuracy: 0.9571\n",
            "Epoch 62/80\n",
            "11/11 [==============================] - 0s 10ms/step - loss: 0.1056 - accuracy: 0.9668 - val_loss: 0.1078 - val_accuracy: 0.9600\n",
            "Epoch 63/80\n",
            "11/11 [==============================] - 0s 10ms/step - loss: 0.1116 - accuracy: 0.9639 - val_loss: 0.1030 - val_accuracy: 0.9686\n",
            "Epoch 64/80\n",
            "11/11 [==============================] - 0s 11ms/step - loss: 0.1143 - accuracy: 0.9632 - val_loss: 0.1125 - val_accuracy: 0.9600\n",
            "Epoch 65/80\n",
            "11/11 [==============================] - 0s 11ms/step - loss: 0.1184 - accuracy: 0.9625 - val_loss: 0.1105 - val_accuracy: 0.9571\n",
            "Epoch 66/80\n",
            "11/11 [==============================] - 0s 10ms/step - loss: 0.1082 - accuracy: 0.9657 - val_loss: 0.1082 - val_accuracy: 0.9686\n",
            "Epoch 67/80\n",
            "11/11 [==============================] - 0s 10ms/step - loss: 0.1051 - accuracy: 0.9664 - val_loss: 0.1178 - val_accuracy: 0.9586\n",
            "Epoch 68/80\n",
            "11/11 [==============================] - 0s 10ms/step - loss: 0.0984 - accuracy: 0.9664 - val_loss: 0.1232 - val_accuracy: 0.9629\n",
            "Epoch 69/80\n",
            "11/11 [==============================] - 0s 10ms/step - loss: 0.0937 - accuracy: 0.9714 - val_loss: 0.1301 - val_accuracy: 0.9600\n",
            "Epoch 70/80\n",
            "11/11 [==============================] - 0s 11ms/step - loss: 0.0933 - accuracy: 0.9704 - val_loss: 0.1051 - val_accuracy: 0.9657\n",
            "Epoch 71/80\n",
            "11/11 [==============================] - 0s 10ms/step - loss: 0.0935 - accuracy: 0.9664 - val_loss: 0.0980 - val_accuracy: 0.9643\n",
            "Epoch 72/80\n",
            "11/11 [==============================] - 0s 10ms/step - loss: 0.0947 - accuracy: 0.9696 - val_loss: 0.1009 - val_accuracy: 0.9671\n",
            "Epoch 73/80\n",
            "11/11 [==============================] - 0s 11ms/step - loss: 0.1002 - accuracy: 0.9707 - val_loss: 0.0998 - val_accuracy: 0.9686\n",
            "Epoch 74/80\n",
            "11/11 [==============================] - 0s 10ms/step - loss: 0.0842 - accuracy: 0.9729 - val_loss: 0.1149 - val_accuracy: 0.9643\n",
            "Epoch 75/80\n",
            "11/11 [==============================] - 0s 10ms/step - loss: 0.0862 - accuracy: 0.9732 - val_loss: 0.1026 - val_accuracy: 0.9657\n",
            "Epoch 76/80\n",
            "11/11 [==============================] - 0s 11ms/step - loss: 0.0858 - accuracy: 0.9675 - val_loss: 0.1029 - val_accuracy: 0.9629\n",
            "Epoch 77/80\n",
            "11/11 [==============================] - 0s 11ms/step - loss: 0.0797 - accuracy: 0.9729 - val_loss: 0.1062 - val_accuracy: 0.9657\n",
            "Epoch 78/80\n",
            "11/11 [==============================] - 0s 10ms/step - loss: 0.0900 - accuracy: 0.9693 - val_loss: 0.1556 - val_accuracy: 0.9571\n",
            "Epoch 79/80\n",
            "11/11 [==============================] - 0s 10ms/step - loss: 0.0950 - accuracy: 0.9639 - val_loss: 0.1136 - val_accuracy: 0.9586\n",
            "Epoch 80/80\n",
            "11/11 [==============================] - 0s 10ms/step - loss: 0.0872 - accuracy: 0.9714 - val_loss: 0.0955 - val_accuracy: 0.9700\n"
          ]
        }
      ],
      "source": [
        "# 6. Compile model\n",
        "model3.compile(loss='categorical_crossentropy',\n",
        "              optimizer='adam',\n",
        "              metrics=['accuracy'])\n",
        "\n",
        "\n",
        "# 7. Fit model on training data\n",
        "history = model3.fit(X_train_28, y_train,\n",
        "          epochs=80, batch_size=256, validation_split=0.2)\n"
      ]
    },
    {
      "cell_type": "markdown",
      "metadata": {
        "id": "EXAw4FU1aRUD"
      },
      "source": [
        "## lets evaluate it with 28x28"
      ]
    },
    {
      "cell_type": "code",
      "execution_count": 33,
      "metadata": {
        "id": "qNApvfT5aJXz",
        "outputId": "64725745-698b-459a-9459-0a222ba3560d",
        "colab": {
          "base_uri": "https://localhost:8080/"
        }
      },
      "outputs": [
        {
          "output_type": "stream",
          "name": "stdout",
          "text": [
            "13/13 [==============================] - 0s 3ms/step - loss: 0.0429 - accuracy: 0.9875\n"
          ]
        },
        {
          "output_type": "execute_result",
          "data": {
            "text/plain": [
              "[0.04291549697518349, 0.987500011920929]"
            ]
          },
          "metadata": {},
          "execution_count": 33
        }
      ],
      "source": [
        "model3.evaluate(X_test_28, y_test)"
      ]
    },
    {
      "cell_type": "markdown",
      "metadata": {
        "id": "UbxJ6HDLaV0h"
      },
      "source": [
        "## Now try it with different size!!!!"
      ]
    },
    {
      "cell_type": "code",
      "execution_count": null,
      "metadata": {
        "id": "faqrYP7yaUZy"
      },
      "outputs": [],
      "source": [
        "model.evaluate(X_test_32, y_test)"
      ]
    }
  ],
  "metadata": {
    "accelerator": "GPU",
    "anaconda-cloud": {},
    "colab": {
      "gpuType": "T4",
      "provenance": []
    },
    "gpuClass": "standard",
    "kernelspec": {
      "display_name": "vision-class",
      "language": "python",
      "name": "tensorflow_25"
    },
    "language_info": {
      "codemirror_mode": {
        "name": "ipython",
        "version": 3
      },
      "file_extension": ".py",
      "mimetype": "text/x-python",
      "name": "python",
      "nbconvert_exporter": "python",
      "pygments_lexer": "ipython3",
      "version": "3.8.10"
    },
    "nbpresent": {
      "slides": {
        "300ee14f-a043-486e-b274-7ff253907cd7": {
          "id": "300ee14f-a043-486e-b274-7ff253907cd7",
          "prev": "cb74e0bc-4513-4d13-b7f1-14c3078a7927",
          "regions": {
            "26dc3f39-a230-447c-af4c-f5e5b2fb7835": {
              "attrs": {
                "height": 0.8,
                "width": 0.8,
                "x": 0.1,
                "y": 0.1
              },
              "content": {
                "cell": "c58440a5-3f8f-4f37-9c79-6bf766209406",
                "part": "whole"
              },
              "id": "26dc3f39-a230-447c-af4c-f5e5b2fb7835"
            }
          }
        },
        "878aa53a-1444-4100-8f50-7a408191c579": {
          "id": "878aa53a-1444-4100-8f50-7a408191c579",
          "prev": null,
          "regions": {
            "a6c6843a-5ea6-4fbc-b890-3b4b8ae475b3": {
              "attrs": {
                "height": 0.8,
                "width": 0.8,
                "x": 0.1,
                "y": 0.1
              },
              "content": {
                "cell": "588ee1fa-64b5-453b-ade7-8e6b2515821c",
                "part": "whole"
              },
              "id": "a6c6843a-5ea6-4fbc-b890-3b4b8ae475b3"
            }
          }
        },
        "96ffe88e-7b50-43de-afdd-942e564f4e3e": {
          "id": "96ffe88e-7b50-43de-afdd-942e564f4e3e",
          "prev": "878aa53a-1444-4100-8f50-7a408191c579",
          "regions": {
            "b7e52e12-489a-468d-b10c-af2024fd2856": {
              "attrs": {
                "height": 0.8,
                "width": 0.8,
                "x": 0.1,
                "y": 0.1
              },
              "content": {
                "cell": "de829a92-1fb6-44ad-a2c6-fc1001e1f6e1",
                "part": "whole"
              },
              "id": "b7e52e12-489a-468d-b10c-af2024fd2856"
            }
          }
        },
        "cb74e0bc-4513-4d13-b7f1-14c3078a7927": {
          "id": "cb74e0bc-4513-4d13-b7f1-14c3078a7927",
          "prev": "96ffe88e-7b50-43de-afdd-942e564f4e3e",
          "regions": {
            "444878ee-68f3-4abb-acff-a7079b21e86d": {
              "attrs": {
                "height": 0.8,
                "width": 0.8,
                "x": 0.1,
                "y": 0.1
              },
              "content": {
                "cell": "25f3f538-1ee8-4d98-a6bb-14cbeb7a702d",
                "part": "whole"
              },
              "id": "444878ee-68f3-4abb-acff-a7079b21e86d"
            }
          }
        }
      },
      "themes": {}
    }
  },
  "nbformat": 4,
  "nbformat_minor": 0
}