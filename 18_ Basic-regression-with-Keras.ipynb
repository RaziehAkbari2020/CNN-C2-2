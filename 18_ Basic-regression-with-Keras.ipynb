{
  "cells": [
    {
      "cell_type": "markdown",
      "metadata": {
        "id": "Z1gUuuILo-MX"
      },
      "source": [
        "<center><div style=\"direction:rtl;font-family:B Lotus, B Nazanin, Tahoma\">به نام خدا</div></center>\n",
        "\n",
        "<h1><center><div style=\"direction:rtl;font-family:B Lotus, B Nazanin, Tahoma\">رگرسیون یا\n",
        "Regression داده های ساختار یافته\n",
        "</div></center></h1>"
      ]
    },
    {
      "cell_type": "markdown",
      "metadata": {
        "id": "gyjFa5j8o-MZ"
      },
      "source": [
        "## <div style=\"direction:rtl;text-align:right;font-family:B Lotus, B Nazanin, Tahoma\">معرفی مجموعه داده تخممین قیمت منازل </div>\n",
        "\n",
        "<div style=\"direction:rtl;text-align:right;font-family:Tahoma\">\n",
        "این مجموعه داده در مقاله سال 2016 تحت عنوان 2016\n",
        "    House price estimation from visual and textual features\n",
        "معرفی و منتشر شده است.\n",
        "</div>\n",
        "<p>\n",
        "<a href=\"https://github.com/emanhamed/Houses-dataset\" target=\"_blank\">\n",
        "https://github.com/emanhamed/Houses-dataset\n",
        "</a>\n",
        "<br>\n",
        "<a href=\"https://arxiv.org/pdf/1609.08399.pdf\" target=\"_blank\">\n",
        "https://arxiv.org/pdf/1609.08399.pdf\n",
        "</a>\n",
        "    \n",
        "</p>"
      ]
    },
    {
      "cell_type": "code",
      "execution_count": 1,
      "metadata": {
        "id": "IkXIYKcko-Ma"
      },
      "outputs": [],
      "source": [
        "# import the necessary packages\n",
        "from keras.models import Sequential\n",
        "from keras.layers import Dense, Dropout, Activation\n",
        "from sklearn.preprocessing import LabelBinarizer\n",
        "from sklearn.preprocessing import MinMaxScaler\n",
        "from sklearn.model_selection import train_test_split\n",
        "from keras.optimizers import Adam\n",
        "import pandas as pd\n",
        "import numpy as np\n",
        "import glob\n",
        "import cv2\n",
        "import os\n",
        "import locale"
      ]
    },
    {
      "cell_type": "code",
      "execution_count": 2,
      "metadata": {
        "id": "MPUAe6G8o-Mb"
      },
      "outputs": [],
      "source": [
        "### آدرس دیتا رو بهش میدیم\n",
        "\n",
        "cols = [\"bedrooms\", \"bathrooms\", \"area\", \"zipcode\", \"price\"]\n",
        "df = pd.read_csv(\"https://raw.githubusercontent.com/emanhamed/Houses-dataset/master/Houses%20Dataset/HousesInfo.txt\", sep=\" \", header=None, names=cols)\n"
      ]
    },
    {
      "cell_type": "code",
      "execution_count": 3,
      "metadata": {
        "id": "-QaARCeKo-Mc",
        "outputId": "330b1fbc-ec6a-4530-b3c3-d1d54ff7c99a",
        "colab": {
          "base_uri": "https://localhost:8080/",
          "height": 206
        }
      },
      "outputs": [
        {
          "output_type": "execute_result",
          "data": {
            "text/plain": [
              "   bedrooms  bathrooms  area  zipcode   price\n",
              "0         4        4.0  4053    85255  869500\n",
              "1         4        3.0  3343    36372  865200\n",
              "2         3        4.0  3923    85266  889000\n",
              "3         5        5.0  4022    85262  910000\n",
              "4         3        4.0  4116    85266  971226"
            ],
            "text/html": [
              "\n",
              "  <div id=\"df-0649003c-5887-41ca-ba0b-351a3f82ed1c\" class=\"colab-df-container\">\n",
              "    <div>\n",
              "<style scoped>\n",
              "    .dataframe tbody tr th:only-of-type {\n",
              "        vertical-align: middle;\n",
              "    }\n",
              "\n",
              "    .dataframe tbody tr th {\n",
              "        vertical-align: top;\n",
              "    }\n",
              "\n",
              "    .dataframe thead th {\n",
              "        text-align: right;\n",
              "    }\n",
              "</style>\n",
              "<table border=\"1\" class=\"dataframe\">\n",
              "  <thead>\n",
              "    <tr style=\"text-align: right;\">\n",
              "      <th></th>\n",
              "      <th>bedrooms</th>\n",
              "      <th>bathrooms</th>\n",
              "      <th>area</th>\n",
              "      <th>zipcode</th>\n",
              "      <th>price</th>\n",
              "    </tr>\n",
              "  </thead>\n",
              "  <tbody>\n",
              "    <tr>\n",
              "      <th>0</th>\n",
              "      <td>4</td>\n",
              "      <td>4.0</td>\n",
              "      <td>4053</td>\n",
              "      <td>85255</td>\n",
              "      <td>869500</td>\n",
              "    </tr>\n",
              "    <tr>\n",
              "      <th>1</th>\n",
              "      <td>4</td>\n",
              "      <td>3.0</td>\n",
              "      <td>3343</td>\n",
              "      <td>36372</td>\n",
              "      <td>865200</td>\n",
              "    </tr>\n",
              "    <tr>\n",
              "      <th>2</th>\n",
              "      <td>3</td>\n",
              "      <td>4.0</td>\n",
              "      <td>3923</td>\n",
              "      <td>85266</td>\n",
              "      <td>889000</td>\n",
              "    </tr>\n",
              "    <tr>\n",
              "      <th>3</th>\n",
              "      <td>5</td>\n",
              "      <td>5.0</td>\n",
              "      <td>4022</td>\n",
              "      <td>85262</td>\n",
              "      <td>910000</td>\n",
              "    </tr>\n",
              "    <tr>\n",
              "      <th>4</th>\n",
              "      <td>3</td>\n",
              "      <td>4.0</td>\n",
              "      <td>4116</td>\n",
              "      <td>85266</td>\n",
              "      <td>971226</td>\n",
              "    </tr>\n",
              "  </tbody>\n",
              "</table>\n",
              "</div>\n",
              "    <div class=\"colab-df-buttons\">\n",
              "\n",
              "  <div class=\"colab-df-container\">\n",
              "    <button class=\"colab-df-convert\" onclick=\"convertToInteractive('df-0649003c-5887-41ca-ba0b-351a3f82ed1c')\"\n",
              "            title=\"Convert this dataframe to an interactive table.\"\n",
              "            style=\"display:none;\">\n",
              "\n",
              "  <svg xmlns=\"http://www.w3.org/2000/svg\" height=\"24px\" viewBox=\"0 -960 960 960\">\n",
              "    <path d=\"M120-120v-720h720v720H120Zm60-500h600v-160H180v160Zm220 220h160v-160H400v160Zm0 220h160v-160H400v160ZM180-400h160v-160H180v160Zm440 0h160v-160H620v160ZM180-180h160v-160H180v160Zm440 0h160v-160H620v160Z\"/>\n",
              "  </svg>\n",
              "    </button>\n",
              "\n",
              "  <style>\n",
              "    .colab-df-container {\n",
              "      display:flex;\n",
              "      gap: 12px;\n",
              "    }\n",
              "\n",
              "    .colab-df-convert {\n",
              "      background-color: #E8F0FE;\n",
              "      border: none;\n",
              "      border-radius: 50%;\n",
              "      cursor: pointer;\n",
              "      display: none;\n",
              "      fill: #1967D2;\n",
              "      height: 32px;\n",
              "      padding: 0 0 0 0;\n",
              "      width: 32px;\n",
              "    }\n",
              "\n",
              "    .colab-df-convert:hover {\n",
              "      background-color: #E2EBFA;\n",
              "      box-shadow: 0px 1px 2px rgba(60, 64, 67, 0.3), 0px 1px 3px 1px rgba(60, 64, 67, 0.15);\n",
              "      fill: #174EA6;\n",
              "    }\n",
              "\n",
              "    .colab-df-buttons div {\n",
              "      margin-bottom: 4px;\n",
              "    }\n",
              "\n",
              "    [theme=dark] .colab-df-convert {\n",
              "      background-color: #3B4455;\n",
              "      fill: #D2E3FC;\n",
              "    }\n",
              "\n",
              "    [theme=dark] .colab-df-convert:hover {\n",
              "      background-color: #434B5C;\n",
              "      box-shadow: 0px 1px 3px 1px rgba(0, 0, 0, 0.15);\n",
              "      filter: drop-shadow(0px 1px 2px rgba(0, 0, 0, 0.3));\n",
              "      fill: #FFFFFF;\n",
              "    }\n",
              "  </style>\n",
              "\n",
              "    <script>\n",
              "      const buttonEl =\n",
              "        document.querySelector('#df-0649003c-5887-41ca-ba0b-351a3f82ed1c button.colab-df-convert');\n",
              "      buttonEl.style.display =\n",
              "        google.colab.kernel.accessAllowed ? 'block' : 'none';\n",
              "\n",
              "      async function convertToInteractive(key) {\n",
              "        const element = document.querySelector('#df-0649003c-5887-41ca-ba0b-351a3f82ed1c');\n",
              "        const dataTable =\n",
              "          await google.colab.kernel.invokeFunction('convertToInteractive',\n",
              "                                                    [key], {});\n",
              "        if (!dataTable) return;\n",
              "\n",
              "        const docLinkHtml = 'Like what you see? Visit the ' +\n",
              "          '<a target=\"_blank\" href=https://colab.research.google.com/notebooks/data_table.ipynb>data table notebook</a>'\n",
              "          + ' to learn more about interactive tables.';\n",
              "        element.innerHTML = '';\n",
              "        dataTable['output_type'] = 'display_data';\n",
              "        await google.colab.output.renderOutput(dataTable, element);\n",
              "        const docLink = document.createElement('div');\n",
              "        docLink.innerHTML = docLinkHtml;\n",
              "        element.appendChild(docLink);\n",
              "      }\n",
              "    </script>\n",
              "  </div>\n",
              "\n",
              "\n",
              "<div id=\"df-04cf624c-0d50-48b3-a636-16b80ff44625\">\n",
              "  <button class=\"colab-df-quickchart\" onclick=\"quickchart('df-04cf624c-0d50-48b3-a636-16b80ff44625')\"\n",
              "            title=\"Suggest charts\"\n",
              "            style=\"display:none;\">\n",
              "\n",
              "<svg xmlns=\"http://www.w3.org/2000/svg\" height=\"24px\"viewBox=\"0 0 24 24\"\n",
              "     width=\"24px\">\n",
              "    <g>\n",
              "        <path d=\"M19 3H5c-1.1 0-2 .9-2 2v14c0 1.1.9 2 2 2h14c1.1 0 2-.9 2-2V5c0-1.1-.9-2-2-2zM9 17H7v-7h2v7zm4 0h-2V7h2v10zm4 0h-2v-4h2v4z\"/>\n",
              "    </g>\n",
              "</svg>\n",
              "  </button>\n",
              "\n",
              "<style>\n",
              "  .colab-df-quickchart {\n",
              "      --bg-color: #E8F0FE;\n",
              "      --fill-color: #1967D2;\n",
              "      --hover-bg-color: #E2EBFA;\n",
              "      --hover-fill-color: #174EA6;\n",
              "      --disabled-fill-color: #AAA;\n",
              "      --disabled-bg-color: #DDD;\n",
              "  }\n",
              "\n",
              "  [theme=dark] .colab-df-quickchart {\n",
              "      --bg-color: #3B4455;\n",
              "      --fill-color: #D2E3FC;\n",
              "      --hover-bg-color: #434B5C;\n",
              "      --hover-fill-color: #FFFFFF;\n",
              "      --disabled-bg-color: #3B4455;\n",
              "      --disabled-fill-color: #666;\n",
              "  }\n",
              "\n",
              "  .colab-df-quickchart {\n",
              "    background-color: var(--bg-color);\n",
              "    border: none;\n",
              "    border-radius: 50%;\n",
              "    cursor: pointer;\n",
              "    display: none;\n",
              "    fill: var(--fill-color);\n",
              "    height: 32px;\n",
              "    padding: 0;\n",
              "    width: 32px;\n",
              "  }\n",
              "\n",
              "  .colab-df-quickchart:hover {\n",
              "    background-color: var(--hover-bg-color);\n",
              "    box-shadow: 0 1px 2px rgba(60, 64, 67, 0.3), 0 1px 3px 1px rgba(60, 64, 67, 0.15);\n",
              "    fill: var(--button-hover-fill-color);\n",
              "  }\n",
              "\n",
              "  .colab-df-quickchart-complete:disabled,\n",
              "  .colab-df-quickchart-complete:disabled:hover {\n",
              "    background-color: var(--disabled-bg-color);\n",
              "    fill: var(--disabled-fill-color);\n",
              "    box-shadow: none;\n",
              "  }\n",
              "\n",
              "  .colab-df-spinner {\n",
              "    border: 2px solid var(--fill-color);\n",
              "    border-color: transparent;\n",
              "    border-bottom-color: var(--fill-color);\n",
              "    animation:\n",
              "      spin 1s steps(1) infinite;\n",
              "  }\n",
              "\n",
              "  @keyframes spin {\n",
              "    0% {\n",
              "      border-color: transparent;\n",
              "      border-bottom-color: var(--fill-color);\n",
              "      border-left-color: var(--fill-color);\n",
              "    }\n",
              "    20% {\n",
              "      border-color: transparent;\n",
              "      border-left-color: var(--fill-color);\n",
              "      border-top-color: var(--fill-color);\n",
              "    }\n",
              "    30% {\n",
              "      border-color: transparent;\n",
              "      border-left-color: var(--fill-color);\n",
              "      border-top-color: var(--fill-color);\n",
              "      border-right-color: var(--fill-color);\n",
              "    }\n",
              "    40% {\n",
              "      border-color: transparent;\n",
              "      border-right-color: var(--fill-color);\n",
              "      border-top-color: var(--fill-color);\n",
              "    }\n",
              "    60% {\n",
              "      border-color: transparent;\n",
              "      border-right-color: var(--fill-color);\n",
              "    }\n",
              "    80% {\n",
              "      border-color: transparent;\n",
              "      border-right-color: var(--fill-color);\n",
              "      border-bottom-color: var(--fill-color);\n",
              "    }\n",
              "    90% {\n",
              "      border-color: transparent;\n",
              "      border-bottom-color: var(--fill-color);\n",
              "    }\n",
              "  }\n",
              "</style>\n",
              "\n",
              "  <script>\n",
              "    async function quickchart(key) {\n",
              "      const quickchartButtonEl =\n",
              "        document.querySelector('#' + key + ' button');\n",
              "      quickchartButtonEl.disabled = true;  // To prevent multiple clicks.\n",
              "      quickchartButtonEl.classList.add('colab-df-spinner');\n",
              "      try {\n",
              "        const charts = await google.colab.kernel.invokeFunction(\n",
              "            'suggestCharts', [key], {});\n",
              "      } catch (error) {\n",
              "        console.error('Error during call to suggestCharts:', error);\n",
              "      }\n",
              "      quickchartButtonEl.classList.remove('colab-df-spinner');\n",
              "      quickchartButtonEl.classList.add('colab-df-quickchart-complete');\n",
              "    }\n",
              "    (() => {\n",
              "      let quickchartButtonEl =\n",
              "        document.querySelector('#df-04cf624c-0d50-48b3-a636-16b80ff44625 button');\n",
              "      quickchartButtonEl.style.display =\n",
              "        google.colab.kernel.accessAllowed ? 'block' : 'none';\n",
              "    })();\n",
              "  </script>\n",
              "</div>\n",
              "    </div>\n",
              "  </div>\n"
            ]
          },
          "metadata": {},
          "execution_count": 3
        }
      ],
      "source": [
        "df.head()"
      ]
    },
    {
      "cell_type": "markdown",
      "metadata": {
        "id": "3knMZ84lo-Mc"
      },
      "source": [
        "<div style=\"direction:rtl;text-align:right;font-family:Tahoma\">\n",
        "کد پستی های منحصر به فرد  و تعدادشان\n",
        "</div>"
      ]
    },
    {
      "cell_type": "code",
      "execution_count": 4,
      "metadata": {
        "id": "AAxjAxDFo-Md",
        "outputId": "e36404b3-aae5-40ef-d955-9c29745fd267",
        "colab": {
          "base_uri": "https://localhost:8080/"
        }
      },
      "outputs": [
        {
          "output_type": "stream",
          "name": "stdout",
          "text": [
            "91901 32\n",
            "92276 100\n",
            "92677 26\n",
            "92880 49\n",
            "93446 54\n",
            "93510 60\n",
            "94501 41\n",
            "94531 22\n"
          ]
        }
      ],
      "source": [
        "zipcodes , counts= np.unique(df[\"zipcode\"], return_counts=True)\n",
        "#dict(zip(zipcodes, counts))\n",
        "\n",
        "for zipcodes , counts in zip(zipcodes , counts):\n",
        "  if counts > 20:\n",
        "      print(zipcodes , counts)\n",
        "#### دلیل این کارمون اینه که برای مناطقی که کم سمپل داشته باشیم قابلیت پردیکت کردن سخت میشه و نمیشه"
      ]
    },
    {
      "cell_type": "code",
      "execution_count": 5,
      "metadata": {
        "id": "bYW0JORLo-Md",
        "outputId": "02fc0688-8a18-4599-e4ee-d41cd8170cea",
        "colab": {
          "base_uri": "https://localhost:8080/"
        }
      },
      "outputs": [
        {
          "output_type": "execute_result",
          "data": {
            "text/plain": [
              "(535, 5)"
            ]
          },
          "metadata": {},
          "execution_count": 5
        }
      ],
      "source": [
        "df.shape"
      ]
    },
    {
      "cell_type": "markdown",
      "metadata": {
        "id": "G_9_sqD0o-Md"
      },
      "source": [
        "<div style=\"direction:rtl;text-align:right;font-family:Tahoma\">\n",
        "    حذف رکوردهایی که zip code آن منزل ها zip code شان کمتر از 25 بار تکرا شده است\n",
        "</div>"
      ]
    },
    {
      "cell_type": "code",
      "source": [
        "print(type(zipcodes), type(counts))  # باید هر دو iterable باشند، مانند list یا tuple\n"
      ],
      "metadata": {
        "id": "i0s3WoBJzXKI",
        "outputId": "a4393c5a-49c1-46bc-b219-2bf1fd961e5b",
        "colab": {
          "base_uri": "https://localhost:8080/"
        }
      },
      "execution_count": 6,
      "outputs": [
        {
          "output_type": "stream",
          "name": "stdout",
          "text": [
            "<class 'numpy.int64'> <class 'numpy.int64'>\n"
          ]
        }
      ]
    },
    {
      "cell_type": "code",
      "execution_count": 10,
      "metadata": {
        "id": "urPWLSoUo-Mf"
      },
      "outputs": [],
      "source": [
        "# loop over each of the unique zip codes and their corresponding\n",
        "# count\n",
        "zipcodes = [zipcodes] if isinstance(zipcodes, np.int64) else zipcodes\n",
        "counts = [counts] if isinstance(counts, np.int64) else counts\n",
        "for (zipcode, count) in zip(zipcodes, counts):\n",
        "    #the zip code counts for our housing dataset is *extremely*\n",
        "    #unbalanced (some only having 1 or 2 houses per zip code)\n",
        "    # so let's sanitize our data by removing any houses with less\n",
        "    # than 25 houses per zip code\n",
        "    if count < 25:\n",
        "        idxs = df[df[\"zipcode\"] == zipcode].index\n",
        "        df.drop(idxs, inplace=True)"
      ]
    },
    {
      "cell_type": "code",
      "source": [
        "df[\"zipcode\"]"
      ],
      "metadata": {
        "id": "olMYCc574UQw",
        "outputId": "10b1f28a-84ef-4d43-c003-ca34da8f20dc",
        "colab": {
          "base_uri": "https://localhost:8080/"
        }
      },
      "execution_count": 7,
      "outputs": [
        {
          "output_type": "execute_result",
          "data": {
            "text/plain": [
              "0      85255\n",
              "1      36372\n",
              "2      85266\n",
              "3      85262\n",
              "4      85266\n",
              "       ...  \n",
              "530    94531\n",
              "531    94531\n",
              "532    94531\n",
              "533    94531\n",
              "534    94531\n",
              "Name: zipcode, Length: 535, dtype: int64"
            ]
          },
          "metadata": {},
          "execution_count": 7
        }
      ]
    },
    {
      "cell_type": "code",
      "source": [
        "# فرض می‌کنیم zipcode و count هر دو از نوع numpy.int64 هستند و فقط شامل یک عدد هستند.\n",
        "###if counts < 25:\n",
        "    ###idxs = df[df[\"zipcode\"] == zipcode].index\n",
        "    ###df.drop(idxs, inplace=True)\n"
      ],
      "metadata": {
        "id": "VJn5cfxv2ScL",
        "outputId": "a56c446f-793f-42eb-b822-f896bda899c4",
        "colab": {
          "base_uri": "https://localhost:8080/",
          "height": 228
        }
      },
      "execution_count": 8,
      "outputs": [
        {
          "output_type": "error",
          "ename": "NameError",
          "evalue": "name 'zipcode' is not defined",
          "traceback": [
            "\u001b[0;31m---------------------------------------------------------------------------\u001b[0m",
            "\u001b[0;31mNameError\u001b[0m                                 Traceback (most recent call last)",
            "\u001b[0;32m<ipython-input-8-b89d0ce01f72>\u001b[0m in \u001b[0;36m<cell line: 2>\u001b[0;34m()\u001b[0m\n\u001b[1;32m      1\u001b[0m \u001b[0;31m# فرض می‌کنیم zipcode و count هر دو از نوع numpy.int64 هستند و فقط شامل یک عدد هستند.\u001b[0m\u001b[0;34m\u001b[0m\u001b[0;34m\u001b[0m\u001b[0m\n\u001b[1;32m      2\u001b[0m \u001b[0;32mif\u001b[0m \u001b[0mcounts\u001b[0m \u001b[0;34m<\u001b[0m \u001b[0;36m25\u001b[0m\u001b[0;34m:\u001b[0m\u001b[0;34m\u001b[0m\u001b[0;34m\u001b[0m\u001b[0m\n\u001b[0;32m----> 3\u001b[0;31m     \u001b[0midxs\u001b[0m \u001b[0;34m=\u001b[0m \u001b[0mdf\u001b[0m\u001b[0;34m[\u001b[0m\u001b[0mdf\u001b[0m\u001b[0;34m[\u001b[0m\u001b[0;34m\"zipcode\"\u001b[0m\u001b[0;34m]\u001b[0m \u001b[0;34m==\u001b[0m \u001b[0mzipcode\u001b[0m\u001b[0;34m]\u001b[0m\u001b[0;34m.\u001b[0m\u001b[0mindex\u001b[0m\u001b[0;34m\u001b[0m\u001b[0;34m\u001b[0m\u001b[0m\n\u001b[0m\u001b[1;32m      4\u001b[0m     \u001b[0mdf\u001b[0m\u001b[0;34m.\u001b[0m\u001b[0mdrop\u001b[0m\u001b[0;34m(\u001b[0m\u001b[0midxs\u001b[0m\u001b[0;34m,\u001b[0m \u001b[0minplace\u001b[0m\u001b[0;34m=\u001b[0m\u001b[0;32mTrue\u001b[0m\u001b[0;34m)\u001b[0m\u001b[0;34m\u001b[0m\u001b[0;34m\u001b[0m\u001b[0m\n",
            "\u001b[0;31mNameError\u001b[0m: name 'zipcode' is not defined"
          ]
        }
      ]
    },
    {
      "cell_type": "code",
      "source": [
        "df.shape"
      ],
      "metadata": {
        "id": "4Lq6GdyD18Sg",
        "outputId": "c7c2598b-d20c-403a-f0b5-04cd665652b9",
        "colab": {
          "base_uri": "https://localhost:8080/"
        }
      },
      "execution_count": 12,
      "outputs": [
        {
          "output_type": "execute_result",
          "data": {
            "text/plain": [
              "(531, 5)"
            ]
          },
          "metadata": {},
          "execution_count": 12
        }
      ]
    },
    {
      "cell_type": "markdown",
      "metadata": {
        "id": "XT-TVUFxo-Mg"
      },
      "source": [
        "<div style=\"direction:rtl;text-align:right;font-family:Tahoma\">\n",
        "جدا کردن داده های موجود به داده های آموزش و آزمون</div>"
      ]
    },
    {
      "cell_type": "code",
      "execution_count": 13,
      "metadata": {
        "id": "VNDDSkXgo-Mg",
        "outputId": "f324d8da-5ac7-4bc4-fbe5-a2f448d34b5c",
        "colab": {
          "base_uri": "https://localhost:8080/"
        }
      },
      "outputs": [
        {
          "output_type": "stream",
          "name": "stdout",
          "text": [
            "(398, 5)\n",
            "(133, 5)\n"
          ]
        }
      ],
      "source": [
        "(train, test) = train_test_split(df, test_size=0.25, random_state=42)\n",
        "print(train.shape)\n",
        "print(test.shape)"
      ]
    },
    {
      "cell_type": "markdown",
      "metadata": {
        "id": "SfmTaHS1o-Mg"
      },
      "source": [
        "## <div style=\"direction:rtl;text-align:right;font-family:B Lotus, B Nazanin, Tahoma\">پیش پردازش داده ها:</div>\n",
        "\n",
        "<div style=\"direction:rtl;text-align:right;font-family:Tahoma\">\n",
        "نرمال سازی داده ها یا Scaling  داده ها بین 0 و 1\n",
        "</div>"
      ]
    },
    {
      "cell_type": "code",
      "execution_count": 14,
      "metadata": {
        "id": "RcRAWWLMo-Mg"
      },
      "outputs": [],
      "source": [
        "# find the largest house price in the training set and use it to\n",
        "# scale our house prices to the range [0, 1] (this will lead to\n",
        "# better training and convergence)\n",
        "maxPrice = train[\"price\"].max()\n",
        "trainY = train[\"price\"] / maxPrice\n",
        "testY = test[\"price\"] / maxPrice"
      ]
    },
    {
      "cell_type": "code",
      "execution_count": 15,
      "metadata": {
        "id": "-SibdgVFo-Mg"
      },
      "outputs": [],
      "source": [
        "# initialize the column names of the continuous data\n",
        "continuous = [\"bedrooms\", \"bathrooms\", \"area\"]\n",
        "\n",
        "# performin min-max scaling each continuous feature column to\n",
        "# the range [0, 1]\n",
        "cs = MinMaxScaler()\n",
        "trainContinuous = cs.fit_transform(train[continuous])\n",
        "testContinuous = cs.transform(test[continuous])"
      ]
    },
    {
      "cell_type": "markdown",
      "metadata": {
        "id": "NTbNhMvEo-Mi"
      },
      "source": [
        "<div style=\"direction:rtl;text-align:right;font-family:Tahoma\">\n",
        "تبدیل مقادیر گسسته به one-hot</div>"
      ]
    },
    {
      "cell_type": "code",
      "execution_count": null,
      "metadata": {
        "id": "nRyXPHlBo-Mi"
      },
      "outputs": [],
      "source": [
        "# one-hot encode the zip code categorical data (by definition of\n",
        "# one-hot encoing, all output features are now in the range [0, 1])\n",
        "zipBinarizer = LabelBinarizer().fit(df[\"zipcode\"])\n",
        "trainCategorical = zipBinarizer.transform(train[\"zipcode\"])\n",
        "testCategorical = zipBinarizer.transform(test[\"zipcode\"])"
      ]
    },
    {
      "cell_type": "code",
      "source": [
        "zipBinarizer = LabelBinarizer().fit(train[\"zipcode\"])\n",
        "trainCategorical = zipBinarizer.transform(train[\"zipcode\"])\n",
        "testCategorical = zipBinarizer.transform(test[\"zipcode\"])\n"
      ],
      "metadata": {
        "id": "2u-8AZdS9vIy"
      },
      "execution_count": 16,
      "outputs": []
    },
    {
      "cell_type": "markdown",
      "metadata": {
        "id": "PQzcpEPgo-Mi"
      },
      "source": [
        "<div style=\"direction:rtl;text-align:right;font-family:Tahoma\">\n",
        "    ترکیب ویژگی‌های گستته و پیوسته\n",
        "</div>"
      ]
    },
    {
      "cell_type": "code",
      "execution_count": 17,
      "metadata": {
        "id": "Iqxguniso-Mi",
        "outputId": "b1b71aa8-9a97-46f4-f6d3-4015967bde21",
        "colab": {
          "base_uri": "https://localhost:8080/"
        }
      },
      "outputs": [
        {
          "output_type": "stream",
          "name": "stdout",
          "text": [
            "(398, 48)\n",
            "(133, 48)\n"
          ]
        }
      ],
      "source": [
        "# construct our training and testing data points by concatenating\n",
        "# the categorical features with the continuous features\n",
        "trainX = np.hstack([trainCategorical, trainContinuous])\n",
        "testX = np.hstack([testCategorical, testContinuous])\n",
        "\n",
        "print(trainX.shape)\n",
        "print(testX.shape)"
      ]
    },
    {
      "cell_type": "markdown",
      "metadata": {
        "id": "L80J5sUdo-Mi"
      },
      "source": [
        "## <div style=\"direction:rtl;text-align:right;font-family:B Lotus, B Nazanin, Tahoma\">تعریف معماری مدل (model architecture)</div>"
      ]
    },
    {
      "cell_type": "code",
      "execution_count": 20,
      "metadata": {
        "id": "w_4Pjvoqo-Mi"
      },
      "outputs": [],
      "source": [
        "dim = trainX.shape[1]\n",
        "# define our MLP network\n",
        "model = Sequential()\n",
        "model.add(Dense(8, input_dim=dim, activation=\"relu\"))\n",
        "model.add(Dense(4, activation=\"relu\"))\n",
        "model.add(Dense(1, activation=\"linear\"))"
      ]
    },
    {
      "cell_type": "markdown",
      "metadata": {
        "id": "s7hlqMEWo-Mi"
      },
      "source": [
        "## <div style=\"direction:rtl;text-align:right;font-family:B Lotus, B Nazanin, Tahoma\">Compile model</div>"
      ]
    },
    {
      "cell_type": "code",
      "source": [
        "import tensorflow as tf"
      ],
      "metadata": {
        "id": "8mphY7QmB4uD"
      },
      "execution_count": 23,
      "outputs": []
    },
    {
      "cell_type": "code",
      "execution_count": 24,
      "metadata": {
        "id": "rnZJkOcOo-Mj",
        "outputId": "8ef672cc-4423-4a30-e8aa-2814c2dd8683",
        "colab": {
          "base_uri": "https://localhost:8080/"
        }
      },
      "outputs": [
        {
          "output_type": "stream",
          "name": "stderr",
          "text": [
            "/usr/local/lib/python3.10/dist-packages/keras/src/optimizers/legacy/adam.py:118: UserWarning: The `lr` argument is deprecated, use `learning_rate` instead.\n",
            "  super().__init__(name, **kwargs)\n"
          ]
        }
      ],
      "source": [
        "opt = tf.keras.optimizers.legacy.Adam(lr=1e-3, decay=1e-3 / 200)\n",
        "model.compile(loss=\"mean_absolute_percentage_error\", optimizer=opt)"
      ]
    },
    {
      "cell_type": "markdown",
      "metadata": {
        "id": "abgKwB12o-Mj"
      },
      "source": [
        "## <div style=\"direction:rtl;text-align:right;font-family:B Lotus, B Nazanin, Tahoma\">آموش مدل با داده‌های آموزشی</div>"
      ]
    },
    {
      "cell_type": "code",
      "execution_count": 25,
      "metadata": {
        "id": "bjSKc5uFo-Mj",
        "outputId": "e4a03fe8-20e0-4945-9e38-55106af0aef4",
        "colab": {
          "base_uri": "https://localhost:8080/"
        }
      },
      "outputs": [
        {
          "output_type": "stream",
          "name": "stdout",
          "text": [
            "Epoch 1/200\n",
            "50/50 [==============================] - 3s 7ms/step - loss: 140.2897 - val_loss: 69.7118\n",
            "Epoch 2/200\n",
            "50/50 [==============================] - 0s 4ms/step - loss: 67.1011 - val_loss: 59.0435\n",
            "Epoch 3/200\n",
            "50/50 [==============================] - 0s 4ms/step - loss: 53.5928 - val_loss: 55.9356\n",
            "Epoch 4/200\n",
            "50/50 [==============================] - 0s 4ms/step - loss: 46.3029 - val_loss: 55.4449\n",
            "Epoch 5/200\n",
            "50/50 [==============================] - 0s 4ms/step - loss: 41.0066 - val_loss: 54.2016\n",
            "Epoch 6/200\n",
            "50/50 [==============================] - 0s 4ms/step - loss: 37.9885 - val_loss: 53.5033\n",
            "Epoch 7/200\n",
            "50/50 [==============================] - 0s 4ms/step - loss: 36.8645 - val_loss: 54.7391\n",
            "Epoch 8/200\n",
            "50/50 [==============================] - 0s 4ms/step - loss: 33.6879 - val_loss: 53.4860\n",
            "Epoch 9/200\n",
            "50/50 [==============================] - 0s 5ms/step - loss: 32.3336 - val_loss: 51.5907\n",
            "Epoch 10/200\n",
            "50/50 [==============================] - 0s 4ms/step - loss: 31.5928 - val_loss: 50.2660\n",
            "Epoch 11/200\n",
            "50/50 [==============================] - 0s 5ms/step - loss: 30.9143 - val_loss: 50.3031\n",
            "Epoch 12/200\n",
            "50/50 [==============================] - 0s 4ms/step - loss: 30.9357 - val_loss: 51.7288\n",
            "Epoch 13/200\n",
            "50/50 [==============================] - 0s 4ms/step - loss: 30.6845 - val_loss: 51.1371\n",
            "Epoch 14/200\n",
            "50/50 [==============================] - 0s 4ms/step - loss: 30.7812 - val_loss: 48.9106\n",
            "Epoch 15/200\n",
            "50/50 [==============================] - 0s 4ms/step - loss: 29.3135 - val_loss: 48.9735\n",
            "Epoch 16/200\n",
            "50/50 [==============================] - 0s 4ms/step - loss: 28.2699 - val_loss: 49.7540\n",
            "Epoch 17/200\n",
            "50/50 [==============================] - 0s 4ms/step - loss: 27.9647 - val_loss: 48.6182\n",
            "Epoch 18/200\n",
            "50/50 [==============================] - 0s 4ms/step - loss: 27.8628 - val_loss: 47.2990\n",
            "Epoch 19/200\n",
            "50/50 [==============================] - 0s 4ms/step - loss: 27.2621 - val_loss: 46.3234\n",
            "Epoch 20/200\n",
            "50/50 [==============================] - 0s 4ms/step - loss: 26.5120 - val_loss: 46.9329\n",
            "Epoch 21/200\n",
            "50/50 [==============================] - 0s 4ms/step - loss: 26.2102 - val_loss: 48.8541\n",
            "Epoch 22/200\n",
            "50/50 [==============================] - 0s 4ms/step - loss: 26.1691 - val_loss: 48.3749\n",
            "Epoch 23/200\n",
            "50/50 [==============================] - 0s 4ms/step - loss: 25.6248 - val_loss: 47.5390\n",
            "Epoch 24/200\n",
            "50/50 [==============================] - 0s 4ms/step - loss: 25.2970 - val_loss: 45.8915\n",
            "Epoch 25/200\n",
            "50/50 [==============================] - 0s 4ms/step - loss: 25.1067 - val_loss: 46.2563\n",
            "Epoch 26/200\n",
            "50/50 [==============================] - 0s 5ms/step - loss: 24.7162 - val_loss: 45.2856\n",
            "Epoch 27/200\n",
            "50/50 [==============================] - 0s 5ms/step - loss: 25.2387 - val_loss: 46.6735\n",
            "Epoch 28/200\n",
            "50/50 [==============================] - 0s 5ms/step - loss: 25.5199 - val_loss: 47.1998\n",
            "Epoch 29/200\n",
            "50/50 [==============================] - 0s 6ms/step - loss: 25.3653 - val_loss: 45.0197\n",
            "Epoch 30/200\n",
            "50/50 [==============================] - 0s 5ms/step - loss: 24.1707 - val_loss: 45.0110\n",
            "Epoch 31/200\n",
            "50/50 [==============================] - 0s 5ms/step - loss: 25.0695 - val_loss: 47.3639\n",
            "Epoch 32/200\n",
            "50/50 [==============================] - 0s 5ms/step - loss: 24.4251 - val_loss: 47.1643\n",
            "Epoch 33/200\n",
            "50/50 [==============================] - 0s 5ms/step - loss: 24.8095 - val_loss: 46.5855\n",
            "Epoch 34/200\n",
            "50/50 [==============================] - 0s 6ms/step - loss: 25.0899 - val_loss: 45.3442\n",
            "Epoch 35/200\n",
            "50/50 [==============================] - 0s 5ms/step - loss: 25.2156 - val_loss: 46.4522\n",
            "Epoch 36/200\n",
            "50/50 [==============================] - 0s 5ms/step - loss: 25.2691 - val_loss: 45.9466\n",
            "Epoch 37/200\n",
            "50/50 [==============================] - 0s 4ms/step - loss: 24.4809 - val_loss: 45.0242\n",
            "Epoch 38/200\n",
            "50/50 [==============================] - 0s 4ms/step - loss: 23.8627 - val_loss: 45.7008\n",
            "Epoch 39/200\n",
            "50/50 [==============================] - 0s 4ms/step - loss: 23.5018 - val_loss: 44.2840\n",
            "Epoch 40/200\n",
            "50/50 [==============================] - 0s 4ms/step - loss: 25.2710 - val_loss: 44.7929\n",
            "Epoch 41/200\n",
            "50/50 [==============================] - 0s 4ms/step - loss: 23.4021 - val_loss: 43.4468\n",
            "Epoch 42/200\n",
            "50/50 [==============================] - 0s 3ms/step - loss: 23.5932 - val_loss: 48.9546\n",
            "Epoch 43/200\n",
            "50/50 [==============================] - 0s 4ms/step - loss: 23.4042 - val_loss: 45.6684\n",
            "Epoch 44/200\n",
            "50/50 [==============================] - 0s 4ms/step - loss: 22.9968 - val_loss: 45.7602\n",
            "Epoch 45/200\n",
            "50/50 [==============================] - 0s 4ms/step - loss: 23.3828 - val_loss: 44.9141\n",
            "Epoch 46/200\n",
            "50/50 [==============================] - 0s 4ms/step - loss: 23.6686 - val_loss: 47.5619\n",
            "Epoch 47/200\n",
            "50/50 [==============================] - 0s 4ms/step - loss: 23.4435 - val_loss: 44.3290\n",
            "Epoch 48/200\n",
            "50/50 [==============================] - 0s 4ms/step - loss: 23.1798 - val_loss: 43.6133\n",
            "Epoch 49/200\n",
            "50/50 [==============================] - 0s 4ms/step - loss: 23.0664 - val_loss: 43.6262\n",
            "Epoch 50/200\n",
            "50/50 [==============================] - 0s 4ms/step - loss: 23.1949 - val_loss: 44.3201\n",
            "Epoch 51/200\n",
            "50/50 [==============================] - 0s 4ms/step - loss: 22.7914 - val_loss: 46.2211\n",
            "Epoch 52/200\n",
            "50/50 [==============================] - 0s 4ms/step - loss: 24.1004 - val_loss: 45.7319\n",
            "Epoch 53/200\n",
            "50/50 [==============================] - 0s 4ms/step - loss: 23.7276 - val_loss: 43.9853\n",
            "Epoch 54/200\n",
            "50/50 [==============================] - 0s 4ms/step - loss: 22.7380 - val_loss: 44.1968\n",
            "Epoch 55/200\n",
            "50/50 [==============================] - 0s 4ms/step - loss: 23.2891 - val_loss: 45.3513\n",
            "Epoch 56/200\n",
            "50/50 [==============================] - 0s 3ms/step - loss: 23.7557 - val_loss: 45.8337\n",
            "Epoch 57/200\n",
            "50/50 [==============================] - 0s 4ms/step - loss: 24.7234 - val_loss: 45.4115\n",
            "Epoch 58/200\n",
            "50/50 [==============================] - 0s 3ms/step - loss: 22.3997 - val_loss: 43.7700\n",
            "Epoch 59/200\n",
            "50/50 [==============================] - 0s 4ms/step - loss: 21.8818 - val_loss: 45.4734\n",
            "Epoch 60/200\n",
            "50/50 [==============================] - 0s 4ms/step - loss: 22.2262 - val_loss: 44.2912\n",
            "Epoch 61/200\n",
            "50/50 [==============================] - 0s 3ms/step - loss: 22.8711 - val_loss: 43.1980\n",
            "Epoch 62/200\n",
            "50/50 [==============================] - 0s 4ms/step - loss: 22.1454 - val_loss: 42.7793\n",
            "Epoch 63/200\n",
            "50/50 [==============================] - 0s 4ms/step - loss: 22.5955 - val_loss: 44.1654\n",
            "Epoch 64/200\n",
            "50/50 [==============================] - 0s 4ms/step - loss: 21.6213 - val_loss: 45.4381\n",
            "Epoch 65/200\n",
            "50/50 [==============================] - 0s 4ms/step - loss: 22.0413 - val_loss: 42.5938\n",
            "Epoch 66/200\n",
            "50/50 [==============================] - 0s 4ms/step - loss: 22.3756 - val_loss: 43.7795\n",
            "Epoch 67/200\n",
            "50/50 [==============================] - 0s 4ms/step - loss: 22.2638 - val_loss: 44.2193\n",
            "Epoch 68/200\n",
            "50/50 [==============================] - 0s 5ms/step - loss: 22.2434 - val_loss: 44.3805\n",
            "Epoch 69/200\n",
            "50/50 [==============================] - 0s 4ms/step - loss: 22.0819 - val_loss: 44.3627\n",
            "Epoch 70/200\n",
            "50/50 [==============================] - 0s 4ms/step - loss: 22.3229 - val_loss: 45.2261\n",
            "Epoch 71/200\n",
            "50/50 [==============================] - 0s 4ms/step - loss: 22.6808 - val_loss: 43.9966\n",
            "Epoch 72/200\n",
            "50/50 [==============================] - 0s 4ms/step - loss: 21.7563 - val_loss: 44.5705\n",
            "Epoch 73/200\n",
            "50/50 [==============================] - 0s 4ms/step - loss: 21.7648 - val_loss: 43.1924\n",
            "Epoch 74/200\n",
            "50/50 [==============================] - 0s 4ms/step - loss: 22.2705 - val_loss: 43.6064\n",
            "Epoch 75/200\n",
            "50/50 [==============================] - 0s 4ms/step - loss: 21.9394 - val_loss: 44.5685\n",
            "Epoch 76/200\n",
            "50/50 [==============================] - 0s 4ms/step - loss: 22.1597 - val_loss: 43.6827\n",
            "Epoch 77/200\n",
            "50/50 [==============================] - 0s 4ms/step - loss: 22.1432 - val_loss: 47.7762\n",
            "Epoch 78/200\n",
            "50/50 [==============================] - 0s 4ms/step - loss: 21.6288 - val_loss: 44.4783\n",
            "Epoch 79/200\n",
            "50/50 [==============================] - 0s 4ms/step - loss: 21.6581 - val_loss: 42.9861\n",
            "Epoch 80/200\n",
            "50/50 [==============================] - 0s 4ms/step - loss: 22.7571 - val_loss: 42.6012\n",
            "Epoch 81/200\n",
            "50/50 [==============================] - 0s 4ms/step - loss: 22.2141 - val_loss: 45.0113\n",
            "Epoch 82/200\n",
            "50/50 [==============================] - 0s 4ms/step - loss: 22.8217 - val_loss: 45.4576\n",
            "Epoch 83/200\n",
            "50/50 [==============================] - 0s 4ms/step - loss: 22.1832 - val_loss: 44.8306\n",
            "Epoch 84/200\n",
            "50/50 [==============================] - 0s 4ms/step - loss: 21.9558 - val_loss: 44.6321\n",
            "Epoch 85/200\n",
            "50/50 [==============================] - 0s 3ms/step - loss: 23.3000 - val_loss: 44.3427\n",
            "Epoch 86/200\n",
            "50/50 [==============================] - 0s 4ms/step - loss: 21.9958 - val_loss: 45.8114\n",
            "Epoch 87/200\n",
            "50/50 [==============================] - 0s 5ms/step - loss: 21.9161 - val_loss: 48.5765\n",
            "Epoch 88/200\n",
            "50/50 [==============================] - 0s 5ms/step - loss: 23.0500 - val_loss: 42.7567\n",
            "Epoch 89/200\n",
            "50/50 [==============================] - 0s 5ms/step - loss: 21.5712 - val_loss: 43.6082\n",
            "Epoch 90/200\n",
            "50/50 [==============================] - 0s 5ms/step - loss: 20.9023 - val_loss: 43.3358\n",
            "Epoch 91/200\n",
            "50/50 [==============================] - 0s 6ms/step - loss: 21.8447 - val_loss: 45.6452\n",
            "Epoch 92/200\n",
            "50/50 [==============================] - 0s 5ms/step - loss: 22.4342 - val_loss: 40.6309\n",
            "Epoch 93/200\n",
            "50/50 [==============================] - 0s 5ms/step - loss: 21.5142 - val_loss: 43.5869\n",
            "Epoch 94/200\n",
            "50/50 [==============================] - 0s 5ms/step - loss: 21.9065 - val_loss: 42.9181\n",
            "Epoch 95/200\n",
            "50/50 [==============================] - 0s 6ms/step - loss: 22.4192 - val_loss: 44.8937\n",
            "Epoch 96/200\n",
            "50/50 [==============================] - 0s 6ms/step - loss: 22.6642 - val_loss: 43.6580\n",
            "Epoch 97/200\n",
            "50/50 [==============================] - 0s 5ms/step - loss: 22.4253 - val_loss: 43.5121\n",
            "Epoch 98/200\n",
            "50/50 [==============================] - 0s 5ms/step - loss: 21.6674 - val_loss: 42.7569\n",
            "Epoch 99/200\n",
            "50/50 [==============================] - 0s 4ms/step - loss: 21.6815 - val_loss: 42.3782\n",
            "Epoch 100/200\n",
            "50/50 [==============================] - 0s 4ms/step - loss: 21.7047 - val_loss: 43.9023\n",
            "Epoch 101/200\n",
            "50/50 [==============================] - 0s 5ms/step - loss: 21.9178 - val_loss: 42.7266\n",
            "Epoch 102/200\n",
            "50/50 [==============================] - 0s 4ms/step - loss: 21.3719 - val_loss: 44.5001\n",
            "Epoch 103/200\n",
            "50/50 [==============================] - 0s 4ms/step - loss: 21.1162 - val_loss: 43.1511\n",
            "Epoch 104/200\n",
            "50/50 [==============================] - 0s 6ms/step - loss: 21.7203 - val_loss: 44.2407\n",
            "Epoch 105/200\n",
            "50/50 [==============================] - 0s 4ms/step - loss: 21.8240 - val_loss: 44.0009\n",
            "Epoch 106/200\n",
            "50/50 [==============================] - 0s 4ms/step - loss: 21.8384 - val_loss: 43.0701\n",
            "Epoch 107/200\n",
            "50/50 [==============================] - 0s 5ms/step - loss: 22.7051 - val_loss: 42.9973\n",
            "Epoch 108/200\n",
            "50/50 [==============================] - 0s 5ms/step - loss: 21.7466 - val_loss: 44.8204\n",
            "Epoch 109/200\n",
            "50/50 [==============================] - 0s 4ms/step - loss: 21.2707 - val_loss: 43.6209\n",
            "Epoch 110/200\n",
            "50/50 [==============================] - 0s 4ms/step - loss: 21.2950 - val_loss: 43.4659\n",
            "Epoch 111/200\n",
            "50/50 [==============================] - 0s 4ms/step - loss: 21.5638 - val_loss: 41.8047\n",
            "Epoch 112/200\n",
            "50/50 [==============================] - 0s 4ms/step - loss: 21.6992 - val_loss: 43.1351\n",
            "Epoch 113/200\n",
            "50/50 [==============================] - 0s 4ms/step - loss: 22.0950 - val_loss: 42.9433\n",
            "Epoch 114/200\n",
            "50/50 [==============================] - 0s 4ms/step - loss: 21.6838 - val_loss: 42.4493\n",
            "Epoch 115/200\n",
            "50/50 [==============================] - 0s 4ms/step - loss: 22.2430 - val_loss: 43.1308\n",
            "Epoch 116/200\n",
            "50/50 [==============================] - 0s 4ms/step - loss: 23.5991 - val_loss: 42.9650\n",
            "Epoch 117/200\n",
            "50/50 [==============================] - 0s 4ms/step - loss: 21.5890 - val_loss: 44.2538\n",
            "Epoch 118/200\n",
            "50/50 [==============================] - 0s 4ms/step - loss: 21.3861 - val_loss: 45.9387\n",
            "Epoch 119/200\n",
            "50/50 [==============================] - 0s 3ms/step - loss: 23.3893 - val_loss: 42.4446\n",
            "Epoch 120/200\n",
            "50/50 [==============================] - 0s 4ms/step - loss: 21.6320 - val_loss: 43.5036\n",
            "Epoch 121/200\n",
            "50/50 [==============================] - 0s 3ms/step - loss: 21.7097 - val_loss: 41.5629\n",
            "Epoch 122/200\n",
            "50/50 [==============================] - 0s 4ms/step - loss: 21.9557 - val_loss: 43.3911\n",
            "Epoch 123/200\n",
            "50/50 [==============================] - 0s 5ms/step - loss: 22.7365 - val_loss: 42.8545\n",
            "Epoch 124/200\n",
            "50/50 [==============================] - 0s 3ms/step - loss: 21.2488 - val_loss: 42.7774\n",
            "Epoch 125/200\n",
            "50/50 [==============================] - 0s 3ms/step - loss: 21.4345 - val_loss: 44.3097\n",
            "Epoch 126/200\n",
            "50/50 [==============================] - 0s 4ms/step - loss: 21.1809 - val_loss: 43.0464\n",
            "Epoch 127/200\n",
            "50/50 [==============================] - 0s 3ms/step - loss: 22.0816 - val_loss: 44.6983\n",
            "Epoch 128/200\n",
            "50/50 [==============================] - 0s 4ms/step - loss: 21.1134 - val_loss: 43.0408\n",
            "Epoch 129/200\n",
            "50/50 [==============================] - 0s 4ms/step - loss: 21.6472 - val_loss: 43.3718\n",
            "Epoch 130/200\n",
            "50/50 [==============================] - 0s 4ms/step - loss: 21.2197 - val_loss: 43.6614\n",
            "Epoch 131/200\n",
            "50/50 [==============================] - 0s 4ms/step - loss: 21.0915 - val_loss: 43.3974\n",
            "Epoch 132/200\n",
            "50/50 [==============================] - 0s 4ms/step - loss: 21.7079 - val_loss: 45.5394\n",
            "Epoch 133/200\n",
            "50/50 [==============================] - 0s 4ms/step - loss: 21.3916 - val_loss: 47.4837\n",
            "Epoch 134/200\n",
            "50/50 [==============================] - 0s 4ms/step - loss: 22.5491 - val_loss: 43.7498\n",
            "Epoch 135/200\n",
            "50/50 [==============================] - 0s 4ms/step - loss: 22.8969 - val_loss: 45.1228\n",
            "Epoch 136/200\n",
            "50/50 [==============================] - 0s 4ms/step - loss: 22.3362 - val_loss: 43.0646\n",
            "Epoch 137/200\n",
            "50/50 [==============================] - 0s 4ms/step - loss: 21.8158 - val_loss: 43.2253\n",
            "Epoch 138/200\n",
            "50/50 [==============================] - 0s 4ms/step - loss: 21.6594 - val_loss: 43.3406\n",
            "Epoch 139/200\n",
            "50/50 [==============================] - 0s 4ms/step - loss: 22.4035 - val_loss: 42.4516\n",
            "Epoch 140/200\n",
            "50/50 [==============================] - 0s 4ms/step - loss: 20.7524 - val_loss: 43.9971\n",
            "Epoch 141/200\n",
            "50/50 [==============================] - 0s 4ms/step - loss: 21.0933 - val_loss: 43.1382\n",
            "Epoch 142/200\n",
            "50/50 [==============================] - 0s 3ms/step - loss: 21.4639 - val_loss: 42.6012\n",
            "Epoch 143/200\n",
            "50/50 [==============================] - 0s 4ms/step - loss: 21.8120 - val_loss: 45.9119\n",
            "Epoch 144/200\n",
            "50/50 [==============================] - 0s 4ms/step - loss: 20.9807 - val_loss: 43.8747\n",
            "Epoch 145/200\n",
            "50/50 [==============================] - 0s 4ms/step - loss: 21.4902 - val_loss: 43.1395\n",
            "Epoch 146/200\n",
            "50/50 [==============================] - 0s 4ms/step - loss: 21.6080 - val_loss: 44.7813\n",
            "Epoch 147/200\n",
            "50/50 [==============================] - 0s 6ms/step - loss: 21.6836 - val_loss: 44.9364\n",
            "Epoch 148/200\n",
            "50/50 [==============================] - 0s 5ms/step - loss: 21.8462 - val_loss: 43.3122\n",
            "Epoch 149/200\n",
            "50/50 [==============================] - 0s 6ms/step - loss: 21.1839 - val_loss: 41.6921\n",
            "Epoch 150/200\n",
            "50/50 [==============================] - 0s 6ms/step - loss: 21.7915 - val_loss: 44.6544\n",
            "Epoch 151/200\n",
            "50/50 [==============================] - 0s 5ms/step - loss: 21.0149 - val_loss: 43.0185\n",
            "Epoch 152/200\n",
            "50/50 [==============================] - 0s 6ms/step - loss: 21.3738 - val_loss: 43.1993\n",
            "Epoch 153/200\n",
            "50/50 [==============================] - 0s 5ms/step - loss: 21.3960 - val_loss: 42.9444\n",
            "Epoch 154/200\n",
            "50/50 [==============================] - 0s 6ms/step - loss: 21.0263 - val_loss: 42.5193\n",
            "Epoch 155/200\n",
            "50/50 [==============================] - 0s 5ms/step - loss: 20.7857 - val_loss: 43.6314\n",
            "Epoch 156/200\n",
            "50/50 [==============================] - 0s 6ms/step - loss: 21.3855 - val_loss: 42.8828\n",
            "Epoch 157/200\n",
            "50/50 [==============================] - 0s 5ms/step - loss: 21.8140 - val_loss: 42.6035\n",
            "Epoch 158/200\n",
            "50/50 [==============================] - 0s 4ms/step - loss: 21.7388 - val_loss: 44.7251\n",
            "Epoch 159/200\n",
            "50/50 [==============================] - 0s 4ms/step - loss: 21.0737 - val_loss: 43.3456\n",
            "Epoch 160/200\n",
            "50/50 [==============================] - 0s 4ms/step - loss: 20.7030 - val_loss: 44.2988\n",
            "Epoch 161/200\n",
            "50/50 [==============================] - 0s 4ms/step - loss: 21.1557 - val_loss: 43.2809\n",
            "Epoch 162/200\n",
            "50/50 [==============================] - 0s 4ms/step - loss: 21.4662 - val_loss: 44.2059\n",
            "Epoch 163/200\n",
            "50/50 [==============================] - 0s 4ms/step - loss: 21.0510 - val_loss: 43.0428\n",
            "Epoch 164/200\n",
            "50/50 [==============================] - 0s 4ms/step - loss: 20.8896 - val_loss: 43.3575\n",
            "Epoch 165/200\n",
            "50/50 [==============================] - 0s 4ms/step - loss: 21.4944 - val_loss: 42.7693\n",
            "Epoch 166/200\n",
            "50/50 [==============================] - 0s 4ms/step - loss: 21.9019 - val_loss: 44.7888\n",
            "Epoch 167/200\n",
            "50/50 [==============================] - 0s 4ms/step - loss: 20.7246 - val_loss: 41.7766\n",
            "Epoch 168/200\n",
            "50/50 [==============================] - 0s 4ms/step - loss: 20.7727 - val_loss: 43.3296\n",
            "Epoch 169/200\n",
            "50/50 [==============================] - 0s 4ms/step - loss: 20.7488 - val_loss: 43.3790\n",
            "Epoch 170/200\n",
            "50/50 [==============================] - 0s 4ms/step - loss: 21.1904 - val_loss: 42.0318\n",
            "Epoch 171/200\n",
            "50/50 [==============================] - 0s 4ms/step - loss: 22.3214 - val_loss: 45.0701\n",
            "Epoch 172/200\n",
            "50/50 [==============================] - 0s 4ms/step - loss: 23.4099 - val_loss: 42.8556\n",
            "Epoch 173/200\n",
            "50/50 [==============================] - 0s 4ms/step - loss: 21.3569 - val_loss: 43.1917\n",
            "Epoch 174/200\n",
            "50/50 [==============================] - 0s 4ms/step - loss: 20.4428 - val_loss: 42.3551\n",
            "Epoch 175/200\n",
            "50/50 [==============================] - 0s 4ms/step - loss: 21.8252 - val_loss: 43.3553\n",
            "Epoch 176/200\n",
            "50/50 [==============================] - 0s 3ms/step - loss: 21.2233 - val_loss: 42.3893\n",
            "Epoch 177/200\n",
            "50/50 [==============================] - 0s 4ms/step - loss: 21.3567 - val_loss: 43.8824\n",
            "Epoch 178/200\n",
            "50/50 [==============================] - 0s 5ms/step - loss: 21.4476 - val_loss: 43.0120\n",
            "Epoch 179/200\n",
            "50/50 [==============================] - 0s 3ms/step - loss: 21.2616 - val_loss: 42.7823\n",
            "Epoch 180/200\n",
            "50/50 [==============================] - 0s 4ms/step - loss: 20.9866 - val_loss: 43.7950\n",
            "Epoch 181/200\n",
            "50/50 [==============================] - 0s 4ms/step - loss: 20.8083 - val_loss: 42.0046\n",
            "Epoch 182/200\n",
            "50/50 [==============================] - 0s 4ms/step - loss: 22.3680 - val_loss: 43.9033\n",
            "Epoch 183/200\n",
            "50/50 [==============================] - 0s 4ms/step - loss: 21.1894 - val_loss: 42.9916\n",
            "Epoch 184/200\n",
            "50/50 [==============================] - 0s 4ms/step - loss: 22.2559 - val_loss: 42.5634\n",
            "Epoch 185/200\n",
            "50/50 [==============================] - 0s 4ms/step - loss: 20.7066 - val_loss: 43.9638\n",
            "Epoch 186/200\n",
            "50/50 [==============================] - 0s 4ms/step - loss: 21.7717 - val_loss: 42.9983\n",
            "Epoch 187/200\n",
            "50/50 [==============================] - 0s 4ms/step - loss: 20.7421 - val_loss: 42.9834\n",
            "Epoch 188/200\n",
            "50/50 [==============================] - 0s 4ms/step - loss: 21.0481 - val_loss: 43.1318\n",
            "Epoch 189/200\n",
            "50/50 [==============================] - 0s 4ms/step - loss: 21.2735 - val_loss: 43.0512\n",
            "Epoch 190/200\n",
            "50/50 [==============================] - 0s 5ms/step - loss: 20.5884 - val_loss: 44.0430\n",
            "Epoch 191/200\n",
            "50/50 [==============================] - 0s 4ms/step - loss: 21.4641 - val_loss: 44.7279\n",
            "Epoch 192/200\n",
            "50/50 [==============================] - 0s 4ms/step - loss: 21.3430 - val_loss: 42.5566\n",
            "Epoch 193/200\n",
            "50/50 [==============================] - 0s 4ms/step - loss: 20.8869 - val_loss: 44.1374\n",
            "Epoch 194/200\n",
            "50/50 [==============================] - 0s 4ms/step - loss: 20.6433 - val_loss: 42.6507\n",
            "Epoch 195/200\n",
            "50/50 [==============================] - 0s 5ms/step - loss: 20.2831 - val_loss: 44.9102\n",
            "Epoch 196/200\n",
            "50/50 [==============================] - 0s 4ms/step - loss: 20.6622 - val_loss: 41.4150\n",
            "Epoch 197/200\n",
            "50/50 [==============================] - 0s 4ms/step - loss: 20.9847 - val_loss: 43.2754\n",
            "Epoch 198/200\n",
            "50/50 [==============================] - 0s 4ms/step - loss: 21.9364 - val_loss: 43.6069\n",
            "Epoch 199/200\n",
            "50/50 [==============================] - 0s 4ms/step - loss: 21.4784 - val_loss: 42.7569\n",
            "Epoch 200/200\n",
            "50/50 [==============================] - 0s 4ms/step - loss: 22.5907 - val_loss: 43.7902\n"
          ]
        },
        {
          "output_type": "execute_result",
          "data": {
            "text/plain": [
              "<keras.src.callbacks.History at 0x7d70a3c8d8d0>"
            ]
          },
          "metadata": {},
          "execution_count": 25
        }
      ],
      "source": [
        "model.fit(trainX, trainY, validation_data=(testX, testY),\n",
        "    epochs=200, batch_size=8)"
      ]
    },
    {
      "cell_type": "code",
      "source": [
        "model.evaluate(trainX)"
      ],
      "metadata": {
        "id": "mKUtThIoCPj6",
        "outputId": "5e5b3f95-80cd-46f2-ee92-433467b43f26",
        "colab": {
          "base_uri": "https://localhost:8080/"
        }
      },
      "execution_count": 27,
      "outputs": [
        {
          "output_type": "stream",
          "name": "stdout",
          "text": [
            "13/13 [==============================] - 0s 4ms/step - loss: 0.0000e+00\n"
          ]
        },
        {
          "output_type": "execute_result",
          "data": {
            "text/plain": [
              "0.0"
            ]
          },
          "metadata": {},
          "execution_count": 27
        }
      ]
    },
    {
      "cell_type": "code",
      "execution_count": 28,
      "metadata": {
        "id": "hynLAmLmo-Mk",
        "outputId": "5943c521-dfa1-4f17-a2c2-bf08a9ea20bc",
        "colab": {
          "base_uri": "https://localhost:8080/"
        }
      },
      "outputs": [
        {
          "output_type": "stream",
          "name": "stdout",
          "text": [
            "5/5 [==============================] - 0s 3ms/step\n"
          ]
        }
      ],
      "source": [
        "preds = model.predict(testX)"
      ]
    },
    {
      "cell_type": "code",
      "execution_count": 35,
      "metadata": {
        "id": "ww-pczSho-Mk",
        "outputId": "92f8d03b-1d11-4ce6-d51d-708de89af26a",
        "colab": {
          "base_uri": "https://localhost:8080/"
        }
      },
      "outputs": [
        {
          "output_type": "stream",
          "name": "stdout",
          "text": [
            "5/5 [==============================] - 0s 3ms/step\n",
            "avg. house price: $590,040.23, std house price: $510,817.79\n",
            "mean: 43.79%, std: 106.05%\n"
          ]
        }
      ],
      "source": [
        "# make predictions on the testing data\n",
        "preds = model.predict(testX)\n",
        "\n",
        "# compute the difference between the *predicted* house prices and the\n",
        "# *actual* house prices, then compute the percentage difference and\n",
        "# the absolute percentage difference\n",
        "diff = preds.flatten() - testY\n",
        "percentDiff = (diff / testY) * 100\n",
        "absPercentDiff = np.abs(percentDiff)\n",
        "\n",
        "# compute the mean and standard deviation of the absolute percentage\n",
        "# difference\n",
        "mean = np.mean(absPercentDiff)\n",
        "std = np.std(absPercentDiff)\n",
        "\n",
        "# finally, show some statistics on our model\n",
        "locale.setlocale(locale.LC_ALL, \"en_US.UTF-8\")\n",
        "print(\"avg. house price: {}, std house price: {}\".format(\n",
        "    locale.currency(df[\"price\"].mean(), grouping=True),\n",
        "    locale.currency(df[\"price\"].std(), grouping=True)))\n",
        "print(\"mean: {:.2f}%, std: {:.2f}%\".format(mean, std))"
      ]
    },
    {
      "cell_type": "markdown",
      "metadata": {
        "id": "6jwJ8Roxo-Mk"
      },
      "source": [
        "<hr>\n",
        "\n",
        "## <div style=\"direction:rtl;text-align:right;font-family:B Lotus, B Nazanin, Tahoma\">‌منبع</div>   \n",
        "\n",
        "https://www.pyimagesearch.com/2019/01/21/regression-with-keras/"
      ]
    }
  ],
  "metadata": {
    "anaconda-cloud": {},
    "kernelspec": {
      "display_name": "Python 3",
      "name": "python3"
    },
    "language_info": {
      "codemirror_mode": {
        "name": "ipython",
        "version": 3
      },
      "file_extension": ".py",
      "mimetype": "text/x-python",
      "name": "python",
      "nbconvert_exporter": "python",
      "pygments_lexer": "ipython3",
      "version": "3.8.10"
    },
    "nbpresent": {
      "slides": {
        "300ee14f-a043-486e-b274-7ff253907cd7": {
          "id": "300ee14f-a043-486e-b274-7ff253907cd7",
          "prev": "cb74e0bc-4513-4d13-b7f1-14c3078a7927",
          "regions": {
            "26dc3f39-a230-447c-af4c-f5e5b2fb7835": {
              "attrs": {
                "height": 0.8,
                "width": 0.8,
                "x": 0.1,
                "y": 0.1
              },
              "content": {
                "cell": "c58440a5-3f8f-4f37-9c79-6bf766209406",
                "part": "whole"
              },
              "id": "26dc3f39-a230-447c-af4c-f5e5b2fb7835"
            }
          }
        },
        "878aa53a-1444-4100-8f50-7a408191c579": {
          "id": "878aa53a-1444-4100-8f50-7a408191c579",
          "prev": null,
          "regions": {
            "a6c6843a-5ea6-4fbc-b890-3b4b8ae475b3": {
              "attrs": {
                "height": 0.8,
                "width": 0.8,
                "x": 0.1,
                "y": 0.1
              },
              "content": {
                "cell": "588ee1fa-64b5-453b-ade7-8e6b2515821c",
                "part": "whole"
              },
              "id": "a6c6843a-5ea6-4fbc-b890-3b4b8ae475b3"
            }
          }
        },
        "96ffe88e-7b50-43de-afdd-942e564f4e3e": {
          "id": "96ffe88e-7b50-43de-afdd-942e564f4e3e",
          "prev": "878aa53a-1444-4100-8f50-7a408191c579",
          "regions": {
            "b7e52e12-489a-468d-b10c-af2024fd2856": {
              "attrs": {
                "height": 0.8,
                "width": 0.8,
                "x": 0.1,
                "y": 0.1
              },
              "content": {
                "cell": "de829a92-1fb6-44ad-a2c6-fc1001e1f6e1",
                "part": "whole"
              },
              "id": "b7e52e12-489a-468d-b10c-af2024fd2856"
            }
          }
        },
        "cb74e0bc-4513-4d13-b7f1-14c3078a7927": {
          "id": "cb74e0bc-4513-4d13-b7f1-14c3078a7927",
          "prev": "96ffe88e-7b50-43de-afdd-942e564f4e3e",
          "regions": {
            "444878ee-68f3-4abb-acff-a7079b21e86d": {
              "attrs": {
                "height": 0.8,
                "width": 0.8,
                "x": 0.1,
                "y": 0.1
              },
              "content": {
                "cell": "25f3f538-1ee8-4d98-a6bb-14cbeb7a702d",
                "part": "whole"
              },
              "id": "444878ee-68f3-4abb-acff-a7079b21e86d"
            }
          }
        }
      },
      "themes": {}
    },
    "colab": {
      "provenance": [],
      "toc_visible": true,
      "gpuType": "T4"
    },
    "accelerator": "GPU"
  },
  "nbformat": 4,
  "nbformat_minor": 0
}