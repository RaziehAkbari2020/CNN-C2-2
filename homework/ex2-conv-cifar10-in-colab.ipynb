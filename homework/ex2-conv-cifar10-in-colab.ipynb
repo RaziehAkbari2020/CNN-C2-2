{
  "cells": [
    {
      "cell_type": "markdown",
      "metadata": {
        "id": "XS7t0Ika1Khi"
      },
      "source": [
        "<center><div style=\"direction:rtl;font-family:B Lotus, B Nazanin, Tahoma\">به نام خدا</div></center>\n",
        "\n",
        "<h1><center><div style=\"direction:rtl;font-family:B Lotus, B Nazanin, Tahoma\">تمرین عملی 2: طبقه بندی تصاویر Cifar10 با شبکه های کانولوشنالی روی googleColab</div></center></h1>\n",
        "\n",
        "[![Run in Google Colab](https://github.com/Alireza-Akhavan/deeplearning-tensorflow2-notebooks/blob/master/homework/images/colab.png?raw=1)](https://colab.research.google.com/github/alireza-akhavan/SRU-deeplearning-workshop/blob/master/homework/ex2-conv-cifar10-in-colab.ipynb)"
      ]
    },
    {
      "cell_type": "markdown",
      "metadata": {
        "id": "dKAmvCi61Kho"
      },
      "source": [
        "## <div style=\"direction:rtl;text-align:right;font-family:B Lotus, B Nazanin, Tahoma\">صورت مساله</div>\n",
        "\n",
        "\n",
        "<div style=\"direction:rtl;text-align:right;font-family:Tahoma\">\n",
        "با شبکه های کانولوشنالی آشنا شدیم<br>\n",
        "توصیه می‌شود حتما بعد از تمرین اول این تمرین را حل کنید و قبل از این تمرین نوت بوک زیر را  مرور کنید:\n",
        "</div>\n",
        "\n",
        "[06_ConvolutionalNeuralNetwork-Hoda-Keras.ipynb ](https://nbviewer.jupyter.org/github/alireza-akhavan/SRU-deeplearning-workshop/blob/master/06_ConvolutionalNeuralNetwork-Hoda-Keras.ipynb)\n",
        "\n",
        "<div style=\"direction:rtl;text-align:right;font-family:Tahoma\">\n",
        "در این تمرین از مجموعه داده تصویری cifar10 استفاده خواهیم کرد.\n",
        "<br>\n",
        "خیلی از اوقات ممکنه دسترسی به GPU نداشته باشیم. حخوشبختانه سرویس های آنلاین و رایگانی هستند که توان محاسباتی رایگان در اختیارمان میگذراند. در این تمرین از شما خواسته شده که این نوت بوک را در گوگل کولب اجرا کنید.\n",
        "<br>\n",
        " قبلا در مورد گوگل کولب دو پست آموزشی نوشته شده است که در صورت تمایل به کسب اطلاعات بیشتر میتوانید بخوانید.\n",
        "    اما برای اجرا این تمرین نیازی به این جزئیات نخواهید داشت.\n",
        "</div>\n",
        "\n",
        "[آشنایی با سرویس ابری Google Colab ](http://blog.class.vision/1397/02/google-colab/)\n",
        "\n",
        "[اتصال مستقیم سرویس کولب (Google Colab) به درایو (Google Drive) از طریق فایل سیستم FUSE ](http://blog.class.vision/1397/04/%D8%A7%D8%AA%D8%B5%D8%A7%D9%84-%D9%85%D8%B3%D8%AA%D9%82%DB%8C%D9%85-%D8%B3%D8%B1%D9%88%DB%8C%D8%B3-%DA%A9%D9%88%D9%84%D8%A8-google-colab-%D8%A8%D9%87-%D8%AF%D8%B1%D8%A7%DB%8C%D9%88-google-drive/)\n"
      ]
    },
    {
      "cell_type": "markdown",
      "metadata": {
        "id": "7EKtO0Hj1Khr"
      },
      "source": [
        "## <div style=\"direction:rtl;text-align:right;font-family:B Lotus, B Nazanin, Tahoma\">لود کتابخانه های مورد نیاز </div>\n",
        "<div style=\"direction:rtl;text-align:right;font-family:Tahoma\">\n",
        "کتابخانه های مورد نیاز این تمرین لود شده اند\n",
        "<br>\n",
        "در صورت نیاز میتوانید کتابخانه های بیشتری لود کنید:\n",
        "</div>"
      ]
    },
    {
      "cell_type": "code",
      "execution_count": 18,
      "metadata": {
        "id": "4LzB0-ug1Khs"
      },
      "outputs": [],
      "source": [
        "from tensorflow import keras\n",
        "from keras.models import Sequential\n",
        "from keras.layers import Dense, Flatten, Dropout\n",
        "from keras.layers import Conv2D, MaxPooling2D\n",
        "from keras.datasets import cifar10\n",
        "import numpy as np\n",
        "import matplotlib.pyplot as plt\n",
        "%matplotlib inline\n",
        "\n",
        "\n",
        "\n"
      ]
    },
    {
      "cell_type": "markdown",
      "metadata": {
        "id": "oy8oLQnL1Kht"
      },
      "source": [
        "## <div style=\"direction:rtl;text-align:right;font-family:B Lotus, B Nazanin, Tahoma\">مجموعه داده ی Cifar10 </div>\n",
        "<div style=\"direction:rtl;text-align:right;font-family:Tahoma\">\n",
        "<br>\n",
        "این مجموعه داده تصاویر رنگی در اندازه ی 32 در 32 و در 10 کلاس مختلف شامل ماشین، کامیون، اسب و ... است که در چارچوب کراس موجود است و از همان استفاده میکنیم.\n",
        "<br>\n",
        "اطلاعات بیشتر در مورد این مجموعه داده را از سایت این مجموعه داده میتوانید مطالعه کنید:\n",
        "<br>\n",
        "</div>\n",
        "\n",
        "https://www.cs.toronto.edu/~kriz/cifar.html"
      ]
    },
    {
      "cell_type": "code",
      "execution_count": 2,
      "metadata": {
        "id": "Pb4ZXsjx1Khu"
      },
      "outputs": [],
      "source": [
        "(x_train, y_train), (x_test, y_test) = cifar10.load_data()"
      ]
    },
    {
      "cell_type": "code",
      "source": [
        "x_train.shape"
      ],
      "metadata": {
        "id": "90__1GpR1rly",
        "outputId": "4d34dca7-7bdf-466f-d8cd-7eea86d930db",
        "colab": {
          "base_uri": "https://localhost:8080/"
        }
      },
      "execution_count": 4,
      "outputs": [
        {
          "output_type": "execute_result",
          "data": {
            "text/plain": [
              "(50000, 32, 32, 3)"
            ]
          },
          "metadata": {},
          "execution_count": 4
        }
      ]
    },
    {
      "cell_type": "markdown",
      "metadata": {
        "id": "hlJuo4Od1Khv"
      },
      "source": [
        "## <div style=\"direction:rtl;text-align:right;font-family:B Lotus, B Nazanin, Tahoma\">نگاهی به مجموعه داده بیندازیم...</div>\n",
        "<div style=\"direction:rtl;text-align:right;font-family:Tahoma\">\n",
        "در زیر تصویری که در اندیس 7-ام این مجموعه داده قرار دارد را مشاهده می‌کنیم. این شماره را را به دلخوه عوض کنید و چند تصویر دیگر این مجموعه داده را ببینید.\n",
        "</div>\n"
      ]
    },
    {
      "cell_type": "code",
      "execution_count": 5,
      "metadata": {
        "id": "zz4ywZ7o1Khv",
        "outputId": "1711a81a-a571-47b3-ab49-e2e07c92efe6",
        "colab": {
          "base_uri": "https://localhost:8080/",
          "height": 447
        }
      },
      "outputs": [
        {
          "output_type": "execute_result",
          "data": {
            "text/plain": [
              "<matplotlib.image.AxesImage at 0x7f6f7b7a5ff0>"
            ]
          },
          "metadata": {},
          "execution_count": 5
        },
        {
          "output_type": "display_data",
          "data": {
            "text/plain": [
              "<Figure size 640x480 with 1 Axes>"
            ],
            "image/png": "[encoded data removed]"
          },
          "metadata": {}
        }
      ],
      "source": [
        "plt.imshow(x_train[18])"
      ]
    },
    {
      "cell_type": "markdown",
      "metadata": {
        "id": "PMNaMkC31Khw"
      },
      "source": [
        "# <div style=\"direction:rtl;text-align:right;font-family:B Lotus, B Nazanin, Tahoma\">سوال 1:</div>\n",
        "<div style=\"direction:rtl;text-align:right;font-family:Tahoma\">\n",
        "ماتریس های تصویر را تبدیل به نوع داده ای float32 کنید و مقادیر پیکسل ها را نرمال کنید و بین 0 و 1 بیاورید.\n",
        "<br>\n",
        "<b>راهنمایی: </b>\n",
        "شما باید متد astype را صدا بزنید و در نهایت مقادیر پیکسل ها را تقسیم بر 255 کنید.</div>"
      ]
    },
    {
      "cell_type": "code",
      "execution_count": 6,
      "metadata": {
        "id": "TTpSqbPK1Khx"
      },
      "outputs": [],
      "source": [
        "\n",
        "x_train = x_train.astype('float32')\n",
        "x_test = x_test.astype('float32')\n",
        "x_train /= 255\n",
        "x_test /= 255"
      ]
    },
    {
      "cell_type": "markdown",
      "metadata": {
        "id": "yMkX09EF1Khy"
      },
      "source": [
        "# <div style=\"direction:rtl;text-align:right;font-family:B Lotus, B Nazanin, Tahoma\">سوال 2:</div>\n",
        "<div style=\"direction:rtl;text-align:right;font-family:Tahoma\">\n",
        "همان طور که میبینید لیبل ها از نوع عددی هستند. آن ها را تبدیل به فرمت one-hot کنید.<br>\n",
        "</div>\n"
      ]
    },
    {
      "cell_type": "markdown",
      "metadata": {
        "id": "wHVL97Ft1Khz"
      },
      "source": [
        "<hr>\n",
        "<div style=\"direction:rtl;text-align:right;font-family:Tahoma\">\n",
        "تعدادی از لیبل ها قبل از تبدیل به فرمت one-hot:</div>"
      ]
    },
    {
      "cell_type": "code",
      "execution_count": 7,
      "metadata": {
        "id": "aykOxDsF1Khz",
        "outputId": "98bc42ab-5216-42e6-f6d3-bef1111b4f28",
        "colab": {
          "base_uri": "https://localhost:8080/"
        }
      },
      "outputs": [
        {
          "output_type": "execute_result",
          "data": {
            "text/plain": [
              "array([[6],\n",
              "       [9],\n",
              "       [9],\n",
              "       ...,\n",
              "       [9],\n",
              "       [1],\n",
              "       [1]], dtype=uint8)"
            ]
          },
          "metadata": {},
          "execution_count": 7
        }
      ],
      "source": [
        "y_train"
      ]
    },
    {
      "cell_type": "code",
      "source": [
        "### تعداد کلاسها\n",
        "import numpy as np\n",
        "\n",
        "\n",
        "unique_labels = np.unique(y_train)\n",
        "print(\"لیبل‌های منحصر به فرد در y_train:\", unique_labels)\n",
        "\n"
      ],
      "metadata": {
        "id": "niEQCY9K3di5",
        "outputId": "82a1d345-bd71-4416-cadc-9940ec67281e",
        "colab": {
          "base_uri": "https://localhost:8080/"
        }
      },
      "execution_count": 9,
      "outputs": [
        {
          "output_type": "stream",
          "name": "stdout",
          "text": [
            "لیبل‌های منحصر به فرد در y_train: [0 1 2 3 4 5 6 7 8 9]\n"
          ]
        }
      ]
    },
    {
      "cell_type": "code",
      "execution_count": 10,
      "metadata": {
        "id": "JD0fFkMj1Kh0"
      },
      "outputs": [],
      "source": [
        "y_train = keras.utils.to_categorical(y_train, num_classes=10)\n",
        "y_test = keras.utils.to_categorical(y_test, num_classes=10)\n",
        "\n"
      ]
    },
    {
      "cell_type": "markdown",
      "metadata": {
        "id": "TGLyA4Yu1Kh0"
      },
      "source": [
        "<div style=\"direction:rtl;text-align:right;font-family:Tahoma\">\n",
        "تعدادی از لیبل ها بعد از تبدیل به فرمت one-hot:</div>"
      ]
    },
    {
      "cell_type": "code",
      "execution_count": 11,
      "metadata": {
        "id": "zzJXVIRR1Kh0",
        "outputId": "6f734fc2-4ef5-4de5-8c3f-a05ebea05c0f",
        "colab": {
          "base_uri": "https://localhost:8080/"
        }
      },
      "outputs": [
        {
          "output_type": "execute_result",
          "data": {
            "text/plain": [
              "array([[0., 0., 0., 0., 0., 0., 1., 0., 0., 0.],\n",
              "       [0., 0., 0., 0., 0., 0., 0., 0., 0., 1.],\n",
              "       [0., 0., 0., 0., 0., 0., 0., 0., 0., 1.],\n",
              "       [0., 0., 0., 0., 1., 0., 0., 0., 0., 0.],\n",
              "       [0., 1., 0., 0., 0., 0., 0., 0., 0., 0.],\n",
              "       [0., 1., 0., 0., 0., 0., 0., 0., 0., 0.],\n",
              "       [0., 0., 1., 0., 0., 0., 0., 0., 0., 0.],\n",
              "       [0., 0., 0., 0., 0., 0., 0., 1., 0., 0.],\n",
              "       [0., 0., 0., 0., 0., 0., 0., 0., 1., 0.],\n",
              "       [0., 0., 0., 1., 0., 0., 0., 0., 0., 0.]], dtype=float32)"
            ]
          },
          "metadata": {},
          "execution_count": 11
        }
      ],
      "source": [
        "y_train[0:10]"
      ]
    },
    {
      "cell_type": "code",
      "source": [
        "import tensorflow as tf\n",
        "from tensorflow.keras.models import Sequential\n",
        "from tensorflow.keras.layers import Conv2D, MaxPooling2D, Flatten, Dense, Dropout\n"
      ],
      "metadata": {
        "id": "KNAWAD4OFAZr"
      },
      "execution_count": 20,
      "outputs": []
    },
    {
      "cell_type": "markdown",
      "metadata": {
        "id": "a2qlmUCX1Kh1"
      },
      "source": [
        "# <div style=\"direction:rtl;text-align:right;font-family:B Lotus, B Nazanin, Tahoma\">سوال 3:</div>\n",
        "<div style=\"direction:rtl;text-align:right;font-family:Tahoma\">\n",
        "یک شبکه کانولوشنالی با معماری زیر بسازید:\n",
        "<ul>\n",
        "    <li>\n",
        "    یک لایه کانولوشنی با32 فیلتر با سایز فیلتر 3x3 و تابع فعالیت relu\n",
        "    </li>\n",
        "    <li>\n",
        "    لایه ی pooling با pool_size=(2,2)\n",
        "    </li>\n",
        "    <li>\n",
        "    یک لایه کانولوشنی با32 فیلتر با سایز فیلتر 3x3 و تابع فعالیت relu\n",
        "    </li>\n",
        "    <li>\n",
        "    لایه ی pooling با pool_size=(2,2)\n",
        "    </li>\n",
        "    <li>\n",
        "    یک لایه کانولوشنی با64 فیلتر با سایز فیلتر 3x3 و تابع فعالیت relu\n",
        "    </li>\n",
        "    <li>\n",
        "    لایه ی pooling با pool_size=(2,2)\n",
        "    </li>\n",
        "    <li>\n",
        "    استفاده از لایه ی Flatten() . به نظرتون چرا؟\n",
        "    </li>    \n",
        "    <li>\n",
        "    یک لایه Dropout با ترخ 0.5.\n",
        "    </li>\n",
        "    <li>\n",
        "    یک لایه softmax برای احتمالات خروجی. به نظرتون این لایه چند نوران میخواهد؟\n",
        "    </li>    \n",
        "\n",
        "</ul>\n",
        "</div>\n"
      ]
    },
    {
      "cell_type": "code",
      "execution_count": 22,
      "metadata": {
        "id": "lzaeSsvC1Kh2"
      },
      "outputs": [],
      "source": [
        "\n",
        "\n",
        "model = Sequential()\n",
        "model.add(Conv2D(32, (3, 3), activation='relu', input_shape=(32, 32, 3)))\n",
        "model.add(MaxPooling2D((2, 2)))\n",
        "model.add(Conv2D(32, (3, 3), activation='relu'))\n",
        "model.add(MaxPooling2D((2, 2)))\n",
        "model.add(Conv2D(64, (3, 3), activation='relu'))\n",
        "model.add(MaxPooling2D((2, 2)))\n",
        "\n",
        "model.add(Flatten())\n",
        "model.add(Dropout(0.5))\n",
        "model.add(Dense(10, activation='softmax'))\n"
      ]
    },
    {
      "cell_type": "code",
      "source": [
        "import tensorflow as tf"
      ],
      "metadata": {
        "id": "xvatxgVE7pyl"
      },
      "execution_count": 23,
      "outputs": []
    },
    {
      "cell_type": "markdown",
      "metadata": {
        "id": "VAHPnrkQ1Kh2"
      },
      "source": [
        "# <div style=\"direction:rtl;text-align:right;font-family:B Lotus, B Nazanin, Tahoma\">سوال 4:</div>\n",
        "<div style=\"direction:rtl;text-align:right;font-family:Tahoma\">\n",
        "مدل را کامپایل کنید و به عنوان optimizer متغیر opt_rms به تابع ارسال کنید. </div>\n"
      ]
    },
    {
      "cell_type": "code",
      "execution_count": 24,
      "metadata": {
        "id": "RCEA48ZO1Kh3"
      },
      "outputs": [],
      "source": [
        "\n",
        "model.compile(loss='categorical_crossentropy',\n",
        "              optimizer=tf.keras.optimizers.legacy.RMSprop(learning_rate=0.001,decay=1e-6),\n",
        "              metrics=['accuracy'])\n",
        "\n"
      ]
    },
    {
      "cell_type": "markdown",
      "metadata": {
        "id": "3sWSJa2v1Kh4"
      },
      "source": [
        "# <div style=\"direction:rtl;text-align:right;font-family:B Lotus, B Nazanin, Tahoma\">سوال 5:</div>\n",
        "<div style=\"direction:rtl;text-align:right;font-family:Tahoma\">\n",
        "با فراخوانی متد fit روی مدل آن را آموزش بدهید. برای سادگی25 ایپاک با سایز بچ 64 بزنید.\n",
        "    <br>\n",
        " به عنوان دیتای validation نیز x_test و y_test را ارسال کنید که در هر سری کارایی روی داده های تست اعلام شود.\n",
        "</div>"
      ]
    },
    {
      "cell_type": "code",
      "execution_count": 25,
      "metadata": {
        "id": "VXCqS1vt1Kh5",
        "outputId": "1774c663-5869-4f16-966e-99805bb66395",
        "colab": {
          "base_uri": "https://localhost:8080/"
        }
      },
      "outputs": [
        {
          "output_type": "stream",
          "name": "stdout",
          "text": [
            "Epoch 1/25\n",
            "625/625 [==============================] - 8s 6ms/step - loss: 1.8948 - accuracy: 0.2979 - val_loss: 1.6492 - val_accuracy: 0.4214\n",
            "Epoch 2/25\n",
            "625/625 [==============================] - 4s 6ms/step - loss: 1.5753 - accuracy: 0.4293 - val_loss: 1.3876 - val_accuracy: 0.5168\n",
            "Epoch 3/25\n",
            "625/625 [==============================] - 3s 5ms/step - loss: 1.4467 - accuracy: 0.4839 - val_loss: 1.3406 - val_accuracy: 0.5265\n",
            "Epoch 4/25\n",
            "625/625 [==============================] - 3s 5ms/step - loss: 1.3632 - accuracy: 0.5140 - val_loss: 1.2183 - val_accuracy: 0.5703\n",
            "Epoch 5/25\n",
            "625/625 [==============================] - 3s 5ms/step - loss: 1.3047 - accuracy: 0.5364 - val_loss: 1.2075 - val_accuracy: 0.5724\n",
            "Epoch 6/25\n",
            "625/625 [==============================] - 4s 7ms/step - loss: 1.2586 - accuracy: 0.5535 - val_loss: 1.1394 - val_accuracy: 0.6106\n",
            "Epoch 7/25\n",
            "625/625 [==============================] - 3s 5ms/step - loss: 1.2197 - accuracy: 0.5701 - val_loss: 1.0862 - val_accuracy: 0.6229\n",
            "Epoch 8/25\n",
            "625/625 [==============================] - 4s 6ms/step - loss: 1.1825 - accuracy: 0.5847 - val_loss: 1.0948 - val_accuracy: 0.6250\n",
            "Epoch 9/25\n",
            "625/625 [==============================] - 3s 5ms/step - loss: 1.1584 - accuracy: 0.5907 - val_loss: 1.0338 - val_accuracy: 0.6402\n",
            "Epoch 10/25\n",
            "625/625 [==============================] - 4s 6ms/step - loss: 1.1263 - accuracy: 0.6039 - val_loss: 1.0632 - val_accuracy: 0.6315\n",
            "Epoch 11/25\n",
            "625/625 [==============================] - 3s 5ms/step - loss: 1.1052 - accuracy: 0.6116 - val_loss: 1.0174 - val_accuracy: 0.6431\n",
            "Epoch 12/25\n",
            "625/625 [==============================] - 3s 5ms/step - loss: 1.0875 - accuracy: 0.6148 - val_loss: 1.0056 - val_accuracy: 0.6524\n",
            "Epoch 13/25\n",
            "625/625 [==============================] - 3s 5ms/step - loss: 1.0682 - accuracy: 0.6246 - val_loss: 0.9888 - val_accuracy: 0.6564\n",
            "Epoch 14/25\n",
            "625/625 [==============================] - 4s 6ms/step - loss: 1.0494 - accuracy: 0.6326 - val_loss: 0.9709 - val_accuracy: 0.6640\n",
            "Epoch 15/25\n",
            "625/625 [==============================] - 3s 5ms/step - loss: 1.0328 - accuracy: 0.6364 - val_loss: 0.9672 - val_accuracy: 0.6645\n",
            "Epoch 16/25\n",
            "625/625 [==============================] - 3s 5ms/step - loss: 1.0251 - accuracy: 0.6411 - val_loss: 0.9882 - val_accuracy: 0.6610\n",
            "Epoch 17/25\n",
            "625/625 [==============================] - 3s 5ms/step - loss: 1.0106 - accuracy: 0.6459 - val_loss: 0.9135 - val_accuracy: 0.6852\n",
            "Epoch 18/25\n",
            "625/625 [==============================] - 4s 6ms/step - loss: 0.9960 - accuracy: 0.6508 - val_loss: 0.9642 - val_accuracy: 0.6653\n",
            "Epoch 19/25\n",
            "625/625 [==============================] - 3s 5ms/step - loss: 0.9863 - accuracy: 0.6557 - val_loss: 0.9436 - val_accuracy: 0.6737\n",
            "Epoch 20/25\n",
            "625/625 [==============================] - 3s 5ms/step - loss: 0.9737 - accuracy: 0.6581 - val_loss: 0.8885 - val_accuracy: 0.6963\n",
            "Epoch 21/25\n",
            "625/625 [==============================] - 3s 5ms/step - loss: 0.9655 - accuracy: 0.6642 - val_loss: 0.8960 - val_accuracy: 0.6942\n",
            "Epoch 22/25\n",
            "625/625 [==============================] - 4s 6ms/step - loss: 0.9547 - accuracy: 0.6665 - val_loss: 0.9264 - val_accuracy: 0.6873\n",
            "Epoch 23/25\n",
            "625/625 [==============================] - 3s 5ms/step - loss: 0.9546 - accuracy: 0.6668 - val_loss: 0.9448 - val_accuracy: 0.6782\n",
            "Epoch 24/25\n",
            "625/625 [==============================] - 3s 5ms/step - loss: 0.9446 - accuracy: 0.6704 - val_loss: 0.8926 - val_accuracy: 0.6906\n",
            "Epoch 25/25\n",
            "625/625 [==============================] - 3s 5ms/step - loss: 0.9342 - accuracy: 0.6733 - val_loss: 0.8594 - val_accuracy: 0.7074\n"
          ]
        }
      ],
      "source": [
        "history = model.fit(x_train, y_train,\n",
        "          epochs=25,\n",
        "          batch_size=64, validation_split=0.2)\n"
      ]
    },
    {
      "cell_type": "markdown",
      "metadata": {
        "id": "Sc4ZGY451Kh6"
      },
      "source": [
        "# <div style=\"direction:rtl;text-align:right;font-family:B Lotus, B Nazanin, Tahoma\">سوال 6:</div>\n",
        "<div style=\"direction:rtl;text-align:right;font-family:Tahoma\">\n",
        "شبکه و هایپرپارامترهای این شبکه را به هر نحوی دوست دارید تغییر دهید تا دقت روی دادگان تست را به حداکثر برسانید.\n",
        "</div>\n"
      ]
    },
    {
      "cell_type": "markdown",
      "metadata": {
        "id": "B4B0pE0i1Kh8"
      },
      "source": [
        "<div class=\"alert alert-block alert-info\">\n",
        "<div style=\"direction:rtl;text-align:right;font-family:B Lotus, B Nazanin, Tahoma\"> دوره مقدماتی یادگیری عمیق<br>علیرضا اخوان پور<br>پنج شنبه، ۱۸ و ۲۵ بهمن ۱۳۹۷<br>\n",
        "</div>\n",
        "<a href=\"http://class.vision\">Class.Vision</a> - <a href=\"http://AkhavanPour.ir\">AkhavanPour.ir</a> - <a href=\"https://github.com/Alireza-Akhavan/\">GitHub</a>\n",
        "\n",
        "</div>"
      ]
    },
    {
      "cell_type": "code",
      "execution_count": 26,
      "metadata": {
        "id": "u7PUAfxn1Kh9",
        "outputId": "8a52cf82-8865-45b1-bbfe-6563836c2798",
        "colab": {
          "base_uri": "https://localhost:8080/"
        }
      },
      "outputs": [
        {
          "output_type": "stream",
          "name": "stdout",
          "text": [
            "Epoch 1/25\n",
            "1562/1562 [==============================] - 39s 23ms/step - loss: 1.9022 - accuracy: 0.2913\n",
            "Epoch 2/25\n",
            "1562/1562 [==============================] - 38s 24ms/step - loss: 1.6712 - accuracy: 0.3923\n",
            "Epoch 3/25\n",
            "1562/1562 [==============================] - 37s 24ms/step - loss: 1.5774 - accuracy: 0.4313\n",
            "Epoch 4/25\n",
            "1562/1562 [==============================] - 36s 23ms/step - loss: 1.5132 - accuracy: 0.4620\n",
            "Epoch 5/25\n",
            "1562/1562 [==============================] - 36s 23ms/step - loss: 1.4658 - accuracy: 0.4824\n",
            "Epoch 6/25\n",
            "1562/1562 [==============================] - 37s 23ms/step - loss: 1.4277 - accuracy: 0.4939\n",
            "Epoch 7/25\n",
            "1562/1562 [==============================] - 36s 23ms/step - loss: 1.3928 - accuracy: 0.5087\n",
            "Epoch 8/25\n",
            "1562/1562 [==============================] - 36s 23ms/step - loss: 1.3754 - accuracy: 0.5148\n",
            "Epoch 9/25\n",
            "1562/1562 [==============================] - 36s 23ms/step - loss: 1.3614 - accuracy: 0.5235\n",
            "Epoch 10/25\n",
            "1562/1562 [==============================] - 36s 23ms/step - loss: 1.3421 - accuracy: 0.5294\n",
            "Epoch 11/25\n",
            "1562/1562 [==============================] - 37s 24ms/step - loss: 1.3236 - accuracy: 0.5380\n",
            "Epoch 12/25\n",
            "1562/1562 [==============================] - 37s 24ms/step - loss: 1.3070 - accuracy: 0.5450\n",
            "Epoch 13/25\n",
            "1562/1562 [==============================] - 36s 23ms/step - loss: 1.2968 - accuracy: 0.5485\n",
            "Epoch 14/25\n",
            "1562/1562 [==============================] - 37s 24ms/step - loss: 1.2845 - accuracy: 0.5530\n",
            "Epoch 15/25\n",
            "1562/1562 [==============================] - 38s 25ms/step - loss: 1.2671 - accuracy: 0.5600\n",
            "Epoch 16/25\n",
            "1562/1562 [==============================] - 38s 24ms/step - loss: 1.2659 - accuracy: 0.5626\n",
            "Epoch 17/25\n",
            "1562/1562 [==============================] - 37s 23ms/step - loss: 1.2553 - accuracy: 0.5624\n",
            "Epoch 18/25\n",
            "1562/1562 [==============================] - 37s 24ms/step - loss: 1.2453 - accuracy: 0.5646\n",
            "Epoch 19/25\n",
            "1562/1562 [==============================] - 38s 24ms/step - loss: 1.2438 - accuracy: 0.5695\n",
            "Epoch 20/25\n",
            "1562/1562 [==============================] - 38s 24ms/step - loss: 1.2223 - accuracy: 0.5762\n",
            "Epoch 21/25\n",
            "1562/1562 [==============================] - 36s 23ms/step - loss: 1.2190 - accuracy: 0.5792\n",
            "Epoch 22/25\n",
            "1562/1562 [==============================] - 38s 24ms/step - loss: 1.2163 - accuracy: 0.5794\n",
            "Epoch 23/25\n",
            "1562/1562 [==============================] - 38s 24ms/step - loss: 1.2083 - accuracy: 0.5836\n",
            "Epoch 24/25\n",
            "1562/1562 [==============================] - 38s 24ms/step - loss: 1.1996 - accuracy: 0.5882\n",
            "Epoch 25/25\n",
            "1562/1562 [==============================] - 37s 24ms/step - loss: 1.1928 - accuracy: 0.5903\n"
          ]
        },
        {
          "output_type": "execute_result",
          "data": {
            "text/plain": [
              "<keras.src.callbacks.History at 0x7f6ef51b3520>"
            ]
          },
          "metadata": {},
          "execution_count": 26
        }
      ],
      "source": [
        "from tensorflow.keras.models import Sequential\n",
        "from tensorflow.keras.layers import Conv2D, MaxPooling2D, Flatten, Dense, Dropout\n",
        "from tensorflow.keras.regularizers import l2\n",
        "from tensorflow.keras.preprocessing.image import ImageDataGenerator\n",
        "\n",
        "# افزایش داده (Data Augmentation)\n",
        "datagen = ImageDataGenerator(\n",
        "    rotation_range=20,\n",
        "    width_shift_range=0.2,\n",
        "    height_shift_range=0.2,\n",
        "    horizontal_flip=True)\n",
        "\n",
        "# مدل\n",
        "model = Sequential()\n",
        "model.add(Conv2D(32, (3, 3), activation='relu', input_shape=(32, 32, 3)))\n",
        "model.add(MaxPooling2D((2, 2)))\n",
        "model.add(Conv2D(64, (3, 3), activation='relu'))  # افزایش تعداد فیلترها\n",
        "model.add(MaxPooling2D((2, 2)))\n",
        "model.add(Conv2D(64, (3, 3), activation='relu'))  # اضافه کردن یک لایه کانولوشنی دیگر\n",
        "model.add(MaxPooling2D((2, 2)))\n",
        "\n",
        "model.add(Flatten())\n",
        "model.add(Dropout(0.5))\n",
        "model.add(Dense(64, activation='relu', kernel_regularizer=l2(0.001)))  # اضافه کردن Regularization به لایه Dense\n",
        "model.add(Dense(10, activation='softmax'))\n",
        "\n",
        "# کامپایل مدل\n",
        "model.compile(optimizer='adam',\n",
        "              loss='categorical_crossentropy',\n",
        "              metrics=['accuracy'])\n",
        "\n",
        "# آموزش مدل با استفاده از Data Augmentation\n",
        "model.fit(datagen.flow(x_train, y_train, batch_size=32),\n",
        "          steps_per_epoch=len(x_train) / 32, epochs=25)\n"
      ]
    }
  ],
  "metadata": {
    "kernelspec": {
      "display_name": "tensorflow",
      "language": "python",
      "name": "tensorflow"
    },
    "language_info": {
      "codemirror_mode": {
        "name": "ipython",
        "version": 3
      },
      "file_extension": ".py",
      "mimetype": "text/x-python",
      "name": "python",
      "nbconvert_exporter": "python",
      "pygments_lexer": "ipython3",
      "version": "3.6.8"
    },
    "colab": {
      "provenance": [],
      "toc_visible": true,
      "gpuType": "T4"
    },
    "accelerator": "GPU"
  },
  "nbformat": 4,
  "nbformat_minor": 0
}