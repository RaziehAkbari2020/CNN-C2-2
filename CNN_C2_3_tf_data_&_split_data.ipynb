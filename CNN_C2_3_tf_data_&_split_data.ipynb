{
  "nbformat": 4,
  "nbformat_minor": 0,
  "metadata": {
    "colab": {
      "provenance": [],
      "gpuType": "T4",
      "authorship_tag": "ABX9TyODdYTNIAGJyj4TkRvtBsC6",
      "include_colab_link": true
    },
    "kernelspec": {
      "name": "python3",
      "display_name": "Python 3"
    },
    "language_info": {
      "name": "python"
    },
    "accelerator": "GPU"
  },
  "cells": [
    {
      "cell_type": "markdown",
      "metadata": {
        "id": "view-in-github",
        "colab_type": "text"
      },
      "source": [
        "<a href=\"https://colab.research.google.com/github/RaziehAkbari2020/CNN-C2-2/blob/main/CNN_C2_3_tf_data_%26_split_data.ipynb\" target=\"_parent\"><img src=\"https://colab.research.google.com/assets/colab-badge.svg\" alt=\"Open In Colab\"/></a>"
      ]
    },
    {
      "cell_type": "code",
      "execution_count": 1,
      "metadata": {
        "id": "j_5QdqjSZ4Dy"
      },
      "outputs": [],
      "source": [
        "!mkdir ~/.kaggle"
      ]
    },
    {
      "cell_type": "code",
      "source": [
        "!mv kaggle.json ~/.kaggle"
      ],
      "metadata": {
        "id": "JU3GhCH6aYn7"
      },
      "execution_count": 3,
      "outputs": []
    },
    {
      "cell_type": "code",
      "source": [
        "! kaggle competitions download -c dogs-vs-cats"
      ],
      "metadata": {
        "colab": {
          "base_uri": "https://localhost:8080/"
        },
        "id": "M9e2j3E8aY1M",
        "outputId": "73ae56e9-9971-44b1-dbee-62436e520239"
      },
      "execution_count": 4,
      "outputs": [
        {
          "output_type": "stream",
          "name": "stdout",
          "text": [
            "Warning: Your Kaggle API key is readable by other users on this system! To fix this, you can run 'chmod 600 /root/.kaggle/kaggle.json'\n",
            "Downloading dogs-vs-cats.zip to /content\n",
            " 97% 791M/812M [00:03<00:00, 287MB/s]\n",
            "100% 812M/812M [00:03<00:00, 250MB/s]\n"
          ]
        }
      ]
    },
    {
      "cell_type": "code",
      "source": [
        "!unzip dogs-vs-cats.zip"
      ],
      "metadata": {
        "colab": {
          "base_uri": "https://localhost:8080/"
        },
        "id": "upNqocoWaZAN",
        "outputId": "59a15725-4836-46ac-a951-abb08d0b14bd"
      },
      "execution_count": 5,
      "outputs": [
        {
          "output_type": "stream",
          "name": "stdout",
          "text": [
            "Archive:  dogs-vs-cats.zip\n",
            "  inflating: sampleSubmission.csv    \n",
            "  inflating: test1.zip               \n",
            "  inflating: train.zip               \n"
          ]
        }
      ]
    },
    {
      "cell_type": "code",
      "source": [
        "!unzip -q train.zip"
      ],
      "metadata": {
        "id": "CZ7f3gDpaZLm"
      },
      "execution_count": 6,
      "outputs": []
    },
    {
      "cell_type": "code",
      "source": [
        "!ls train | wc -l"
      ],
      "metadata": {
        "colab": {
          "base_uri": "https://localhost:8080/"
        },
        "id": "HbgguU5cak5z",
        "outputId": "83abd12f-1db0-451d-8754-6f0af987bab1"
      },
      "execution_count": 7,
      "outputs": [
        {
          "output_type": "stream",
          "name": "stdout",
          "text": [
            "25000\n"
          ]
        }
      ]
    },
    {
      "cell_type": "code",
      "source": [
        "import os\n",
        "len(os.listdir('train'))"
      ],
      "metadata": {
        "colab": {
          "base_uri": "https://localhost:8080/"
        },
        "id": "SzieMOA9alFh",
        "outputId": "d32f692b-cce2-4fed-dd1c-31a245883141"
      },
      "execution_count": 8,
      "outputs": [
        {
          "output_type": "execute_result",
          "data": {
            "text/plain": [
              "25000"
            ]
          },
          "metadata": {},
          "execution_count": 8
        }
      ]
    },
    {
      "cell_type": "code",
      "source": [
        "!rm -r dogs-vs-cats.zip sampleSubmission.csv test1.zip train.zip sample_data/"
      ],
      "metadata": {
        "id": "pq2Z4zQ6alQr"
      },
      "execution_count": 9,
      "outputs": []
    },
    {
      "cell_type": "code",
      "source": [
        "from tensorflow import keras"
      ],
      "metadata": {
        "id": "9DGVsTkRau3A"
      },
      "execution_count": 10,
      "outputs": []
    },
    {
      "cell_type": "code",
      "source": [
        "import os, shutil"
      ],
      "metadata": {
        "id": "Q_-rrxkKax_r"
      },
      "execution_count": 11,
      "outputs": []
    },
    {
      "cell_type": "code",
      "source": [
        "# The path to the directory where the original\n",
        "# dataset was uncompressed\n",
        "original_dataset_dir = '/content/train'\n",
        "\n",
        "# The directory where we will\n",
        "# store our smaller dataset\n",
        "base_dir = '/content/subset'\n",
        "os.makedirs(base_dir, exist_ok=True)"
      ],
      "metadata": {
        "id": "3xwxfXcva7MI"
      },
      "execution_count": 12,
      "outputs": []
    },
    {
      "cell_type": "code",
      "source": [
        "# Directories for our training,\n",
        "# validation and test splits\n",
        "train_dir = os.path.join(base_dir, 'train')\n",
        "os.mkdir(train_dir)\n",
        "validation_dir = os.path.join(base_dir, 'validation')\n",
        "os.mkdir(validation_dir)\n",
        "test_dir = os.path.join(base_dir, 'test')\n",
        "os.mkdir(test_dir)\n",
        "# Directory with our training cat pictures\n",
        "train_cats_dir = os.path.join(train_dir, 'cats')\n",
        "os.mkdir(train_cats_dir)\n",
        "\n",
        "# Directory with our training dog pictures\n",
        "train_dogs_dir = os.path.join(train_dir, 'dogs')\n",
        "os.mkdir(train_dogs_dir)\n",
        "\n",
        "# Directory with our validation cat pictures\n",
        "validation_cats_dir = os.path.join(validation_dir, 'cats')\n",
        "os.mkdir(validation_cats_dir)\n",
        "\n",
        "# Directory with our validation dog pictures\n",
        "validation_dogs_dir = os.path.join(validation_dir, 'dogs')\n",
        "os.mkdir(validation_dogs_dir)\n",
        "\n",
        "# Directory with our validation cat pictures\n",
        "test_cats_dir = os.path.join(test_dir, 'cats')\n",
        "os.mkdir(test_cats_dir)\n",
        "\n",
        "# Directory with our validation dog pictures\n",
        "test_dogs_dir = os.path.join(test_dir, 'dogs')\n",
        "os.mkdir(test_dogs_dir)\n",
        "\n",
        "# Copy first 1000 cat images to train_cats_dir\n",
        "fnames = ['cat.{}.jpg'.format(i) for i in range(1000)]\n",
        "for fname in fnames:\n",
        "    src = os.path.join(original_dataset_dir, fname)\n",
        "    dst = os.path.join(train_cats_dir, fname)\n",
        "    shutil.copyfile(src, dst)\n",
        "\n",
        "# Copy next 500 cat images to validation_cats_dir\n",
        "fnames = ['cat.{}.jpg'.format(i) for i in range(1000, 1500)]\n",
        "for fname in fnames:\n",
        "    src = os.path.join(original_dataset_dir, fname)\n",
        "    dst = os.path.join(validation_cats_dir, fname)\n",
        "    shutil.copyfile(src, dst)\n",
        "\n",
        "# Copy next 500 cat images to test_cats_dir\n",
        "fnames = ['cat.{}.jpg'.format(i) for i in range(1500, 2000)]\n",
        "for fname in fnames:\n",
        "    src = os.path.join(original_dataset_dir, fname)\n",
        "    dst = os.path.join(test_cats_dir, fname)\n",
        "    shutil.copyfile(src, dst)\n",
        "\n",
        "# Copy first 1000 dog images to train_dogs_dir\n",
        "fnames = ['dog.{}.jpg'.format(i) for i in range(1000)]\n",
        "for fname in fnames:\n",
        "    src = os.path.join(original_dataset_dir, fname)\n",
        "    dst = os.path.join(train_dogs_dir, fname)\n",
        "    shutil.copyfile(src, dst)\n",
        "\n",
        "# Copy next 500 dog images to validation_dogs_dir\n",
        "fnames = ['dog.{}.jpg'.format(i) for i in range(1000, 1500)]\n",
        "for fname in fnames:\n",
        "    src = os.path.join(original_dataset_dir, fname)\n",
        "    dst = os.path.join(validation_dogs_dir, fname)\n",
        "    shutil.copyfile(src, dst)\n",
        "\n",
        "# Copy next 500 dog images to test_dogs_dir\n",
        "fnames = ['dog.{}.jpg'.format(i) for i in range(1500, 2000)]\n",
        "for fname in fnames:\n",
        "    src = os.path.join(original_dataset_dir, fname)\n",
        "    dst = os.path.join(test_dogs_dir, fname)\n",
        "    shutil.copyfile(src, dst)"
      ],
      "metadata": {
        "id": "smLPDY_zIEUm"
      },
      "execution_count": 13,
      "outputs": []
    },
    {
      "cell_type": "code",
      "source": [
        "print('total training cat images:', len(os.listdir(train_cats_dir)))\n",
        "print('total training dog images:', len(os.listdir(train_dogs_dir)))\n",
        "print('total validation cat images:', len(os.listdir(validation_cats_dir)))\n",
        "print('total validation dog images:', len(os.listdir(validation_dogs_dir)))\n",
        "print('total test cat images:', len(os.listdir(test_cats_dir)))\n",
        "print('total test dog images:', len(os.listdir(test_dogs_dir)))"
      ],
      "metadata": {
        "colab": {
          "base_uri": "https://localhost:8080/"
        },
        "id": "l3W70oBeILXs",
        "outputId": "85d2ab81-103a-44f1-89be-7a877b045872"
      },
      "execution_count": 14,
      "outputs": [
        {
          "output_type": "stream",
          "name": "stdout",
          "text": [
            "total training cat images: 1000\n",
            "total training dog images: 1000\n",
            "total validation cat images: 500\n",
            "total validation dog images: 500\n",
            "total test cat images: 500\n",
            "total test dog images: 500\n"
          ]
        }
      ]
    },
    {
      "cell_type": "code",
      "source": [
        "from keras import layers\n",
        "from keras import models\n",
        "\n",
        "model = models.Sequential()\n",
        "model.add(layers.Conv2D(32, (3, 3), activation='relu',\n",
        "                        input_shape=(150, 150, 3)))\n",
        "model.add(layers.MaxPooling2D((2, 2)))\n",
        "model.add(layers.Conv2D(64, (3, 3), activation='relu'))\n",
        "model.add(layers.MaxPooling2D((2, 2)))\n",
        "model.add(layers.Conv2D(128, (3, 3), activation='relu'))\n",
        "model.add(layers.MaxPooling2D((2, 2)))\n",
        "model.add(layers.Conv2D(128, (3, 3), activation='relu'))\n",
        "model.add(layers.MaxPooling2D((2, 2)))\n",
        "model.add(layers.Flatten())\n",
        "model.add(layers.Dense(512, activation='relu'))\n",
        "model.add(layers.Dense(1, activation='sigmoid'))"
      ],
      "metadata": {
        "id": "6cuNmKBebNJg"
      },
      "execution_count": 15,
      "outputs": []
    },
    {
      "cell_type": "code",
      "source": [
        "model.summary()"
      ],
      "metadata": {
        "colab": {
          "base_uri": "https://localhost:8080/"
        },
        "id": "Iko6q7XqbRmp",
        "outputId": "75f9e1d2-1a22-420b-ad77-d47b542a5d91"
      },
      "execution_count": 16,
      "outputs": [
        {
          "output_type": "stream",
          "name": "stdout",
          "text": [
            "Model: \"sequential\"\n",
            "_________________________________________________________________\n",
            " Layer (type)                Output Shape              Param #   \n",
            "=================================================================\n",
            " conv2d (Conv2D)             (None, 148, 148, 32)      896       \n",
            "                                                                 \n",
            " max_pooling2d (MaxPooling2  (None, 74, 74, 32)        0         \n",
            " D)                                                              \n",
            "                                                                 \n",
            " conv2d_1 (Conv2D)           (None, 72, 72, 64)        18496     \n",
            "                                                                 \n",
            " max_pooling2d_1 (MaxPoolin  (None, 36, 36, 64)        0         \n",
            " g2D)                                                            \n",
            "                                                                 \n",
            " conv2d_2 (Conv2D)           (None, 34, 34, 128)       73856     \n",
            "                                                                 \n",
            " max_pooling2d_2 (MaxPoolin  (None, 17, 17, 128)       0         \n",
            " g2D)                                                            \n",
            "                                                                 \n",
            " conv2d_3 (Conv2D)           (None, 15, 15, 128)       147584    \n",
            "                                                                 \n",
            " max_pooling2d_3 (MaxPoolin  (None, 7, 7, 128)         0         \n",
            " g2D)                                                            \n",
            "                                                                 \n",
            " flatten (Flatten)           (None, 6272)              0         \n",
            "                                                                 \n",
            " dense (Dense)               (None, 512)               3211776   \n",
            "                                                                 \n",
            " dense_1 (Dense)             (None, 1)                 513       \n",
            "                                                                 \n",
            "=================================================================\n",
            "Total params: 3453121 (13.17 MB)\n",
            "Trainable params: 3453121 (13.17 MB)\n",
            "Non-trainable params: 0 (0.00 Byte)\n",
            "_________________________________________________________________\n"
          ]
        }
      ]
    },
    {
      "cell_type": "code",
      "source": [
        "from keras import optimizers\n",
        "#### چون سیگوید هست binary زدیم\n",
        "model.compile(loss='binary_crossentropy',\n",
        "              optimizer='rmsprop',\n",
        "              metrics=['acc'])"
      ],
      "metadata": {
        "id": "oLXvbQCSbUWg"
      },
      "execution_count": 17,
      "outputs": []
    },
    {
      "cell_type": "code",
      "source": [
        "from keras.preprocessing.image import ImageDataGenerator\n",
        "\n",
        "# All images will be rescaled by 1./255\n",
        "train_datagen = ImageDataGenerator(rescale=1./255)\n",
        "test_datagen = ImageDataGenerator(rescale=1./255)\n",
        "\n",
        "train_generator = train_datagen.flow_from_directory(\n",
        "        # This is the target directory\n",
        "        train_dir,\n",
        "        # All images will be resized to 150x150\n",
        "        target_size=(150, 150),\n",
        "        batch_size=20,\n",
        "        # Since we use binary_crossentropy loss, we need binary labels\n",
        "        class_mode='binary')\n",
        "\n",
        "validation_generator = test_datagen.flow_from_directory(\n",
        "        validation_dir,\n",
        "        target_size=(150, 150),\n",
        "        batch_size=20,\n",
        "        class_mode='binary')"
      ],
      "metadata": {
        "colab": {
          "base_uri": "https://localhost:8080/"
        },
        "id": "sht6UM8vbYsc",
        "outputId": "322bae4a-cf49-4a32-e4a1-10035ff593a7"
      },
      "execution_count": 18,
      "outputs": [
        {
          "output_type": "stream",
          "name": "stdout",
          "text": [
            "Found 2000 images belonging to 2 classes.\n",
            "Found 1000 images belonging to 2 classes.\n"
          ]
        }
      ]
    },
    {
      "cell_type": "code",
      "source": [
        "### یک مینی بچ رانشان می دهد\n",
        "data, lbl=next(iter(train_generator))\n",
        "data.shape, lbl"
      ],
      "metadata": {
        "colab": {
          "base_uri": "https://localhost:8080/"
        },
        "id": "lyPHuYE-bdKn",
        "outputId": "b29e60a5-47da-409a-f59b-72719c0c35d1"
      },
      "execution_count": 19,
      "outputs": [
        {
          "output_type": "execute_result",
          "data": {
            "text/plain": [
              "((20, 150, 150, 3),\n",
              " array([0., 0., 0., 0., 0., 1., 0., 1., 0., 0., 0., 1., 1., 0., 1., 1., 0.,\n",
              "        0., 0., 0.], dtype=float32))"
            ]
          },
          "metadata": {},
          "execution_count": 19
        }
      ]
    },
    {
      "cell_type": "code",
      "source": [
        "history = model.fit(\n",
        "      train_generator,\n",
        "      epochs=30,\n",
        "      validation_data=validation_generator)"
      ],
      "metadata": {
        "colab": {
          "base_uri": "https://localhost:8080/"
        },
        "id": "XIFYg0_bbgxK",
        "outputId": "d45cb2cc-3567-4081-eff2-b836df5dcd3b"
      },
      "execution_count": 20,
      "outputs": [
        {
          "output_type": "stream",
          "name": "stdout",
          "text": [
            "Epoch 1/30\n",
            "100/100 [==============================] - 11s 62ms/step - loss: 0.6942 - acc: 0.5245 - val_loss: 0.6935 - val_acc: 0.5080\n",
            "Epoch 2/30\n",
            "100/100 [==============================] - 5s 48ms/step - loss: 0.6774 - acc: 0.5940 - val_loss: 0.7002 - val_acc: 0.5400\n",
            "Epoch 3/30\n",
            "100/100 [==============================] - 5s 54ms/step - loss: 0.6238 - acc: 0.6510 - val_loss: 0.5718 - val_acc: 0.6850\n",
            "Epoch 4/30\n",
            "100/100 [==============================] - 5s 54ms/step - loss: 0.5804 - acc: 0.6950 - val_loss: 0.5477 - val_acc: 0.7180\n",
            "Epoch 5/30\n",
            "100/100 [==============================] - 5s 49ms/step - loss: 0.5402 - acc: 0.7210 - val_loss: 0.5609 - val_acc: 0.7080\n",
            "Epoch 6/30\n",
            "100/100 [==============================] - 6s 61ms/step - loss: 0.5098 - acc: 0.7450 - val_loss: 0.5770 - val_acc: 0.7050\n",
            "Epoch 7/30\n",
            "100/100 [==============================] - 5s 52ms/step - loss: 0.4604 - acc: 0.7760 - val_loss: 0.5489 - val_acc: 0.7440\n",
            "Epoch 8/30\n",
            "100/100 [==============================] - 6s 62ms/step - loss: 0.4173 - acc: 0.8075 - val_loss: 0.5931 - val_acc: 0.7030\n",
            "Epoch 9/30\n",
            "100/100 [==============================] - 5s 49ms/step - loss: 0.3564 - acc: 0.8495 - val_loss: 0.6447 - val_acc: 0.7190\n",
            "Epoch 10/30\n",
            "100/100 [==============================] - 13s 128ms/step - loss: 0.3106 - acc: 0.8630 - val_loss: 0.6507 - val_acc: 0.7240\n",
            "Epoch 11/30\n",
            "100/100 [==============================] - 5s 48ms/step - loss: 0.2194 - acc: 0.9090 - val_loss: 0.9082 - val_acc: 0.7160\n",
            "Epoch 12/30\n",
            "100/100 [==============================] - 10s 97ms/step - loss: 0.1768 - acc: 0.9315 - val_loss: 0.9243 - val_acc: 0.7270\n",
            "Epoch 13/30\n",
            "100/100 [==============================] - 10s 101ms/step - loss: 0.1173 - acc: 0.9545 - val_loss: 1.1689 - val_acc: 0.7320\n",
            "Epoch 14/30\n",
            "100/100 [==============================] - 6s 63ms/step - loss: 0.1211 - acc: 0.9675 - val_loss: 1.3946 - val_acc: 0.7040\n",
            "Epoch 15/30\n",
            "100/100 [==============================] - 6s 62ms/step - loss: 0.0571 - acc: 0.9790 - val_loss: 1.3932 - val_acc: 0.7260\n",
            "Epoch 16/30\n",
            "100/100 [==============================] - 6s 61ms/step - loss: 0.0867 - acc: 0.9700 - val_loss: 1.5210 - val_acc: 0.7220\n",
            "Epoch 17/30\n",
            "100/100 [==============================] - 5s 54ms/step - loss: 0.0347 - acc: 0.9895 - val_loss: 1.6776 - val_acc: 0.7280\n",
            "Epoch 18/30\n",
            "100/100 [==============================] - 5s 50ms/step - loss: 0.0498 - acc: 0.9840 - val_loss: 2.0665 - val_acc: 0.7200\n",
            "Epoch 19/30\n",
            "100/100 [==============================] - 6s 62ms/step - loss: 0.0470 - acc: 0.9840 - val_loss: 1.6572 - val_acc: 0.7360\n",
            "Epoch 20/30\n",
            "100/100 [==============================] - 5s 50ms/step - loss: 0.0455 - acc: 0.9840 - val_loss: 2.1940 - val_acc: 0.7100\n",
            "Epoch 21/30\n",
            "100/100 [==============================] - 6s 59ms/step - loss: 0.0312 - acc: 0.9875 - val_loss: 1.8796 - val_acc: 0.7340\n",
            "Epoch 22/30\n",
            "100/100 [==============================] - 5s 49ms/step - loss: 0.0351 - acc: 0.9880 - val_loss: 2.4873 - val_acc: 0.6980\n",
            "Epoch 23/30\n",
            "100/100 [==============================] - 5s 49ms/step - loss: 0.0497 - acc: 0.9860 - val_loss: 2.4158 - val_acc: 0.7270\n",
            "Epoch 24/30\n",
            "100/100 [==============================] - 6s 60ms/step - loss: 0.0728 - acc: 0.9870 - val_loss: 2.1193 - val_acc: 0.7190\n",
            "Epoch 25/30\n",
            "100/100 [==============================] - 5s 52ms/step - loss: 0.0195 - acc: 0.9935 - val_loss: 2.7200 - val_acc: 0.7220\n",
            "Epoch 26/30\n",
            "100/100 [==============================] - 6s 61ms/step - loss: 0.0293 - acc: 0.9915 - val_loss: 2.6270 - val_acc: 0.7210\n",
            "Epoch 27/30\n",
            "100/100 [==============================] - 5s 53ms/step - loss: 0.0030 - acc: 0.9990 - val_loss: 2.7354 - val_acc: 0.7210\n",
            "Epoch 28/30\n",
            "100/100 [==============================] - 6s 60ms/step - loss: 0.0096 - acc: 0.9980 - val_loss: 2.9032 - val_acc: 0.7390\n",
            "Epoch 29/30\n",
            "100/100 [==============================] - 5s 50ms/step - loss: 0.0082 - acc: 0.9975 - val_loss: 2.9687 - val_acc: 0.7160\n",
            "Epoch 30/30\n",
            "100/100 [==============================] - 5s 49ms/step - loss: 0.0184 - acc: 0.9955 - val_loss: 2.9676 - val_acc: 0.7280\n"
          ]
        }
      ]
    },
    {
      "cell_type": "code",
      "source": [
        "import matplotlib.pyplot as plt\n",
        "%matplotlib inline\n",
        "acc = history.history['acc']\n",
        "val_acc = history.history['val_acc']\n",
        "loss = history.history['loss']\n",
        "val_loss = history.history['val_loss']\n",
        "\n",
        "epochs = range(len(acc))\n",
        "\n",
        "plt.plot(epochs, acc, 'bo', label='Training acc')\n",
        "plt.plot(epochs, val_acc, 'b', label='Validation acc')\n",
        "plt.title('Training and validation accuracy')\n",
        "plt.legend()\n",
        "\n",
        "plt.figure()\n",
        "\n",
        "plt.plot(epochs, loss, 'bo', label='Training loss')\n",
        "plt.plot(epochs, val_loss, 'b', label='Validation loss')\n",
        "plt.title('Training and validation loss')\n",
        "plt.legend()\n",
        "\n",
        "plt.show()"
      ],
      "metadata": {
        "colab": {
          "base_uri": "https://localhost:8080/",
          "height": 887
        },
        "id": "AcRNnLXba_vj",
        "outputId": "40aa7dbf-bb22-4334-ecbf-1876da00612c"
      },
      "execution_count": 21,
      "outputs": [
        {
          "output_type": "display_data",
          "data": {
            "text/plain": [
              "<Figure size 640x480 with 1 Axes>"
            ],
            "image/png": "[encoded data removed]"
          },
          "metadata": {}
        },
        {
          "output_type": "display_data",
          "data": {
            "text/plain": [
              "<Figure size 640x480 with 1 Axes>"
            ],
            "image/png": "[encoded data removed]"
          },
          "metadata": {}
        }
      ]
    },
    {
      "cell_type": "markdown",
      "source": [
        "**The second Syntax with tf.data**"
      ],
      "metadata": {
        "id": "C_o2W_ZYd2-v"
      }
    },
    {
      "cell_type": "code",
      "source": [
        "import tensorflow as tf\n",
        "\n",
        "list_ds_train = tf.data.Dataset.list_files(str(train_dir + '/*/*.jpg'))\n",
        "list_ds_validation = tf.data.Dataset.list_files(str(validation_dir + '/*/*.jpg'))\n",
        "\n",
        "def parse_image(filename):\n",
        "    parts = tf.strings.split(filename, '/')\n",
        "    label = parts[-2]\n",
        "\n",
        "    image = tf.io.read_file(filename)\n",
        "    image = tf.image.decode_jpeg(image, channels=3)\n",
        "    image = tf.image.convert_image_dtype(image, tf.float32)\n",
        "    image = tf.image.resize(image, [150, 150])\n",
        "    lbl = tf.cast(label == 'dogs', tf.float32)\n",
        "    return image, lbl\n",
        "\n",
        "    ###میتونستی تقسیم 255 هم انجام بدی"
      ],
      "metadata": {
        "id": "N78pzHWIqsrw"
      },
      "execution_count": 57,
      "outputs": []
    },
    {
      "cell_type": "code",
      "source": [
        "AUTOTUNE=tf.data.AUTOTUNE ### تکنیکی که میگه اگر خواستی میتونی بری بیش از 20 تا داده برداری بیاری و فاین تیون کردنش دیگه با خودشه\n",
        "data_train = list_ds_train.map(parse_image).batch(20).prefetch(buffer_size=AUTOTUNE)\n",
        "data_validation = list_ds_validation.map(parse_image).batch(20).prefetch(buffer_size=AUTOTUNE)\n"
      ],
      "metadata": {
        "id": "vB2kaEqFtkkF"
      },
      "execution_count": 58,
      "outputs": []
    },
    {
      "cell_type": "code",
      "source": [
        "model.compile(loss='binary_crossentropy', optimizer='RMSprop', metrics=['acc'])"
      ],
      "metadata": {
        "id": "QN3oZiL3rXdq"
      },
      "execution_count": 50,
      "outputs": []
    },
    {
      "cell_type": "code",
      "source": [
        "h=model.fit(data_train, epochs=30, validation_data=data_validation)"
      ],
      "metadata": {
        "colab": {
          "base_uri": "https://localhost:8080/"
        },
        "id": "IT5adyOcru6_",
        "outputId": "0dac428b-57d4-49e2-b5ab-afaa52cd62d7"
      },
      "execution_count": 59,
      "outputs": [
        {
          "output_type": "stream",
          "name": "stdout",
          "text": [
            "Epoch 1/30\n",
            "100/100 [==============================] - 4s 36ms/step - loss: 0.0206 - acc: 0.9970 - val_loss: 3.7172 - val_acc: 0.7230\n",
            "Epoch 2/30\n",
            "100/100 [==============================] - 3s 34ms/step - loss: 0.0080 - acc: 0.9990 - val_loss: 4.1335 - val_acc: 0.7100\n",
            "Epoch 3/30\n",
            "100/100 [==============================] - 5s 50ms/step - loss: 0.0485 - acc: 0.9915 - val_loss: 3.6074 - val_acc: 0.7290\n",
            "Epoch 4/30\n",
            "100/100 [==============================] - 4s 36ms/step - loss: 0.0219 - acc: 0.9955 - val_loss: 3.9735 - val_acc: 0.7150\n",
            "Epoch 5/30\n",
            "100/100 [==============================] - 6s 64ms/step - loss: 0.0321 - acc: 0.9925 - val_loss: 4.7906 - val_acc: 0.7100\n",
            "Epoch 6/30\n",
            "100/100 [==============================] - 7s 70ms/step - loss: 0.0100 - acc: 0.9980 - val_loss: 4.7620 - val_acc: 0.7220\n",
            "Epoch 7/30\n",
            "100/100 [==============================] - 6s 63ms/step - loss: 0.0091 - acc: 0.9990 - val_loss: 4.5066 - val_acc: 0.7260\n",
            "Epoch 8/30\n",
            "100/100 [==============================] - 6s 59ms/step - loss: 0.0039 - acc: 0.9985 - val_loss: 4.3818 - val_acc: 0.7110\n",
            "Epoch 9/30\n",
            "100/100 [==============================] - 3s 34ms/step - loss: 0.0072 - acc: 0.9990 - val_loss: 4.2823 - val_acc: 0.7160\n",
            "Epoch 10/30\n",
            "100/100 [==============================] - 4s 37ms/step - loss: 0.0121 - acc: 0.9990 - val_loss: 3.9004 - val_acc: 0.7240\n",
            "Epoch 11/30\n",
            "100/100 [==============================] - 5s 47ms/step - loss: 0.0133 - acc: 0.9975 - val_loss: 4.0327 - val_acc: 0.7220\n",
            "Epoch 12/30\n",
            "100/100 [==============================] - 4s 37ms/step - loss: 0.0130 - acc: 0.9970 - val_loss: 4.3255 - val_acc: 0.7540\n",
            "Epoch 13/30\n",
            "100/100 [==============================] - 4s 36ms/step - loss: 0.0273 - acc: 0.9955 - val_loss: 4.2503 - val_acc: 0.7260\n",
            "Epoch 14/30\n",
            "100/100 [==============================] - 4s 36ms/step - loss: 0.0098 - acc: 0.9960 - val_loss: 4.9097 - val_acc: 0.7380\n",
            "Epoch 15/30\n",
            "100/100 [==============================] - 6s 56ms/step - loss: 4.8688e-05 - acc: 1.0000 - val_loss: 5.1322 - val_acc: 0.7350\n",
            "Epoch 16/30\n",
            "100/100 [==============================] - 5s 49ms/step - loss: 2.1325e-06 - acc: 1.0000 - val_loss: 5.1143 - val_acc: 0.7380\n",
            "Epoch 17/30\n",
            "100/100 [==============================] - 4s 38ms/step - loss: 4.8102e-07 - acc: 1.0000 - val_loss: 5.1912 - val_acc: 0.7370\n",
            "Epoch 18/30\n",
            "100/100 [==============================] - 4s 38ms/step - loss: 2.6256e-07 - acc: 1.0000 - val_loss: 5.1633 - val_acc: 0.7370\n",
            "Epoch 19/30\n",
            "100/100 [==============================] - 4s 40ms/step - loss: 1.9418e-07 - acc: 1.0000 - val_loss: 5.1985 - val_acc: 0.7380\n",
            "Epoch 20/30\n",
            "100/100 [==============================] - 4s 37ms/step - loss: 1.6578e-07 - acc: 1.0000 - val_loss: 5.1831 - val_acc: 0.7370\n",
            "Epoch 21/30\n",
            "100/100 [==============================] - 5s 48ms/step - loss: 1.4605e-07 - acc: 1.0000 - val_loss: 5.1944 - val_acc: 0.7380\n",
            "Epoch 22/30\n",
            "100/100 [==============================] - 3s 34ms/step - loss: 1.3382e-07 - acc: 1.0000 - val_loss: 5.2002 - val_acc: 0.7380\n",
            "Epoch 23/30\n",
            "100/100 [==============================] - 4s 35ms/step - loss: 1.2132e-07 - acc: 1.0000 - val_loss: 5.2046 - val_acc: 0.7390\n",
            "Epoch 24/30\n",
            "100/100 [==============================] - 5s 51ms/step - loss: 1.1525e-07 - acc: 1.0000 - val_loss: 5.2128 - val_acc: 0.7370\n",
            "Epoch 25/30\n",
            "100/100 [==============================] - 4s 45ms/step - loss: 1.0717e-07 - acc: 1.0000 - val_loss: 5.2167 - val_acc: 0.7370\n",
            "Epoch 26/30\n",
            "100/100 [==============================] - 3s 34ms/step - loss: 1.0207e-07 - acc: 1.0000 - val_loss: 5.2143 - val_acc: 0.7380\n",
            "Epoch 27/30\n",
            "100/100 [==============================] - 5s 54ms/step - loss: 9.8348e-08 - acc: 1.0000 - val_loss: 5.2186 - val_acc: 0.7390\n",
            "Epoch 28/30\n",
            "100/100 [==============================] - 3s 34ms/step - loss: 9.3046e-08 - acc: 1.0000 - val_loss: 5.2237 - val_acc: 0.7400\n",
            "Epoch 29/30\n",
            "100/100 [==============================] - 6s 60ms/step - loss: 8.9067e-08 - acc: 1.0000 - val_loss: 5.2263 - val_acc: 0.7400\n",
            "Epoch 30/30\n",
            "100/100 [==============================] - 4s 38ms/step - loss: 8.5045e-08 - acc: 1.0000 - val_loss: 5.2272 - val_acc: 0.7400\n"
          ]
        }
      ]
    },
    {
      "cell_type": "markdown",
      "source": [
        "Remove Overfitting"
      ],
      "metadata": {
        "id": "4K5Ph-pCve0k"
      }
    },
    {
      "cell_type": "code",
      "source": [],
      "metadata": {
        "id": "2jqaY13Wvkpo"
      },
      "execution_count": null,
      "outputs": []
    }
  ]
}